{
 "cells": [
  {
   "cell_type": "markdown",
   "id": "8a50ec9a",
   "metadata": {},
   "source": [
    "## FINAL PROJECT 2 HACKTIV"
   ]
  },
  {
   "cell_type": "markdown",
   "id": "157334a4",
   "metadata": {},
   "source": [
    "## a. INTRODUCTION"
   ]
  },
  {
   "cell_type": "markdown",
   "id": "1bed7805",
   "metadata": {},
   "source": [
    "### Mengenai Dataset\n",
    "- Jumlah dataset : 145.460 ROW & 23 COLUMN\n",
    "- Sumber Dataset : https://www.kaggle.com/datasets/jsphyg/weather-dataset-rattle-package"
   ]
  },
  {
   "cell_type": "markdown",
   "id": "36b2dfb4",
   "metadata": {},
   "source": [
    "### Tujuan\n",
    "- Untuk memprediksi Rain Tomorrow (Apakah hari berikutnya hujan (Ya)/(Tidak) dengan Logistic Regression dan Support Vector Machine (SVM).\n",
    "- Melihat Perbandingan dari Skor Hasil Akurasi prediksi Rain Tomorrow antara Logistic Regression dengan Support Vector Machine (SVM)."
   ]
  },
  {
   "cell_type": "markdown",
   "id": "4731c043",
   "metadata": {},
   "source": [
    "## b. IMPORT LIBRARY"
   ]
  },
  {
   "cell_type": "code",
   "execution_count": 1,
   "id": "6420fdde",
   "metadata": {},
   "outputs": [],
   "source": [
    "# import library yang dibutuhkan\n",
    "import pandas as pd\n",
    "import matplotlib.pyplot as plt\n",
    "import numpy as np\n",
    "import seaborn as sns\n",
    "from sklearn import preprocessing\n",
    "from sklearn.preprocessing import StandardScaler, LabelEncoder\n",
    "from sklearn.model_selection import train_test_split\n",
    "from sklearn.metrics import mean_squared_error, mean_absolute_error\n",
    "from sklearn.linear_model import LogisticRegression\n",
    "from sklearn.svm import SVC, LinearSVC\n",
    "from sklearn.metrics import f1_score, average_precision_score, accuracy_score\n",
    "from sklearn.metrics import confusion_matrix, classification_report, precision_score, recall_score"
   ]
  },
  {
   "cell_type": "markdown",
   "id": "5408332c",
   "metadata": {},
   "source": [
    "## c.DATA LOADING \n",
    "Pada Tahap Data Loading, hal yang dilakukan adalah :\n",
    "- Mengimpor dataset\n",
    "- Menampilkan tabel dataset (teratas dan terbawah)\n",
    "- Melihat jumlah baris dan kolom\n",
    "- Melihat informasi tiap variabel\n",
    "- Mengubah dtype pada variabel Date menjadi datetime"
   ]
  },
  {
   "cell_type": "code",
   "execution_count": 2,
   "id": "b3c7dd52",
   "metadata": {},
   "outputs": [],
   "source": [
    "# mengimpor dataset\n",
    "df = pd.read_csv(\"weatherAUS.csv\")"
   ]
  },
  {
   "cell_type": "code",
   "execution_count": 3,
   "id": "1d79d823",
   "metadata": {},
   "outputs": [
    {
     "data": {
      "text/html": [
       "<div>\n",
       "<style scoped>\n",
       "    .dataframe tbody tr th:only-of-type {\n",
       "        vertical-align: middle;\n",
       "    }\n",
       "\n",
       "    .dataframe tbody tr th {\n",
       "        vertical-align: top;\n",
       "    }\n",
       "\n",
       "    .dataframe thead th {\n",
       "        text-align: right;\n",
       "    }\n",
       "</style>\n",
       "<table border=\"1\" class=\"dataframe\">\n",
       "  <thead>\n",
       "    <tr style=\"text-align: right;\">\n",
       "      <th></th>\n",
       "      <th>Date</th>\n",
       "      <th>Location</th>\n",
       "      <th>MinTemp</th>\n",
       "      <th>MaxTemp</th>\n",
       "      <th>Rainfall</th>\n",
       "      <th>Evaporation</th>\n",
       "      <th>Sunshine</th>\n",
       "      <th>WindGustDir</th>\n",
       "      <th>WindGustSpeed</th>\n",
       "      <th>WindDir9am</th>\n",
       "      <th>...</th>\n",
       "      <th>Humidity9am</th>\n",
       "      <th>Humidity3pm</th>\n",
       "      <th>Pressure9am</th>\n",
       "      <th>Pressure3pm</th>\n",
       "      <th>Cloud9am</th>\n",
       "      <th>Cloud3pm</th>\n",
       "      <th>Temp9am</th>\n",
       "      <th>Temp3pm</th>\n",
       "      <th>RainToday</th>\n",
       "      <th>RainTomorrow</th>\n",
       "    </tr>\n",
       "  </thead>\n",
       "  <tbody>\n",
       "    <tr>\n",
       "      <th>0</th>\n",
       "      <td>2008-12-01</td>\n",
       "      <td>Albury</td>\n",
       "      <td>13.4</td>\n",
       "      <td>22.9</td>\n",
       "      <td>0.6</td>\n",
       "      <td>NaN</td>\n",
       "      <td>NaN</td>\n",
       "      <td>W</td>\n",
       "      <td>44.0</td>\n",
       "      <td>W</td>\n",
       "      <td>...</td>\n",
       "      <td>71.0</td>\n",
       "      <td>22.0</td>\n",
       "      <td>1007.7</td>\n",
       "      <td>1007.1</td>\n",
       "      <td>8.0</td>\n",
       "      <td>NaN</td>\n",
       "      <td>16.9</td>\n",
       "      <td>21.8</td>\n",
       "      <td>No</td>\n",
       "      <td>No</td>\n",
       "    </tr>\n",
       "    <tr>\n",
       "      <th>1</th>\n",
       "      <td>2008-12-02</td>\n",
       "      <td>Albury</td>\n",
       "      <td>7.4</td>\n",
       "      <td>25.1</td>\n",
       "      <td>0.0</td>\n",
       "      <td>NaN</td>\n",
       "      <td>NaN</td>\n",
       "      <td>WNW</td>\n",
       "      <td>44.0</td>\n",
       "      <td>NNW</td>\n",
       "      <td>...</td>\n",
       "      <td>44.0</td>\n",
       "      <td>25.0</td>\n",
       "      <td>1010.6</td>\n",
       "      <td>1007.8</td>\n",
       "      <td>NaN</td>\n",
       "      <td>NaN</td>\n",
       "      <td>17.2</td>\n",
       "      <td>24.3</td>\n",
       "      <td>No</td>\n",
       "      <td>No</td>\n",
       "    </tr>\n",
       "    <tr>\n",
       "      <th>2</th>\n",
       "      <td>2008-12-03</td>\n",
       "      <td>Albury</td>\n",
       "      <td>12.9</td>\n",
       "      <td>25.7</td>\n",
       "      <td>0.0</td>\n",
       "      <td>NaN</td>\n",
       "      <td>NaN</td>\n",
       "      <td>WSW</td>\n",
       "      <td>46.0</td>\n",
       "      <td>W</td>\n",
       "      <td>...</td>\n",
       "      <td>38.0</td>\n",
       "      <td>30.0</td>\n",
       "      <td>1007.6</td>\n",
       "      <td>1008.7</td>\n",
       "      <td>NaN</td>\n",
       "      <td>2.0</td>\n",
       "      <td>21.0</td>\n",
       "      <td>23.2</td>\n",
       "      <td>No</td>\n",
       "      <td>No</td>\n",
       "    </tr>\n",
       "    <tr>\n",
       "      <th>3</th>\n",
       "      <td>2008-12-04</td>\n",
       "      <td>Albury</td>\n",
       "      <td>9.2</td>\n",
       "      <td>28.0</td>\n",
       "      <td>0.0</td>\n",
       "      <td>NaN</td>\n",
       "      <td>NaN</td>\n",
       "      <td>NE</td>\n",
       "      <td>24.0</td>\n",
       "      <td>SE</td>\n",
       "      <td>...</td>\n",
       "      <td>45.0</td>\n",
       "      <td>16.0</td>\n",
       "      <td>1017.6</td>\n",
       "      <td>1012.8</td>\n",
       "      <td>NaN</td>\n",
       "      <td>NaN</td>\n",
       "      <td>18.1</td>\n",
       "      <td>26.5</td>\n",
       "      <td>No</td>\n",
       "      <td>No</td>\n",
       "    </tr>\n",
       "  </tbody>\n",
       "</table>\n",
       "<p>4 rows × 23 columns</p>\n",
       "</div>"
      ],
      "text/plain": [
       "         Date Location  MinTemp  MaxTemp  Rainfall  Evaporation  Sunshine  \\\n",
       "0  2008-12-01   Albury     13.4     22.9       0.6          NaN       NaN   \n",
       "1  2008-12-02   Albury      7.4     25.1       0.0          NaN       NaN   \n",
       "2  2008-12-03   Albury     12.9     25.7       0.0          NaN       NaN   \n",
       "3  2008-12-04   Albury      9.2     28.0       0.0          NaN       NaN   \n",
       "\n",
       "  WindGustDir  WindGustSpeed WindDir9am  ... Humidity9am  Humidity3pm  \\\n",
       "0           W           44.0          W  ...        71.0         22.0   \n",
       "1         WNW           44.0        NNW  ...        44.0         25.0   \n",
       "2         WSW           46.0          W  ...        38.0         30.0   \n",
       "3          NE           24.0         SE  ...        45.0         16.0   \n",
       "\n",
       "   Pressure9am  Pressure3pm  Cloud9am  Cloud3pm  Temp9am  Temp3pm  RainToday  \\\n",
       "0       1007.7       1007.1       8.0       NaN     16.9     21.8         No   \n",
       "1       1010.6       1007.8       NaN       NaN     17.2     24.3         No   \n",
       "2       1007.6       1008.7       NaN       2.0     21.0     23.2         No   \n",
       "3       1017.6       1012.8       NaN       NaN     18.1     26.5         No   \n",
       "\n",
       "   RainTomorrow  \n",
       "0            No  \n",
       "1            No  \n",
       "2            No  \n",
       "3            No  \n",
       "\n",
       "[4 rows x 23 columns]"
      ]
     },
     "execution_count": 3,
     "metadata": {},
     "output_type": "execute_result"
    }
   ],
   "source": [
    "# menampilkan 4 dataset terbawah\n",
    "df.head(4)"
   ]
  },
  {
   "cell_type": "code",
   "execution_count": 4,
   "id": "c810b60a",
   "metadata": {},
   "outputs": [
    {
     "data": {
      "text/html": [
       "<div>\n",
       "<style scoped>\n",
       "    .dataframe tbody tr th:only-of-type {\n",
       "        vertical-align: middle;\n",
       "    }\n",
       "\n",
       "    .dataframe tbody tr th {\n",
       "        vertical-align: top;\n",
       "    }\n",
       "\n",
       "    .dataframe thead th {\n",
       "        text-align: right;\n",
       "    }\n",
       "</style>\n",
       "<table border=\"1\" class=\"dataframe\">\n",
       "  <thead>\n",
       "    <tr style=\"text-align: right;\">\n",
       "      <th></th>\n",
       "      <th>Date</th>\n",
       "      <th>Location</th>\n",
       "      <th>MinTemp</th>\n",
       "      <th>MaxTemp</th>\n",
       "      <th>Rainfall</th>\n",
       "      <th>Evaporation</th>\n",
       "      <th>Sunshine</th>\n",
       "      <th>WindGustDir</th>\n",
       "      <th>WindGustSpeed</th>\n",
       "      <th>WindDir9am</th>\n",
       "      <th>...</th>\n",
       "      <th>Humidity9am</th>\n",
       "      <th>Humidity3pm</th>\n",
       "      <th>Pressure9am</th>\n",
       "      <th>Pressure3pm</th>\n",
       "      <th>Cloud9am</th>\n",
       "      <th>Cloud3pm</th>\n",
       "      <th>Temp9am</th>\n",
       "      <th>Temp3pm</th>\n",
       "      <th>RainToday</th>\n",
       "      <th>RainTomorrow</th>\n",
       "    </tr>\n",
       "  </thead>\n",
       "  <tbody>\n",
       "    <tr>\n",
       "      <th>145456</th>\n",
       "      <td>2017-06-22</td>\n",
       "      <td>Uluru</td>\n",
       "      <td>3.6</td>\n",
       "      <td>25.3</td>\n",
       "      <td>0.0</td>\n",
       "      <td>NaN</td>\n",
       "      <td>NaN</td>\n",
       "      <td>NNW</td>\n",
       "      <td>22.0</td>\n",
       "      <td>SE</td>\n",
       "      <td>...</td>\n",
       "      <td>56.0</td>\n",
       "      <td>21.0</td>\n",
       "      <td>1023.5</td>\n",
       "      <td>1019.1</td>\n",
       "      <td>NaN</td>\n",
       "      <td>NaN</td>\n",
       "      <td>10.9</td>\n",
       "      <td>24.5</td>\n",
       "      <td>No</td>\n",
       "      <td>No</td>\n",
       "    </tr>\n",
       "    <tr>\n",
       "      <th>145457</th>\n",
       "      <td>2017-06-23</td>\n",
       "      <td>Uluru</td>\n",
       "      <td>5.4</td>\n",
       "      <td>26.9</td>\n",
       "      <td>0.0</td>\n",
       "      <td>NaN</td>\n",
       "      <td>NaN</td>\n",
       "      <td>N</td>\n",
       "      <td>37.0</td>\n",
       "      <td>SE</td>\n",
       "      <td>...</td>\n",
       "      <td>53.0</td>\n",
       "      <td>24.0</td>\n",
       "      <td>1021.0</td>\n",
       "      <td>1016.8</td>\n",
       "      <td>NaN</td>\n",
       "      <td>NaN</td>\n",
       "      <td>12.5</td>\n",
       "      <td>26.1</td>\n",
       "      <td>No</td>\n",
       "      <td>No</td>\n",
       "    </tr>\n",
       "    <tr>\n",
       "      <th>145458</th>\n",
       "      <td>2017-06-24</td>\n",
       "      <td>Uluru</td>\n",
       "      <td>7.8</td>\n",
       "      <td>27.0</td>\n",
       "      <td>0.0</td>\n",
       "      <td>NaN</td>\n",
       "      <td>NaN</td>\n",
       "      <td>SE</td>\n",
       "      <td>28.0</td>\n",
       "      <td>SSE</td>\n",
       "      <td>...</td>\n",
       "      <td>51.0</td>\n",
       "      <td>24.0</td>\n",
       "      <td>1019.4</td>\n",
       "      <td>1016.5</td>\n",
       "      <td>3.0</td>\n",
       "      <td>2.0</td>\n",
       "      <td>15.1</td>\n",
       "      <td>26.0</td>\n",
       "      <td>No</td>\n",
       "      <td>No</td>\n",
       "    </tr>\n",
       "    <tr>\n",
       "      <th>145459</th>\n",
       "      <td>2017-06-25</td>\n",
       "      <td>Uluru</td>\n",
       "      <td>14.9</td>\n",
       "      <td>NaN</td>\n",
       "      <td>0.0</td>\n",
       "      <td>NaN</td>\n",
       "      <td>NaN</td>\n",
       "      <td>NaN</td>\n",
       "      <td>NaN</td>\n",
       "      <td>ESE</td>\n",
       "      <td>...</td>\n",
       "      <td>62.0</td>\n",
       "      <td>36.0</td>\n",
       "      <td>1020.2</td>\n",
       "      <td>1017.9</td>\n",
       "      <td>8.0</td>\n",
       "      <td>8.0</td>\n",
       "      <td>15.0</td>\n",
       "      <td>20.9</td>\n",
       "      <td>No</td>\n",
       "      <td>NaN</td>\n",
       "    </tr>\n",
       "  </tbody>\n",
       "</table>\n",
       "<p>4 rows × 23 columns</p>\n",
       "</div>"
      ],
      "text/plain": [
       "              Date Location  MinTemp  MaxTemp  Rainfall  Evaporation  \\\n",
       "145456  2017-06-22    Uluru      3.6     25.3       0.0          NaN   \n",
       "145457  2017-06-23    Uluru      5.4     26.9       0.0          NaN   \n",
       "145458  2017-06-24    Uluru      7.8     27.0       0.0          NaN   \n",
       "145459  2017-06-25    Uluru     14.9      NaN       0.0          NaN   \n",
       "\n",
       "        Sunshine WindGustDir  WindGustSpeed WindDir9am  ... Humidity9am  \\\n",
       "145456       NaN         NNW           22.0         SE  ...        56.0   \n",
       "145457       NaN           N           37.0         SE  ...        53.0   \n",
       "145458       NaN          SE           28.0        SSE  ...        51.0   \n",
       "145459       NaN         NaN            NaN        ESE  ...        62.0   \n",
       "\n",
       "        Humidity3pm  Pressure9am  Pressure3pm  Cloud9am  Cloud3pm  Temp9am  \\\n",
       "145456         21.0       1023.5       1019.1       NaN       NaN     10.9   \n",
       "145457         24.0       1021.0       1016.8       NaN       NaN     12.5   \n",
       "145458         24.0       1019.4       1016.5       3.0       2.0     15.1   \n",
       "145459         36.0       1020.2       1017.9       8.0       8.0     15.0   \n",
       "\n",
       "        Temp3pm  RainToday  RainTomorrow  \n",
       "145456     24.5         No            No  \n",
       "145457     26.1         No            No  \n",
       "145458     26.0         No            No  \n",
       "145459     20.9         No           NaN  \n",
       "\n",
       "[4 rows x 23 columns]"
      ]
     },
     "execution_count": 4,
     "metadata": {},
     "output_type": "execute_result"
    }
   ],
   "source": [
    "# menampilkan 4 dataset terbawah\n",
    "df.tail(4)"
   ]
  },
  {
   "cell_type": "code",
   "execution_count": 5,
   "id": "68323b5f",
   "metadata": {},
   "outputs": [
    {
     "data": {
      "text/plain": [
       "(145460, 23)"
      ]
     },
     "execution_count": 5,
     "metadata": {},
     "output_type": "execute_result"
    }
   ],
   "source": [
    "#melihat jumlah baris dan kolom\n",
    "df.shape"
   ]
  },
  {
   "cell_type": "markdown",
   "id": "470182b9",
   "metadata": {},
   "source": [
    "Terdapat **145.460 Baris** dan **23 Kolom**"
   ]
  },
  {
   "cell_type": "code",
   "execution_count": 6,
   "id": "de9375a0",
   "metadata": {},
   "outputs": [
    {
     "name": "stdout",
     "output_type": "stream",
     "text": [
      "<class 'pandas.core.frame.DataFrame'>\n",
      "RangeIndex: 145460 entries, 0 to 145459\n",
      "Data columns (total 23 columns):\n",
      " #   Column         Non-Null Count   Dtype  \n",
      "---  ------         --------------   -----  \n",
      " 0   Date           145460 non-null  object \n",
      " 1   Location       145460 non-null  object \n",
      " 2   MinTemp        143975 non-null  float64\n",
      " 3   MaxTemp        144199 non-null  float64\n",
      " 4   Rainfall       142199 non-null  float64\n",
      " 5   Evaporation    82670 non-null   float64\n",
      " 6   Sunshine       75625 non-null   float64\n",
      " 7   WindGustDir    135134 non-null  object \n",
      " 8   WindGustSpeed  135197 non-null  float64\n",
      " 9   WindDir9am     134894 non-null  object \n",
      " 10  WindDir3pm     141232 non-null  object \n",
      " 11  WindSpeed9am   143693 non-null  float64\n",
      " 12  WindSpeed3pm   142398 non-null  float64\n",
      " 13  Humidity9am    142806 non-null  float64\n",
      " 14  Humidity3pm    140953 non-null  float64\n",
      " 15  Pressure9am    130395 non-null  float64\n",
      " 16  Pressure3pm    130432 non-null  float64\n",
      " 17  Cloud9am       89572 non-null   float64\n",
      " 18  Cloud3pm       86102 non-null   float64\n",
      " 19  Temp9am        143693 non-null  float64\n",
      " 20  Temp3pm        141851 non-null  float64\n",
      " 21  RainToday      142199 non-null  object \n",
      " 22  RainTomorrow   142193 non-null  object \n",
      "dtypes: float64(16), object(7)\n",
      "memory usage: 25.5+ MB\n"
     ]
    }
   ],
   "source": [
    "#melihat informasi setiap variabel\n",
    "df.info()"
   ]
  },
  {
   "cell_type": "code",
   "execution_count": 7,
   "id": "551631fd",
   "metadata": {},
   "outputs": [],
   "source": [
    "# mengubah dtype pada variabel Date menjadi datetime\n",
    "df['Date'] = pd.to_datetime(df['Date'])"
   ]
  },
  {
   "cell_type": "code",
   "execution_count": 8,
   "id": "f28fb281",
   "metadata": {},
   "outputs": [
    {
     "data": {
      "text/plain": [
       "0        2008-12-01\n",
       "1        2008-12-02\n",
       "2        2008-12-03\n",
       "3        2008-12-04\n",
       "4        2008-12-05\n",
       "            ...    \n",
       "145455   2017-06-21\n",
       "145456   2017-06-22\n",
       "145457   2017-06-23\n",
       "145458   2017-06-24\n",
       "145459   2017-06-25\n",
       "Name: Date, Length: 145460, dtype: datetime64[ns]"
      ]
     },
     "execution_count": 8,
     "metadata": {},
     "output_type": "execute_result"
    }
   ],
   "source": [
    "#cek kembali tipe data pada kolom\n",
    "df['Date']"
   ]
  },
  {
   "cell_type": "markdown",
   "id": "1c811ff7",
   "metadata": {},
   "source": [
    "## d. DATA CLEANING\n",
    "Pada tahap data cleaning, hal yang dilakukan adalah :\n",
    "- Mengecek missing value\n",
    "- Menghilangkan missing value\n",
    "- Cek duplikasi data\n",
    "- Menambahkan 3 variabel baru ('year', 'month' dan 'day')\n",
    "- Mengubah data variabel Rain Today dan Rain Tomorrow menjadi data numerik"
   ]
  },
  {
   "cell_type": "code",
   "execution_count": 9,
   "id": "317fbbff",
   "metadata": {},
   "outputs": [
    {
     "data": {
      "text/plain": [
       "Date                 0\n",
       "Location             0\n",
       "MinTemp           1485\n",
       "MaxTemp           1261\n",
       "Rainfall          3261\n",
       "Evaporation      62790\n",
       "Sunshine         69835\n",
       "WindGustDir      10326\n",
       "WindGustSpeed    10263\n",
       "WindDir9am       10566\n",
       "WindDir3pm        4228\n",
       "WindSpeed9am      1767\n",
       "WindSpeed3pm      3062\n",
       "Humidity9am       2654\n",
       "Humidity3pm       4507\n",
       "Pressure9am      15065\n",
       "Pressure3pm      15028\n",
       "Cloud9am         55888\n",
       "Cloud3pm         59358\n",
       "Temp9am           1767\n",
       "Temp3pm           3609\n",
       "RainToday         3261\n",
       "RainTomorrow      3267\n",
       "dtype: int64"
      ]
     },
     "execution_count": 9,
     "metadata": {},
     "output_type": "execute_result"
    }
   ],
   "source": [
    "#mengecek missing value\n",
    "df.isnull().sum()"
   ]
  },
  {
   "cell_type": "code",
   "execution_count": 10,
   "id": "30454246",
   "metadata": {},
   "outputs": [],
   "source": [
    "# drop missing value\n",
    "df = df.dropna()"
   ]
  },
  {
   "cell_type": "code",
   "execution_count": 11,
   "id": "33b3c211",
   "metadata": {},
   "outputs": [
    {
     "data": {
      "text/plain": [
       "Date             0\n",
       "Location         0\n",
       "MinTemp          0\n",
       "MaxTemp          0\n",
       "Rainfall         0\n",
       "Evaporation      0\n",
       "Sunshine         0\n",
       "WindGustDir      0\n",
       "WindGustSpeed    0\n",
       "WindDir9am       0\n",
       "WindDir3pm       0\n",
       "WindSpeed9am     0\n",
       "WindSpeed3pm     0\n",
       "Humidity9am      0\n",
       "Humidity3pm      0\n",
       "Pressure9am      0\n",
       "Pressure3pm      0\n",
       "Cloud9am         0\n",
       "Cloud3pm         0\n",
       "Temp9am          0\n",
       "Temp3pm          0\n",
       "RainToday        0\n",
       "RainTomorrow     0\n",
       "dtype: int64"
      ]
     },
     "execution_count": 11,
     "metadata": {},
     "output_type": "execute_result"
    }
   ],
   "source": [
    "# check if there any missing value\n",
    "df.isnull().sum()"
   ]
  },
  {
   "cell_type": "code",
   "execution_count": 12,
   "id": "2a56da33",
   "metadata": {},
   "outputs": [
    {
     "data": {
      "text/plain": [
       "False"
      ]
     },
     "execution_count": 12,
     "metadata": {},
     "output_type": "execute_result"
    }
   ],
   "source": [
    "#cek duplikasi data\n",
    "df.duplicated().any()"
   ]
  },
  {
   "cell_type": "markdown",
   "id": "e4954e06",
   "metadata": {},
   "source": [
    "Tidak ada data yang **terduplikasi**"
   ]
  },
  {
   "cell_type": "markdown",
   "id": "a7138817",
   "metadata": {},
   "source": [
    "Menambahkan **3 variabel baru** ('year', 'month' dan 'day'). Variabel ini akan digunakan pada tahap visualisasi data nanti"
   ]
  },
  {
   "cell_type": "code",
   "execution_count": 13,
   "id": "b73f665e",
   "metadata": {},
   "outputs": [],
   "source": [
    "# Menambahkan 3 variabel baru ('year', 'month' dan 'day')\n",
    "df['year'] = df['Date'].dt.year\n",
    "df['month'] = df['Date'].dt.month\n",
    "df['day'] = df['Date'].dt.day"
   ]
  },
  {
   "cell_type": "code",
   "execution_count": 14,
   "id": "635e7f4c",
   "metadata": {
    "scrolled": true
   },
   "outputs": [
    {
     "data": {
      "text/html": [
       "<div>\n",
       "<style scoped>\n",
       "    .dataframe tbody tr th:only-of-type {\n",
       "        vertical-align: middle;\n",
       "    }\n",
       "\n",
       "    .dataframe tbody tr th {\n",
       "        vertical-align: top;\n",
       "    }\n",
       "\n",
       "    .dataframe thead th {\n",
       "        text-align: right;\n",
       "    }\n",
       "</style>\n",
       "<table border=\"1\" class=\"dataframe\">\n",
       "  <thead>\n",
       "    <tr style=\"text-align: right;\">\n",
       "      <th></th>\n",
       "      <th>Date</th>\n",
       "      <th>Location</th>\n",
       "      <th>MinTemp</th>\n",
       "      <th>MaxTemp</th>\n",
       "      <th>Rainfall</th>\n",
       "      <th>Evaporation</th>\n",
       "      <th>Sunshine</th>\n",
       "      <th>WindGustDir</th>\n",
       "      <th>WindGustSpeed</th>\n",
       "      <th>WindDir9am</th>\n",
       "      <th>...</th>\n",
       "      <th>Pressure3pm</th>\n",
       "      <th>Cloud9am</th>\n",
       "      <th>Cloud3pm</th>\n",
       "      <th>Temp9am</th>\n",
       "      <th>Temp3pm</th>\n",
       "      <th>RainToday</th>\n",
       "      <th>RainTomorrow</th>\n",
       "      <th>year</th>\n",
       "      <th>month</th>\n",
       "      <th>day</th>\n",
       "    </tr>\n",
       "  </thead>\n",
       "  <tbody>\n",
       "    <tr>\n",
       "      <th>6049</th>\n",
       "      <td>2009-01-01</td>\n",
       "      <td>Cobar</td>\n",
       "      <td>17.9</td>\n",
       "      <td>35.2</td>\n",
       "      <td>0.0</td>\n",
       "      <td>12.0</td>\n",
       "      <td>12.3</td>\n",
       "      <td>SSW</td>\n",
       "      <td>48.0</td>\n",
       "      <td>ENE</td>\n",
       "      <td>...</td>\n",
       "      <td>1004.4</td>\n",
       "      <td>2.0</td>\n",
       "      <td>5.0</td>\n",
       "      <td>26.6</td>\n",
       "      <td>33.4</td>\n",
       "      <td>No</td>\n",
       "      <td>No</td>\n",
       "      <td>2009</td>\n",
       "      <td>1</td>\n",
       "      <td>1</td>\n",
       "    </tr>\n",
       "    <tr>\n",
       "      <th>6050</th>\n",
       "      <td>2009-01-02</td>\n",
       "      <td>Cobar</td>\n",
       "      <td>18.4</td>\n",
       "      <td>28.9</td>\n",
       "      <td>0.0</td>\n",
       "      <td>14.8</td>\n",
       "      <td>13.0</td>\n",
       "      <td>S</td>\n",
       "      <td>37.0</td>\n",
       "      <td>SSE</td>\n",
       "      <td>...</td>\n",
       "      <td>1012.1</td>\n",
       "      <td>1.0</td>\n",
       "      <td>1.0</td>\n",
       "      <td>20.3</td>\n",
       "      <td>27.0</td>\n",
       "      <td>No</td>\n",
       "      <td>No</td>\n",
       "      <td>2009</td>\n",
       "      <td>1</td>\n",
       "      <td>2</td>\n",
       "    </tr>\n",
       "    <tr>\n",
       "      <th>6052</th>\n",
       "      <td>2009-01-04</td>\n",
       "      <td>Cobar</td>\n",
       "      <td>19.4</td>\n",
       "      <td>37.6</td>\n",
       "      <td>0.0</td>\n",
       "      <td>10.8</td>\n",
       "      <td>10.6</td>\n",
       "      <td>NNE</td>\n",
       "      <td>46.0</td>\n",
       "      <td>NNE</td>\n",
       "      <td>...</td>\n",
       "      <td>1009.2</td>\n",
       "      <td>1.0</td>\n",
       "      <td>6.0</td>\n",
       "      <td>28.7</td>\n",
       "      <td>34.9</td>\n",
       "      <td>No</td>\n",
       "      <td>No</td>\n",
       "      <td>2009</td>\n",
       "      <td>1</td>\n",
       "      <td>4</td>\n",
       "    </tr>\n",
       "    <tr>\n",
       "      <th>6053</th>\n",
       "      <td>2009-01-05</td>\n",
       "      <td>Cobar</td>\n",
       "      <td>21.9</td>\n",
       "      <td>38.4</td>\n",
       "      <td>0.0</td>\n",
       "      <td>11.4</td>\n",
       "      <td>12.2</td>\n",
       "      <td>WNW</td>\n",
       "      <td>31.0</td>\n",
       "      <td>WNW</td>\n",
       "      <td>...</td>\n",
       "      <td>1009.1</td>\n",
       "      <td>1.0</td>\n",
       "      <td>5.0</td>\n",
       "      <td>29.1</td>\n",
       "      <td>35.6</td>\n",
       "      <td>No</td>\n",
       "      <td>No</td>\n",
       "      <td>2009</td>\n",
       "      <td>1</td>\n",
       "      <td>5</td>\n",
       "    </tr>\n",
       "    <tr>\n",
       "      <th>6054</th>\n",
       "      <td>2009-01-06</td>\n",
       "      <td>Cobar</td>\n",
       "      <td>24.2</td>\n",
       "      <td>41.0</td>\n",
       "      <td>0.0</td>\n",
       "      <td>11.2</td>\n",
       "      <td>8.4</td>\n",
       "      <td>WNW</td>\n",
       "      <td>35.0</td>\n",
       "      <td>NW</td>\n",
       "      <td>...</td>\n",
       "      <td>1007.4</td>\n",
       "      <td>1.0</td>\n",
       "      <td>6.0</td>\n",
       "      <td>33.6</td>\n",
       "      <td>37.6</td>\n",
       "      <td>No</td>\n",
       "      <td>No</td>\n",
       "      <td>2009</td>\n",
       "      <td>1</td>\n",
       "      <td>6</td>\n",
       "    </tr>\n",
       "  </tbody>\n",
       "</table>\n",
       "<p>5 rows × 26 columns</p>\n",
       "</div>"
      ],
      "text/plain": [
       "           Date Location  MinTemp  MaxTemp  Rainfall  Evaporation  Sunshine  \\\n",
       "6049 2009-01-01    Cobar     17.9     35.2       0.0         12.0      12.3   \n",
       "6050 2009-01-02    Cobar     18.4     28.9       0.0         14.8      13.0   \n",
       "6052 2009-01-04    Cobar     19.4     37.6       0.0         10.8      10.6   \n",
       "6053 2009-01-05    Cobar     21.9     38.4       0.0         11.4      12.2   \n",
       "6054 2009-01-06    Cobar     24.2     41.0       0.0         11.2       8.4   \n",
       "\n",
       "     WindGustDir  WindGustSpeed WindDir9am  ... Pressure3pm  Cloud9am  \\\n",
       "6049         SSW           48.0        ENE  ...      1004.4       2.0   \n",
       "6050           S           37.0        SSE  ...      1012.1       1.0   \n",
       "6052         NNE           46.0        NNE  ...      1009.2       1.0   \n",
       "6053         WNW           31.0        WNW  ...      1009.1       1.0   \n",
       "6054         WNW           35.0         NW  ...      1007.4       1.0   \n",
       "\n",
       "      Cloud3pm  Temp9am  Temp3pm  RainToday  RainTomorrow  year  month  day  \n",
       "6049       5.0     26.6     33.4         No            No  2009      1    1  \n",
       "6050       1.0     20.3     27.0         No            No  2009      1    2  \n",
       "6052       6.0     28.7     34.9         No            No  2009      1    4  \n",
       "6053       5.0     29.1     35.6         No            No  2009      1    5  \n",
       "6054       6.0     33.6     37.6         No            No  2009      1    6  \n",
       "\n",
       "[5 rows x 26 columns]"
      ]
     },
     "execution_count": 14,
     "metadata": {},
     "output_type": "execute_result"
    }
   ],
   "source": [
    "# mengecek jika 3 variabel sudah ditambahkan\n",
    "df.head(5)"
   ]
  },
  {
   "cell_type": "code",
   "execution_count": 15,
   "id": "90d97a37",
   "metadata": {},
   "outputs": [],
   "source": [
    "### mengubah data variabel Rain Today dan Rain Tomorrow menjadi data numerik\n",
    "df['RainToday'] = df['RainToday'].map({'No':0, 'Yes':1})\n",
    "df['RainTomorrow'] = df['RainTomorrow'].map({'No':0, 'Yes':1})"
   ]
  },
  {
   "cell_type": "code",
   "execution_count": 16,
   "id": "a8f50f4b",
   "metadata": {},
   "outputs": [
    {
     "data": {
      "text/html": [
       "<div>\n",
       "<style scoped>\n",
       "    .dataframe tbody tr th:only-of-type {\n",
       "        vertical-align: middle;\n",
       "    }\n",
       "\n",
       "    .dataframe tbody tr th {\n",
       "        vertical-align: top;\n",
       "    }\n",
       "\n",
       "    .dataframe thead th {\n",
       "        text-align: right;\n",
       "    }\n",
       "</style>\n",
       "<table border=\"1\" class=\"dataframe\">\n",
       "  <thead>\n",
       "    <tr style=\"text-align: right;\">\n",
       "      <th></th>\n",
       "      <th>RainToday</th>\n",
       "      <th>RainTomorrow</th>\n",
       "    </tr>\n",
       "  </thead>\n",
       "  <tbody>\n",
       "    <tr>\n",
       "      <th>6049</th>\n",
       "      <td>0</td>\n",
       "      <td>0</td>\n",
       "    </tr>\n",
       "    <tr>\n",
       "      <th>6050</th>\n",
       "      <td>0</td>\n",
       "      <td>0</td>\n",
       "    </tr>\n",
       "    <tr>\n",
       "      <th>6052</th>\n",
       "      <td>0</td>\n",
       "      <td>0</td>\n",
       "    </tr>\n",
       "    <tr>\n",
       "      <th>6053</th>\n",
       "      <td>0</td>\n",
       "      <td>0</td>\n",
       "    </tr>\n",
       "    <tr>\n",
       "      <th>6054</th>\n",
       "      <td>0</td>\n",
       "      <td>0</td>\n",
       "    </tr>\n",
       "  </tbody>\n",
       "</table>\n",
       "</div>"
      ],
      "text/plain": [
       "      RainToday  RainTomorrow\n",
       "6049          0             0\n",
       "6050          0             0\n",
       "6052          0             0\n",
       "6053          0             0\n",
       "6054          0             0"
      ]
     },
     "execution_count": 16,
     "metadata": {},
     "output_type": "execute_result"
    }
   ],
   "source": [
    "#cek apakah datanya sudah diubah\n",
    "df[['RainToday','RainTomorrow']].head(5)"
   ]
  },
  {
   "cell_type": "code",
   "execution_count": 17,
   "id": "04318e88",
   "metadata": {},
   "outputs": [
    {
     "data": {
      "text/plain": [
       "(56420, 26)"
      ]
     },
     "execution_count": 17,
     "metadata": {},
     "output_type": "execute_result"
    }
   ],
   "source": [
    "#melihat kembali dimensi data\n",
    "df.shape"
   ]
  },
  {
   "cell_type": "markdown",
   "id": "aa2c55b6",
   "metadata": {},
   "source": [
    "Setelah Melakukan ***Data Cleaning*** dan ***penambahan 3 variabel*** pada dataset, data yang awalnya terdapat **145.460 Baris dan 23 Kolom**, menjadi **56.420 Baris dan 26 Kolom**."
   ]
  },
  {
   "cell_type": "markdown",
   "id": "a4718021",
   "metadata": {},
   "source": [
    "## e. DATA EXPLORATION\n",
    "Dalam Data Exploration, kami melakukan beberapa analisis, diantaranya :\n",
    "1. BAGAIMANA RATA-RATA KECEPATAN ANGIN (WindGustSpeed) per BULAN (Month) ?\n",
    "2. BAGAIMANA RATA-RATA KECEPATAN ANGIN (WindGustSpeed) PER TAHUN (Year)?\n",
    "3. BAGAIMANA INTENSITAS CURAH HUJAN (Rainfall) DI SETIAP WILAYAH (Location)?\n",
    "4. BAGAIMANA RATA-RATA CURAH HUJAN (Rainfall) DARI TAHUN 2007-2017?\n",
    "5. BAGAIMANA RATA-RATA CURAH HUJAN (Rainfall) PER BULAN (Month)?\n",
    "6. BAGAIMANA RATA-RATA KECEPATAN ANGIN (WindGust Speed) BERDASARKAN ARAH MATA ANGIN (WindGustDir)?\n",
    "7. BAGAIMANA PERBANDINGAN SUHU MAKSIMAL (MaxTemp) & MINIMAL (MinTemp) DI TIAP WILAYAH (Location)?\n",
    "8. Melihat korelasi dari tiap variabel terhadap variabel Rain Tomorrow"
   ]
  },
  {
   "cell_type": "markdown",
   "id": "546a79d2",
   "metadata": {},
   "source": [
    "### 1. BAGAIMANA RATA-RATA KECEPATAN ANGIN (WindGustSpeed) per BULAN (Month) ?"
   ]
  },
  {
   "cell_type": "code",
   "execution_count": 18,
   "id": "588fea97",
   "metadata": {},
   "outputs": [],
   "source": [
    "windspeed1 = df[['WindGustSpeed', 'month']].groupby(['month'], as_index=False).agg({'WindGustSpeed':'mean'})"
   ]
  },
  {
   "cell_type": "code",
   "execution_count": 19,
   "id": "e7579e30",
   "metadata": {},
   "outputs": [
    {
     "data": {
      "text/html": [
       "<div>\n",
       "<style scoped>\n",
       "    .dataframe tbody tr th:only-of-type {\n",
       "        vertical-align: middle;\n",
       "    }\n",
       "\n",
       "    .dataframe tbody tr th {\n",
       "        vertical-align: top;\n",
       "    }\n",
       "\n",
       "    .dataframe thead th {\n",
       "        text-align: right;\n",
       "    }\n",
       "</style>\n",
       "<table border=\"1\" class=\"dataframe\">\n",
       "  <thead>\n",
       "    <tr style=\"text-align: right;\">\n",
       "      <th></th>\n",
       "      <th>month</th>\n",
       "      <th>WindGustSpeed</th>\n",
       "    </tr>\n",
       "  </thead>\n",
       "  <tbody>\n",
       "    <tr>\n",
       "      <th>0</th>\n",
       "      <td>1</td>\n",
       "      <td>44.097399</td>\n",
       "    </tr>\n",
       "    <tr>\n",
       "      <th>1</th>\n",
       "      <td>2</td>\n",
       "      <td>42.126035</td>\n",
       "    </tr>\n",
       "    <tr>\n",
       "      <th>2</th>\n",
       "      <td>3</td>\n",
       "      <td>40.339196</td>\n",
       "    </tr>\n",
       "    <tr>\n",
       "      <th>3</th>\n",
       "      <td>4</td>\n",
       "      <td>37.421303</td>\n",
       "    </tr>\n",
       "    <tr>\n",
       "      <th>4</th>\n",
       "      <td>5</td>\n",
       "      <td>37.237745</td>\n",
       "    </tr>\n",
       "    <tr>\n",
       "      <th>5</th>\n",
       "      <td>6</td>\n",
       "      <td>37.006353</td>\n",
       "    </tr>\n",
       "    <tr>\n",
       "      <th>6</th>\n",
       "      <td>7</td>\n",
       "      <td>39.224464</td>\n",
       "    </tr>\n",
       "    <tr>\n",
       "      <th>7</th>\n",
       "      <td>8</td>\n",
       "      <td>41.414340</td>\n",
       "    </tr>\n",
       "    <tr>\n",
       "      <th>8</th>\n",
       "      <td>9</td>\n",
       "      <td>42.732428</td>\n",
       "    </tr>\n",
       "    <tr>\n",
       "      <th>9</th>\n",
       "      <td>10</td>\n",
       "      <td>42.941176</td>\n",
       "    </tr>\n",
       "    <tr>\n",
       "      <th>10</th>\n",
       "      <td>11</td>\n",
       "      <td>42.731185</td>\n",
       "    </tr>\n",
       "    <tr>\n",
       "      <th>11</th>\n",
       "      <td>12</td>\n",
       "      <td>43.054878</td>\n",
       "    </tr>\n",
       "  </tbody>\n",
       "</table>\n",
       "</div>"
      ],
      "text/plain": [
       "    month  WindGustSpeed\n",
       "0       1      44.097399\n",
       "1       2      42.126035\n",
       "2       3      40.339196\n",
       "3       4      37.421303\n",
       "4       5      37.237745\n",
       "5       6      37.006353\n",
       "6       7      39.224464\n",
       "7       8      41.414340\n",
       "8       9      42.732428\n",
       "9      10      42.941176\n",
       "10     11      42.731185\n",
       "11     12      43.054878"
      ]
     },
     "execution_count": 19,
     "metadata": {},
     "output_type": "execute_result"
    }
   ],
   "source": [
    "windspeed1"
   ]
  },
  {
   "cell_type": "code",
   "execution_count": 20,
   "id": "18a15c3c",
   "metadata": {},
   "outputs": [
    {
     "data": {
      "image/png": "[encoded data removed]",
      "text/plain": [
       "<Figure size 1080x360 with 1 Axes>"
      ]
     },
     "metadata": {
      "needs_background": "light"
     },
     "output_type": "display_data"
    }
   ],
   "source": [
    "windspeed1.plot(kind='line', x='month', y='WindGustSpeed', figsize=(15,5),color='lightseagreen')\n",
    "\n",
    "plt.title('Rata-Rata Kecepatan Angin (WindGustSpeed) per Bulan (Month)')\n",
    "plt.xlabel('Bulan (Month)')\n",
    "plt.ylabel('Kecepatan Angin (WindGustSpeed)')\n",
    "plt.grid(color=\"grey\")\n",
    "\n",
    "plt.show()"
   ]
  },
  {
   "cell_type": "markdown",
   "id": "0b1931e9",
   "metadata": {},
   "source": [
    "### Interpretasi :\n",
    "- Kecepatan angin dari bulan 1 (Januari) hingga bulan ke-6 (Juni) menurun.\n",
    "- Kecepatan angin meningkat kembali dari bulan ke-6 (Juni) hingga bulan ke-12 (Desember)."
   ]
  },
  {
   "cell_type": "markdown",
   "id": "cdb8680c",
   "metadata": {},
   "source": [
    "### 2. BAGAIMANA RATA-RATA KECEPATAN ANGIN (WindGustSpeed) PER TAHUN (Year)?"
   ]
  },
  {
   "cell_type": "code",
   "execution_count": 21,
   "id": "ef1b16c0",
   "metadata": {},
   "outputs": [],
   "source": [
    "windspeed2 = df[['WindGustSpeed', 'year']].groupby(['year'], as_index=False).agg({'WindGustSpeed':'mean'})"
   ]
  },
  {
   "cell_type": "code",
   "execution_count": 22,
   "id": "005ce555",
   "metadata": {},
   "outputs": [
    {
     "data": {
      "text/html": [
       "<div>\n",
       "<style scoped>\n",
       "    .dataframe tbody tr th:only-of-type {\n",
       "        vertical-align: middle;\n",
       "    }\n",
       "\n",
       "    .dataframe tbody tr th {\n",
       "        vertical-align: top;\n",
       "    }\n",
       "\n",
       "    .dataframe thead th {\n",
       "        text-align: right;\n",
       "    }\n",
       "</style>\n",
       "<table border=\"1\" class=\"dataframe\">\n",
       "  <thead>\n",
       "    <tr style=\"text-align: right;\">\n",
       "      <th></th>\n",
       "      <th>year</th>\n",
       "      <th>WindGustSpeed</th>\n",
       "    </tr>\n",
       "  </thead>\n",
       "  <tbody>\n",
       "    <tr>\n",
       "      <th>0</th>\n",
       "      <td>2007</td>\n",
       "      <td>40.918033</td>\n",
       "    </tr>\n",
       "    <tr>\n",
       "      <th>1</th>\n",
       "      <td>2008</td>\n",
       "      <td>41.761941</td>\n",
       "    </tr>\n",
       "    <tr>\n",
       "      <th>2</th>\n",
       "      <td>2009</td>\n",
       "      <td>41.996982</td>\n",
       "    </tr>\n",
       "    <tr>\n",
       "      <th>3</th>\n",
       "      <td>2010</td>\n",
       "      <td>40.098647</td>\n",
       "    </tr>\n",
       "    <tr>\n",
       "      <th>4</th>\n",
       "      <td>2011</td>\n",
       "      <td>40.406182</td>\n",
       "    </tr>\n",
       "    <tr>\n",
       "      <th>5</th>\n",
       "      <td>2012</td>\n",
       "      <td>40.814385</td>\n",
       "    </tr>\n",
       "    <tr>\n",
       "      <th>6</th>\n",
       "      <td>2013</td>\n",
       "      <td>41.425792</td>\n",
       "    </tr>\n",
       "    <tr>\n",
       "      <th>7</th>\n",
       "      <td>2014</td>\n",
       "      <td>40.850731</td>\n",
       "    </tr>\n",
       "    <tr>\n",
       "      <th>8</th>\n",
       "      <td>2015</td>\n",
       "      <td>40.883842</td>\n",
       "    </tr>\n",
       "    <tr>\n",
       "      <th>9</th>\n",
       "      <td>2016</td>\n",
       "      <td>41.086385</td>\n",
       "    </tr>\n",
       "    <tr>\n",
       "      <th>10</th>\n",
       "      <td>2017</td>\n",
       "      <td>37.965096</td>\n",
       "    </tr>\n",
       "  </tbody>\n",
       "</table>\n",
       "</div>"
      ],
      "text/plain": [
       "    year  WindGustSpeed\n",
       "0   2007      40.918033\n",
       "1   2008      41.761941\n",
       "2   2009      41.996982\n",
       "3   2010      40.098647\n",
       "4   2011      40.406182\n",
       "5   2012      40.814385\n",
       "6   2013      41.425792\n",
       "7   2014      40.850731\n",
       "8   2015      40.883842\n",
       "9   2016      41.086385\n",
       "10  2017      37.965096"
      ]
     },
     "execution_count": 22,
     "metadata": {},
     "output_type": "execute_result"
    }
   ],
   "source": [
    "windspeed2"
   ]
  },
  {
   "cell_type": "code",
   "execution_count": 23,
   "id": "acfe444e",
   "metadata": {},
   "outputs": [
    {
     "data": {
      "image/png": "[encoded data removed]",
      "text/plain": [
       "<Figure size 1080x360 with 1 Axes>"
      ]
     },
     "metadata": {
      "needs_background": "light"
     },
     "output_type": "display_data"
    }
   ],
   "source": [
    "windspeed2.plot(kind='line', x='year', y='WindGustSpeed', figsize=(15,5), color='darkviolet')\n",
    "\n",
    "plt.title('Rata-Rata Kecepatan Angin (WindGustSpeed) per Tahun (Year)')\n",
    "plt.xlabel('Tahun (Year)')\n",
    "plt.ylabel('Kecepatan Angin (WindGustSpeed)')\n",
    "plt.grid(color=\"grey\")\n",
    "\n",
    "plt.show()"
   ]
  },
  {
   "cell_type": "markdown",
   "id": "90f21073",
   "metadata": {},
   "source": [
    "### Interpretasi:\n",
    "- Kecepatan angin pada tahun 2007-2009 mengalami peningkatan dari kecepatan 40.91 menjadi 41.99\n",
    "- Pada tahun 2009-2010 mengalami penurunan dari kecepatan 41.99 menjadi 40.09\n",
    "- Pada tahun 2010-2013 mengalami peningkatan dari kecepatan 40.09 menjadi 41.42\n",
    "- Pada tahun 2013-2014 mengalami penurunan dari kecepatan 41.42 menjadi 40.85\n",
    "- Pada tahun 2014-2017 mengalami penurunan dari kecepatan 40.85 menjadi 37.96"
   ]
  },
  {
   "cell_type": "markdown",
   "id": "0ecc7877",
   "metadata": {},
   "source": [
    "### 3. BAGAIMANA INTENSITAS CURAH HUJAN (Rainfall) DI SETIAP WILAYAH (Location)?"
   ]
  },
  {
   "cell_type": "code",
   "execution_count": 24,
   "id": "4d0fae2e",
   "metadata": {},
   "outputs": [],
   "source": [
    "rainfall_loc = df[['Rainfall', 'Location']].groupby(['Location'], as_index=False).agg({'Rainfall':'mean'})"
   ]
  },
  {
   "cell_type": "code",
   "execution_count": 25,
   "id": "4dfe7ffa",
   "metadata": {},
   "outputs": [
    {
     "data": {
      "text/html": [
       "<div>\n",
       "<style scoped>\n",
       "    .dataframe tbody tr th:only-of-type {\n",
       "        vertical-align: middle;\n",
       "    }\n",
       "\n",
       "    .dataframe tbody tr th {\n",
       "        vertical-align: top;\n",
       "    }\n",
       "\n",
       "    .dataframe thead th {\n",
       "        text-align: right;\n",
       "    }\n",
       "</style>\n",
       "<table border=\"1\" class=\"dataframe\">\n",
       "  <thead>\n",
       "    <tr style=\"text-align: right;\">\n",
       "      <th></th>\n",
       "      <th>Location</th>\n",
       "      <th>Rainfall</th>\n",
       "    </tr>\n",
       "  </thead>\n",
       "  <tbody>\n",
       "    <tr>\n",
       "      <th>0</th>\n",
       "      <td>AliceSprings</td>\n",
       "      <td>0.955556</td>\n",
       "    </tr>\n",
       "    <tr>\n",
       "      <th>1</th>\n",
       "      <td>Brisbane</td>\n",
       "      <td>2.855401</td>\n",
       "    </tr>\n",
       "    <tr>\n",
       "      <th>2</th>\n",
       "      <td>Cairns</td>\n",
       "      <td>4.522259</td>\n",
       "    </tr>\n",
       "    <tr>\n",
       "      <th>3</th>\n",
       "      <td>Canberra</td>\n",
       "      <td>1.906957</td>\n",
       "    </tr>\n",
       "    <tr>\n",
       "      <th>4</th>\n",
       "      <td>Cobar</td>\n",
       "      <td>1.182397</td>\n",
       "    </tr>\n",
       "    <tr>\n",
       "      <th>5</th>\n",
       "      <td>CoffsHarbour</td>\n",
       "      <td>3.885942</td>\n",
       "    </tr>\n",
       "    <tr>\n",
       "      <th>6</th>\n",
       "      <td>Darwin</td>\n",
       "      <td>4.038210</td>\n",
       "    </tr>\n",
       "    <tr>\n",
       "      <th>7</th>\n",
       "      <td>Hobart</td>\n",
       "      <td>1.624033</td>\n",
       "    </tr>\n",
       "    <tr>\n",
       "      <th>8</th>\n",
       "      <td>Melbourne</td>\n",
       "      <td>1.912118</td>\n",
       "    </tr>\n",
       "    <tr>\n",
       "      <th>9</th>\n",
       "      <td>MelbourneAirport</td>\n",
       "      <td>1.455787</td>\n",
       "    </tr>\n",
       "    <tr>\n",
       "      <th>10</th>\n",
       "      <td>Mildura</td>\n",
       "      <td>0.935235</td>\n",
       "    </tr>\n",
       "    <tr>\n",
       "      <th>11</th>\n",
       "      <td>Moree</td>\n",
       "      <td>1.597177</td>\n",
       "    </tr>\n",
       "    <tr>\n",
       "      <th>12</th>\n",
       "      <td>MountGambier</td>\n",
       "      <td>1.956836</td>\n",
       "    </tr>\n",
       "    <tr>\n",
       "      <th>13</th>\n",
       "      <td>NorfolkIsland</td>\n",
       "      <td>2.534619</td>\n",
       "    </tr>\n",
       "    <tr>\n",
       "      <th>14</th>\n",
       "      <td>Nuriootpa</td>\n",
       "      <td>1.338147</td>\n",
       "    </tr>\n",
       "    <tr>\n",
       "      <th>15</th>\n",
       "      <td>Perth</td>\n",
       "      <td>1.850579</td>\n",
       "    </tr>\n",
       "    <tr>\n",
       "      <th>16</th>\n",
       "      <td>PerthAirport</td>\n",
       "      <td>1.740199</td>\n",
       "    </tr>\n",
       "    <tr>\n",
       "      <th>17</th>\n",
       "      <td>Portland</td>\n",
       "      <td>2.865378</td>\n",
       "    </tr>\n",
       "    <tr>\n",
       "      <th>18</th>\n",
       "      <td>Sale</td>\n",
       "      <td>1.490942</td>\n",
       "    </tr>\n",
       "    <tr>\n",
       "      <th>19</th>\n",
       "      <td>Sydney</td>\n",
       "      <td>2.832308</td>\n",
       "    </tr>\n",
       "    <tr>\n",
       "      <th>20</th>\n",
       "      <td>SydneyAirport</td>\n",
       "      <td>2.461394</td>\n",
       "    </tr>\n",
       "    <tr>\n",
       "      <th>21</th>\n",
       "      <td>Townsville</td>\n",
       "      <td>1.868293</td>\n",
       "    </tr>\n",
       "    <tr>\n",
       "      <th>22</th>\n",
       "      <td>WaggaWagga</td>\n",
       "      <td>1.608113</td>\n",
       "    </tr>\n",
       "    <tr>\n",
       "      <th>23</th>\n",
       "      <td>Watsonia</td>\n",
       "      <td>1.830696</td>\n",
       "    </tr>\n",
       "    <tr>\n",
       "      <th>24</th>\n",
       "      <td>Williamtown</td>\n",
       "      <td>2.687896</td>\n",
       "    </tr>\n",
       "    <tr>\n",
       "      <th>25</th>\n",
       "      <td>Woomera</td>\n",
       "      <td>0.526932</td>\n",
       "    </tr>\n",
       "  </tbody>\n",
       "</table>\n",
       "</div>"
      ],
      "text/plain": [
       "            Location  Rainfall\n",
       "0       AliceSprings  0.955556\n",
       "1           Brisbane  2.855401\n",
       "2             Cairns  4.522259\n",
       "3           Canberra  1.906957\n",
       "4              Cobar  1.182397\n",
       "5       CoffsHarbour  3.885942\n",
       "6             Darwin  4.038210\n",
       "7             Hobart  1.624033\n",
       "8          Melbourne  1.912118\n",
       "9   MelbourneAirport  1.455787\n",
       "10           Mildura  0.935235\n",
       "11             Moree  1.597177\n",
       "12      MountGambier  1.956836\n",
       "13     NorfolkIsland  2.534619\n",
       "14         Nuriootpa  1.338147\n",
       "15             Perth  1.850579\n",
       "16      PerthAirport  1.740199\n",
       "17          Portland  2.865378\n",
       "18              Sale  1.490942\n",
       "19            Sydney  2.832308\n",
       "20     SydneyAirport  2.461394\n",
       "21        Townsville  1.868293\n",
       "22        WaggaWagga  1.608113\n",
       "23          Watsonia  1.830696\n",
       "24       Williamtown  2.687896\n",
       "25           Woomera  0.526932"
      ]
     },
     "execution_count": 25,
     "metadata": {},
     "output_type": "execute_result"
    }
   ],
   "source": [
    "rainfall_loc"
   ]
  },
  {
   "cell_type": "code",
   "execution_count": 26,
   "id": "994ebcc8",
   "metadata": {},
   "outputs": [
    {
     "data": {
      "image/png": "[encoded data removed]",
      "text/plain": [
       "<Figure size 1080x360 with 1 Axes>"
      ]
     },
     "metadata": {
      "needs_background": "light"
     },
     "output_type": "display_data"
    }
   ],
   "source": [
    "rainfall_loc.plot(kind='bar', x='Location', y='Rainfall', figsize=(15,5),color='indianred')\n",
    "\n",
    "plt.title('Intensitas Curah Hujan (Rainfall) di tiap Wilayah (Location)')\n",
    "plt.xlabel('Wilayah (Location)')\n",
    "plt.ylabel('Intensitas Curah Hujan (Rainfall)')\n",
    "plt.grid(color=\"grey\")\n",
    "\n",
    "plt.show()"
   ]
  },
  {
   "cell_type": "markdown",
   "id": "8e42f87d",
   "metadata": {},
   "source": [
    "### interpretasi:\n",
    "1. Intensitas curah hujan tertinggi terdapat di wilayah Cairns dengan nilai rata-rata 4.522 mm\n",
    "2. Intensitas curah hujan terendah terdapat di wilayah Woomera dengan nilai rata-rata 0.526 mm"
   ]
  },
  {
   "cell_type": "markdown",
   "id": "30d1239c",
   "metadata": {},
   "source": [
    "###  4. BAGAIMANA RATA-RATA CURAH HUJAN (Rainfall) DARI TAHUN 2007-2017?"
   ]
  },
  {
   "cell_type": "code",
   "execution_count": 27,
   "id": "75252177",
   "metadata": {},
   "outputs": [],
   "source": [
    "rainfall = df[['Rainfall', 'year']].groupby(['year'], as_index=False).agg({'Rainfall':'mean'})"
   ]
  },
  {
   "cell_type": "code",
   "execution_count": 28,
   "id": "815738e8",
   "metadata": {},
   "outputs": [
    {
     "data": {
      "text/html": [
       "<div>\n",
       "<style scoped>\n",
       "    .dataframe tbody tr th:only-of-type {\n",
       "        vertical-align: middle;\n",
       "    }\n",
       "\n",
       "    .dataframe tbody tr th {\n",
       "        vertical-align: top;\n",
       "    }\n",
       "\n",
       "    .dataframe thead th {\n",
       "        text-align: right;\n",
       "    }\n",
       "</style>\n",
       "<table border=\"1\" class=\"dataframe\">\n",
       "  <thead>\n",
       "    <tr style=\"text-align: right;\">\n",
       "      <th></th>\n",
       "      <th>year</th>\n",
       "      <th>Rainfall</th>\n",
       "    </tr>\n",
       "  </thead>\n",
       "  <tbody>\n",
       "    <tr>\n",
       "      <th>0</th>\n",
       "      <td>2007</td>\n",
       "      <td>3.219672</td>\n",
       "    </tr>\n",
       "    <tr>\n",
       "      <th>1</th>\n",
       "      <td>2008</td>\n",
       "      <td>2.080586</td>\n",
       "    </tr>\n",
       "    <tr>\n",
       "      <th>2</th>\n",
       "      <td>2009</td>\n",
       "      <td>1.874297</td>\n",
       "    </tr>\n",
       "    <tr>\n",
       "      <th>3</th>\n",
       "      <td>2010</td>\n",
       "      <td>2.549865</td>\n",
       "    </tr>\n",
       "    <tr>\n",
       "      <th>4</th>\n",
       "      <td>2011</td>\n",
       "      <td>2.644590</td>\n",
       "    </tr>\n",
       "    <tr>\n",
       "      <th>5</th>\n",
       "      <td>2012</td>\n",
       "      <td>1.961856</td>\n",
       "    </tr>\n",
       "    <tr>\n",
       "      <th>6</th>\n",
       "      <td>2013</td>\n",
       "      <td>2.012772</td>\n",
       "    </tr>\n",
       "    <tr>\n",
       "      <th>7</th>\n",
       "      <td>2014</td>\n",
       "      <td>1.837385</td>\n",
       "    </tr>\n",
       "    <tr>\n",
       "      <th>8</th>\n",
       "      <td>2015</td>\n",
       "      <td>1.932790</td>\n",
       "    </tr>\n",
       "    <tr>\n",
       "      <th>9</th>\n",
       "      <td>2016</td>\n",
       "      <td>2.082197</td>\n",
       "    </tr>\n",
       "    <tr>\n",
       "      <th>10</th>\n",
       "      <td>2017</td>\n",
       "      <td>2.507039</td>\n",
       "    </tr>\n",
       "  </tbody>\n",
       "</table>\n",
       "</div>"
      ],
      "text/plain": [
       "    year  Rainfall\n",
       "0   2007  3.219672\n",
       "1   2008  2.080586\n",
       "2   2009  1.874297\n",
       "3   2010  2.549865\n",
       "4   2011  2.644590\n",
       "5   2012  1.961856\n",
       "6   2013  2.012772\n",
       "7   2014  1.837385\n",
       "8   2015  1.932790\n",
       "9   2016  2.082197\n",
       "10  2017  2.507039"
      ]
     },
     "execution_count": 28,
     "metadata": {},
     "output_type": "execute_result"
    }
   ],
   "source": [
    "rainfall"
   ]
  },
  {
   "cell_type": "code",
   "execution_count": 29,
   "id": "a05a3a44",
   "metadata": {},
   "outputs": [
    {
     "data": {
      "image/png": "[encoded data removed]",
      "text/plain": [
       "<Figure size 1080x288 with 1 Axes>"
      ]
     },
     "metadata": {
      "needs_background": "light"
     },
     "output_type": "display_data"
    }
   ],
   "source": [
    "rainfall.plot(kind='line', x='year', y='Rainfall', figsize=(15,4), color='hotpink')\n",
    "\n",
    "plt.title('Rata-rata Curah Hujan (Rainfall) dari Tahun 2007-2017')\n",
    "plt.xlabel('Tahun (Year)')\n",
    "plt.ylabel('Curah Hujan (Rainfall)')\n",
    "plt.grid(color=\"grey\")\n",
    "\n",
    "plt.show()"
   ]
  },
  {
   "cell_type": "markdown",
   "id": "0b9aec69",
   "metadata": {},
   "source": [
    "### Interpretasi\n",
    "Pada tahun 2007 hingga 2009 sempat mengalami penurunan curah hujan. Di tahun berikutnya mengalami kenaikan curah hujan selama 2 tahun dan menurun kembali curah hujan hingga tahun 2014. Dari tahun 2014 curah hujan meningkat kembali hingga 2017.\n",
    "- Rata-rata Curah Hujan (Rainfall) Tertinggi ada di Tahun 2007 bernilai 3.219 mm\n",
    "- Rata-rata Curah Hujan (Rainfall) Terendah ada di Tahun 2014 bernilai 1.837 mm"
   ]
  },
  {
   "cell_type": "markdown",
   "id": "353f3696",
   "metadata": {},
   "source": [
    "### 5. BAGAIMANA RATA-RATA CURAH HUJAN (Rainfall) PER BULAN (Month) ?"
   ]
  },
  {
   "cell_type": "code",
   "execution_count": 30,
   "id": "f4568f3f",
   "metadata": {},
   "outputs": [],
   "source": [
    "rainfall1 = df[['Rainfall', 'month']].groupby(['month'], as_index=False).agg({'Rainfall':'mean'})"
   ]
  },
  {
   "cell_type": "code",
   "execution_count": 31,
   "id": "b8ea18c3",
   "metadata": {},
   "outputs": [
    {
     "data": {
      "text/html": [
       "<div>\n",
       "<style scoped>\n",
       "    .dataframe tbody tr th:only-of-type {\n",
       "        vertical-align: middle;\n",
       "    }\n",
       "\n",
       "    .dataframe tbody tr th {\n",
       "        vertical-align: top;\n",
       "    }\n",
       "\n",
       "    .dataframe thead th {\n",
       "        text-align: right;\n",
       "    }\n",
       "</style>\n",
       "<table border=\"1\" class=\"dataframe\">\n",
       "  <thead>\n",
       "    <tr style=\"text-align: right;\">\n",
       "      <th></th>\n",
       "      <th>month</th>\n",
       "      <th>Rainfall</th>\n",
       "    </tr>\n",
       "  </thead>\n",
       "  <tbody>\n",
       "    <tr>\n",
       "      <th>0</th>\n",
       "      <td>1</td>\n",
       "      <td>2.754224</td>\n",
       "    </tr>\n",
       "    <tr>\n",
       "      <th>1</th>\n",
       "      <td>2</td>\n",
       "      <td>2.962071</td>\n",
       "    </tr>\n",
       "    <tr>\n",
       "      <th>2</th>\n",
       "      <td>3</td>\n",
       "      <td>2.402319</td>\n",
       "    </tr>\n",
       "    <tr>\n",
       "      <th>3</th>\n",
       "      <td>4</td>\n",
       "      <td>2.011940</td>\n",
       "    </tr>\n",
       "    <tr>\n",
       "      <th>4</th>\n",
       "      <td>5</td>\n",
       "      <td>1.775429</td>\n",
       "    </tr>\n",
       "    <tr>\n",
       "      <th>5</th>\n",
       "      <td>6</td>\n",
       "      <td>2.302760</td>\n",
       "    </tr>\n",
       "    <tr>\n",
       "      <th>6</th>\n",
       "      <td>7</td>\n",
       "      <td>1.840348</td>\n",
       "    </tr>\n",
       "    <tr>\n",
       "      <th>7</th>\n",
       "      <td>8</td>\n",
       "      <td>1.754928</td>\n",
       "    </tr>\n",
       "    <tr>\n",
       "      <th>8</th>\n",
       "      <td>9</td>\n",
       "      <td>1.583980</td>\n",
       "    </tr>\n",
       "    <tr>\n",
       "      <th>9</th>\n",
       "      <td>10</td>\n",
       "      <td>1.590148</td>\n",
       "    </tr>\n",
       "    <tr>\n",
       "      <th>10</th>\n",
       "      <td>11</td>\n",
       "      <td>2.161374</td>\n",
       "    </tr>\n",
       "    <tr>\n",
       "      <th>11</th>\n",
       "      <td>12</td>\n",
       "      <td>2.457200</td>\n",
       "    </tr>\n",
       "  </tbody>\n",
       "</table>\n",
       "</div>"
      ],
      "text/plain": [
       "    month  Rainfall\n",
       "0       1  2.754224\n",
       "1       2  2.962071\n",
       "2       3  2.402319\n",
       "3       4  2.011940\n",
       "4       5  1.775429\n",
       "5       6  2.302760\n",
       "6       7  1.840348\n",
       "7       8  1.754928\n",
       "8       9  1.583980\n",
       "9      10  1.590148\n",
       "10     11  2.161374\n",
       "11     12  2.457200"
      ]
     },
     "execution_count": 31,
     "metadata": {},
     "output_type": "execute_result"
    }
   ],
   "source": [
    "rainfall1"
   ]
  },
  {
   "cell_type": "code",
   "execution_count": 32,
   "id": "c64e6dfa",
   "metadata": {},
   "outputs": [
    {
     "data": {
      "image/png": "[encoded data removed]",
      "text/plain": [
       "<Figure size 1080x288 with 1 Axes>"
      ]
     },
     "metadata": {
      "needs_background": "light"
     },
     "output_type": "display_data"
    }
   ],
   "source": [
    "rainfall1.plot(kind='line', x='month', y='Rainfall', figsize=(15,4), color='purple')\n",
    "\n",
    "plt.title('Rata-rata Curah Hujan (Rainfall) Per Bulan (Month)')\n",
    "plt.xlabel('Bulan (Month)')\n",
    "plt.ylabel('Curah Hujan (Rainfall)')\n",
    "plt.grid(color=\"grey\")\n",
    "\n",
    "plt.show()"
   ]
  },
  {
   "cell_type": "markdown",
   "id": "687037c9",
   "metadata": {},
   "source": [
    "### Interpretasi\n",
    "Pada bulan 1 (Januari) hingga bulan ke-10 (Oktober) mengalami penurunan curah hujan (2.754 ke 1.590), dan meningkat dimulai dari bulan ke-10 (Oktober) hingga bulan ke-12 (Desember) (1.590 ke 2.457).\n",
    "- Rata-rata Curah Hujan (Rainfall) Tertinggi ada di Bulan Februari (2) bernilai 2.962 mm\n",
    "- Rata-rata Curah Hujan (Rainfall) Terendah ada di Bulan September (9) bernilai 1.590 mm"
   ]
  },
  {
   "cell_type": "markdown",
   "id": "5bc5104b",
   "metadata": {},
   "source": [
    "### 6. BAGAIMANA RATA-RATA KECEPATAN ANGIN (WindGust Speed) BERDASARKAN ARAH MATA ANGIN (WindGustDir)?"
   ]
  },
  {
   "cell_type": "code",
   "execution_count": 33,
   "id": "7744a142",
   "metadata": {},
   "outputs": [],
   "source": [
    "wind = df[['WindGustSpeed','WindGustDir']].groupby(['WindGustDir'], as_index=False).agg({'WindGustSpeed':'mean'})"
   ]
  },
  {
   "cell_type": "code",
   "execution_count": 34,
   "id": "2bca48f7",
   "metadata": {},
   "outputs": [
    {
     "data": {
      "text/html": [
       "<div>\n",
       "<style scoped>\n",
       "    .dataframe tbody tr th:only-of-type {\n",
       "        vertical-align: middle;\n",
       "    }\n",
       "\n",
       "    .dataframe tbody tr th {\n",
       "        vertical-align: top;\n",
       "    }\n",
       "\n",
       "    .dataframe thead th {\n",
       "        text-align: right;\n",
       "    }\n",
       "</style>\n",
       "<table border=\"1\" class=\"dataframe\">\n",
       "  <thead>\n",
       "    <tr style=\"text-align: right;\">\n",
       "      <th></th>\n",
       "      <th>WindGustDir</th>\n",
       "      <th>WindGustSpeed</th>\n",
       "    </tr>\n",
       "  </thead>\n",
       "  <tbody>\n",
       "    <tr>\n",
       "      <th>0</th>\n",
       "      <td>E</td>\n",
       "      <td>38.901019</td>\n",
       "    </tr>\n",
       "    <tr>\n",
       "      <th>1</th>\n",
       "      <td>ENE</td>\n",
       "      <td>35.996524</td>\n",
       "    </tr>\n",
       "    <tr>\n",
       "      <th>2</th>\n",
       "      <td>ESE</td>\n",
       "      <td>38.720411</td>\n",
       "    </tr>\n",
       "    <tr>\n",
       "      <th>3</th>\n",
       "      <td>N</td>\n",
       "      <td>45.033967</td>\n",
       "    </tr>\n",
       "    <tr>\n",
       "      <th>4</th>\n",
       "      <td>NE</td>\n",
       "      <td>36.421036</td>\n",
       "    </tr>\n",
       "    <tr>\n",
       "      <th>5</th>\n",
       "      <td>NNE</td>\n",
       "      <td>39.484499</td>\n",
       "    </tr>\n",
       "    <tr>\n",
       "      <th>6</th>\n",
       "      <td>NNW</td>\n",
       "      <td>41.685452</td>\n",
       "    </tr>\n",
       "    <tr>\n",
       "      <th>7</th>\n",
       "      <td>NW</td>\n",
       "      <td>44.578867</td>\n",
       "    </tr>\n",
       "    <tr>\n",
       "      <th>8</th>\n",
       "      <td>S</td>\n",
       "      <td>40.589384</td>\n",
       "    </tr>\n",
       "    <tr>\n",
       "      <th>9</th>\n",
       "      <td>SE</td>\n",
       "      <td>38.970483</td>\n",
       "    </tr>\n",
       "    <tr>\n",
       "      <th>10</th>\n",
       "      <td>SSE</td>\n",
       "      <td>38.819423</td>\n",
       "    </tr>\n",
       "    <tr>\n",
       "      <th>11</th>\n",
       "      <td>SSW</td>\n",
       "      <td>40.476655</td>\n",
       "    </tr>\n",
       "    <tr>\n",
       "      <th>12</th>\n",
       "      <td>SW</td>\n",
       "      <td>41.109822</td>\n",
       "    </tr>\n",
       "    <tr>\n",
       "      <th>13</th>\n",
       "      <td>W</td>\n",
       "      <td>44.966354</td>\n",
       "    </tr>\n",
       "    <tr>\n",
       "      <th>14</th>\n",
       "      <td>WNW</td>\n",
       "      <td>45.315156</td>\n",
       "    </tr>\n",
       "    <tr>\n",
       "      <th>15</th>\n",
       "      <td>WSW</td>\n",
       "      <td>43.534424</td>\n",
       "    </tr>\n",
       "  </tbody>\n",
       "</table>\n",
       "</div>"
      ],
      "text/plain": [
       "   WindGustDir  WindGustSpeed\n",
       "0            E      38.901019\n",
       "1          ENE      35.996524\n",
       "2          ESE      38.720411\n",
       "3            N      45.033967\n",
       "4           NE      36.421036\n",
       "5          NNE      39.484499\n",
       "6          NNW      41.685452\n",
       "7           NW      44.578867\n",
       "8            S      40.589384\n",
       "9           SE      38.970483\n",
       "10         SSE      38.819423\n",
       "11         SSW      40.476655\n",
       "12          SW      41.109822\n",
       "13           W      44.966354\n",
       "14         WNW      45.315156\n",
       "15         WSW      43.534424"
      ]
     },
     "execution_count": 34,
     "metadata": {},
     "output_type": "execute_result"
    }
   ],
   "source": [
    "wind"
   ]
  },
  {
   "cell_type": "code",
   "execution_count": 35,
   "id": "8a100d3f",
   "metadata": {},
   "outputs": [
    {
     "data": {
      "image/png": "[encoded data removed]",
      "text/plain": [
       "<Figure size 1080x360 with 1 Axes>"
      ]
     },
     "metadata": {
      "needs_background": "light"
     },
     "output_type": "display_data"
    }
   ],
   "source": [
    "wind.plot(kind='scatter', x='WindGustDir', y='WindGustSpeed', figsize=(15,5), color='red')\n",
    "\n",
    "plt.title('Rata-rata Kecepatan Angin (WindGustSpeed) Berdasarkan Arah Mata Angin (WindGustDir)')\n",
    "plt.xlabel('Arah Mata Angin (WindGustDir)')\n",
    "plt.ylabel('Kecepatan Angin (WindGustSpeed)')\n",
    "plt.grid(color=\"grey\")\n",
    "\n",
    "plt.show()"
   ]
  },
  {
   "cell_type": "markdown",
   "id": "1724729c",
   "metadata": {},
   "source": [
    "### Interpretasi :\n",
    "1. Kecepatan angin paling tinggi terdapat di arah WNW (West-Norwest/Barat Barat Laut) dengan kecepatan 45.31\n",
    "2. Kecepatan angin paling rendah terdapat di arah ENE (East-Noreast/Timur Timur Laut) dengan kecepatan 35.99"
   ]
  },
  {
   "cell_type": "markdown",
   "id": "7fc8e23e",
   "metadata": {},
   "source": [
    "### 7. BAGAIMANA PERBANDINGAN SUHU MAKSIMAL (MaxTemp) & MINIMAL (MinTemp) DI TIAP WILAYAH (Location)?"
   ]
  },
  {
   "cell_type": "code",
   "execution_count": 36,
   "id": "c14da7e5",
   "metadata": {},
   "outputs": [],
   "source": [
    "temperature = df[['MaxTemp', 'MinTemp', 'Location']].groupby(['Location'],as_index=False).agg({'MinTemp':'mean','MaxTemp':'mean'})"
   ]
  },
  {
   "cell_type": "code",
   "execution_count": 37,
   "id": "ee01f89b",
   "metadata": {},
   "outputs": [
    {
     "data": {
      "text/html": [
       "<div>\n",
       "<style scoped>\n",
       "    .dataframe tbody tr th:only-of-type {\n",
       "        vertical-align: middle;\n",
       "    }\n",
       "\n",
       "    .dataframe tbody tr th {\n",
       "        vertical-align: top;\n",
       "    }\n",
       "\n",
       "    .dataframe thead th {\n",
       "        text-align: right;\n",
       "    }\n",
       "</style>\n",
       "<table border=\"1\" class=\"dataframe\">\n",
       "  <thead>\n",
       "    <tr style=\"text-align: right;\">\n",
       "      <th></th>\n",
       "      <th>Location</th>\n",
       "      <th>MinTemp</th>\n",
       "      <th>MaxTemp</th>\n",
       "    </tr>\n",
       "  </thead>\n",
       "  <tbody>\n",
       "    <tr>\n",
       "      <th>0</th>\n",
       "      <td>AliceSprings</td>\n",
       "      <td>13.878093</td>\n",
       "      <td>29.724921</td>\n",
       "    </tr>\n",
       "    <tr>\n",
       "      <th>1</th>\n",
       "      <td>Brisbane</td>\n",
       "      <td>16.365628</td>\n",
       "      <td>26.436810</td>\n",
       "    </tr>\n",
       "    <tr>\n",
       "      <th>2</th>\n",
       "      <td>Cairns</td>\n",
       "      <td>21.129296</td>\n",
       "      <td>29.551596</td>\n",
       "    </tr>\n",
       "    <tr>\n",
       "      <th>3</th>\n",
       "      <td>Canberra</td>\n",
       "      <td>7.727829</td>\n",
       "      <td>20.363822</td>\n",
       "    </tr>\n",
       "    <tr>\n",
       "      <th>4</th>\n",
       "      <td>Cobar</td>\n",
       "      <td>13.828090</td>\n",
       "      <td>26.225281</td>\n",
       "    </tr>\n",
       "    <tr>\n",
       "      <th>5</th>\n",
       "      <td>CoffsHarbour</td>\n",
       "      <td>14.485000</td>\n",
       "      <td>23.766304</td>\n",
       "    </tr>\n",
       "    <tr>\n",
       "      <th>6</th>\n",
       "      <td>Darwin</td>\n",
       "      <td>23.166492</td>\n",
       "      <td>32.559536</td>\n",
       "    </tr>\n",
       "    <tr>\n",
       "      <th>7</th>\n",
       "      <td>Hobart</td>\n",
       "      <td>8.957091</td>\n",
       "      <td>17.783961</td>\n",
       "    </tr>\n",
       "    <tr>\n",
       "      <th>8</th>\n",
       "      <td>Melbourne</td>\n",
       "      <td>11.672445</td>\n",
       "      <td>20.590253</td>\n",
       "    </tr>\n",
       "    <tr>\n",
       "      <th>9</th>\n",
       "      <td>MelbourneAirport</td>\n",
       "      <td>9.958313</td>\n",
       "      <td>20.494537</td>\n",
       "    </tr>\n",
       "    <tr>\n",
       "      <th>10</th>\n",
       "      <td>Mildura</td>\n",
       "      <td>10.914225</td>\n",
       "      <td>24.957440</td>\n",
       "    </tr>\n",
       "    <tr>\n",
       "      <th>11</th>\n",
       "      <td>Moree</td>\n",
       "      <td>12.876738</td>\n",
       "      <td>26.937376</td>\n",
       "    </tr>\n",
       "    <tr>\n",
       "      <th>12</th>\n",
       "      <td>MountGambier</td>\n",
       "      <td>8.953996</td>\n",
       "      <td>20.059026</td>\n",
       "    </tr>\n",
       "    <tr>\n",
       "      <th>13</th>\n",
       "      <td>NorfolkIsland</td>\n",
       "      <td>16.849432</td>\n",
       "      <td>21.767857</td>\n",
       "    </tr>\n",
       "    <tr>\n",
       "      <th>14</th>\n",
       "      <td>Nuriootpa</td>\n",
       "      <td>9.707570</td>\n",
       "      <td>22.026444</td>\n",
       "    </tr>\n",
       "    <tr>\n",
       "      <th>15</th>\n",
       "      <td>Perth</td>\n",
       "      <td>13.066215</td>\n",
       "      <td>25.188066</td>\n",
       "    </tr>\n",
       "    <tr>\n",
       "      <th>16</th>\n",
       "      <td>PerthAirport</td>\n",
       "      <td>12.681050</td>\n",
       "      <td>25.607793</td>\n",
       "    </tr>\n",
       "    <tr>\n",
       "      <th>17</th>\n",
       "      <td>Portland</td>\n",
       "      <td>9.672464</td>\n",
       "      <td>17.270209</td>\n",
       "    </tr>\n",
       "    <tr>\n",
       "      <th>18</th>\n",
       "      <td>Sale</td>\n",
       "      <td>8.604589</td>\n",
       "      <td>20.432539</td>\n",
       "    </tr>\n",
       "    <tr>\n",
       "      <th>19</th>\n",
       "      <td>Sydney</td>\n",
       "      <td>15.031893</td>\n",
       "      <td>23.450178</td>\n",
       "    </tr>\n",
       "    <tr>\n",
       "      <th>20</th>\n",
       "      <td>SydneyAirport</td>\n",
       "      <td>14.884042</td>\n",
       "      <td>23.414808</td>\n",
       "    </tr>\n",
       "    <tr>\n",
       "      <th>21</th>\n",
       "      <td>Townsville</td>\n",
       "      <td>20.500579</td>\n",
       "      <td>29.418892</td>\n",
       "    </tr>\n",
       "    <tr>\n",
       "      <th>22</th>\n",
       "      <td>WaggaWagga</td>\n",
       "      <td>9.916018</td>\n",
       "      <td>23.463535</td>\n",
       "    </tr>\n",
       "    <tr>\n",
       "      <th>23</th>\n",
       "      <td>Watsonia</td>\n",
       "      <td>10.187399</td>\n",
       "      <td>20.993260</td>\n",
       "    </tr>\n",
       "    <tr>\n",
       "      <th>24</th>\n",
       "      <td>Williamtown</td>\n",
       "      <td>13.167613</td>\n",
       "      <td>24.439566</td>\n",
       "    </tr>\n",
       "    <tr>\n",
       "      <th>25</th>\n",
       "      <td>Woomera</td>\n",
       "      <td>13.453633</td>\n",
       "      <td>26.487428</td>\n",
       "    </tr>\n",
       "  </tbody>\n",
       "</table>\n",
       "</div>"
      ],
      "text/plain": [
       "            Location    MinTemp    MaxTemp\n",
       "0       AliceSprings  13.878093  29.724921\n",
       "1           Brisbane  16.365628  26.436810\n",
       "2             Cairns  21.129296  29.551596\n",
       "3           Canberra   7.727829  20.363822\n",
       "4              Cobar  13.828090  26.225281\n",
       "5       CoffsHarbour  14.485000  23.766304\n",
       "6             Darwin  23.166492  32.559536\n",
       "7             Hobart   8.957091  17.783961\n",
       "8          Melbourne  11.672445  20.590253\n",
       "9   MelbourneAirport   9.958313  20.494537\n",
       "10           Mildura  10.914225  24.957440\n",
       "11             Moree  12.876738  26.937376\n",
       "12      MountGambier   8.953996  20.059026\n",
       "13     NorfolkIsland  16.849432  21.767857\n",
       "14         Nuriootpa   9.707570  22.026444\n",
       "15             Perth  13.066215  25.188066\n",
       "16      PerthAirport  12.681050  25.607793\n",
       "17          Portland   9.672464  17.270209\n",
       "18              Sale   8.604589  20.432539\n",
       "19            Sydney  15.031893  23.450178\n",
       "20     SydneyAirport  14.884042  23.414808\n",
       "21        Townsville  20.500579  29.418892\n",
       "22        WaggaWagga   9.916018  23.463535\n",
       "23          Watsonia  10.187399  20.993260\n",
       "24       Williamtown  13.167613  24.439566\n",
       "25           Woomera  13.453633  26.487428"
      ]
     },
     "execution_count": 37,
     "metadata": {},
     "output_type": "execute_result"
    }
   ],
   "source": [
    "temperature"
   ]
  },
  {
   "cell_type": "code",
   "execution_count": 38,
   "id": "52a235bd",
   "metadata": {},
   "outputs": [
    {
     "data": {
      "image/png": "[encoded data removed]",
      "text/plain": [
       "<Figure size 1080x360 with 1 Axes>"
      ]
     },
     "metadata": {
      "needs_background": "light"
     },
     "output_type": "display_data"
    }
   ],
   "source": [
    "temperature.plot(kind='bar',x='Location', figsize=(15,5), color=['plum','indianred'])\n",
    "\n",
    "plt.title('Rata-rata Suhu Max dan Min Di setiap Wilayah (Location)')\n",
    "plt.xlabel('Wilayah (Location)')\n",
    "plt.ylabel('Suhu Max dan Min')\n",
    "plt.grid(color=\"grey\")\n",
    "\n",
    "plt.show()"
   ]
  },
  {
   "cell_type": "markdown",
   "id": "9cd2840c",
   "metadata": {},
   "source": [
    "### Interpretasi :\n",
    "Keterangan : \n",
    "- Merah : MAX TEMP\n",
    "- PINK : MIN TEMP\n",
    "1. Suhu yang Paling Tinggi (MaxTemp) terdapat di Wilayah 'Darwin' dengan nilai suhu 32.5 derajat celcius\n",
    "2. Suhu yang Paling Rendah (MinTemp) terdapat di Wilayah 'Canberra' dengan nilai suhu 7 derajat celcius"
   ]
  },
  {
   "cell_type": "markdown",
   "id": "5b7bbc14",
   "metadata": {},
   "source": [
    "### Melihat korelasi dari tiap variabel terhadap variabel Rain Tomorrow"
   ]
  },
  {
   "cell_type": "code",
   "execution_count": 39,
   "id": "472239b2",
   "metadata": {},
   "outputs": [],
   "source": [
    "df_temp = df.copy()\n",
    "cat_col_list = df_temp.columns[(df_temp.dtypes == 'object')].to_list()\n",
    "for col in cat_col_list:\n",
    "    df_temp[col] = preprocessing.LabelEncoder().fit_transform(df_temp[col])"
   ]
  },
  {
   "cell_type": "code",
   "execution_count": 40,
   "id": "4de05288",
   "metadata": {},
   "outputs": [
    {
     "data": {
      "text/plain": [
       "RainTomorrow     1.000000\n",
       "Humidity3pm      0.455358\n",
       "Cloud3pm         0.388574\n",
       "Cloud9am         0.323972\n",
       "RainToday        0.309098\n",
       "Humidity9am      0.271033\n",
       "Rainfall         0.254342\n",
       "WindGustSpeed    0.233158\n",
       "WindSpeed3pm     0.088862\n",
       "MinTemp          0.087428\n",
       "WindSpeed9am     0.083904\n",
       "WindGustDir      0.061751\n",
       "WindDir9am       0.035992\n",
       "WindDir3pm       0.032203\n",
       "day              0.001359\n",
       "month            0.001046\n",
       "Location        -0.005100\n",
       "year            -0.006060\n",
       "Temp9am         -0.018179\n",
       "Evaporation     -0.130002\n",
       "MaxTemp         -0.147467\n",
       "Temp3pm         -0.183586\n",
       "Pressure3pm     -0.230418\n",
       "Pressure9am     -0.254816\n",
       "Sunshine        -0.453407\n",
       "Name: RainTomorrow, dtype: float64"
      ]
     },
     "execution_count": 40,
     "metadata": {},
     "output_type": "execute_result"
    }
   ],
   "source": [
    "# Melihat korelasi dari tiap variabel terhadap variabel Rain Tomorrow\n",
    "df_temp.corr()['RainTomorrow'].sort_values(ascending=False)"
   ]
  },
  {
   "cell_type": "markdown",
   "id": "7d104823",
   "metadata": {},
   "source": [
    "### Interpretasi :\n",
    "Berdasarkan korelasi tersebut, terlihat bahwa kolom yang paling berpengaruh terhadap harga adalah:\n",
    "1. Humidity3pm (Kelembapan jam 3 sore) dengan korelasi 0.455358\n",
    "2. Cloud3pm (cuaca berawan jam 3 sore) dengan korelasi 0.388574\n",
    "3. Cloud9am dengan korelasi 0.323972\n",
    "4. RainToday (hujan hari ini) dengan korelasi 0.309098\n",
    "5. Humidity9am (Kelembapan jam 9 pagi) dengan korelasi 0.271033\n",
    "- Maka ke-5 variabel ini akan dimasukkan ke dalam variabel fitur 'X', sedangkan RainTomorrow akan dimasukkan ke dalam variabel target 'y'."
   ]
  },
  {
   "cell_type": "markdown",
   "id": "4ed91302",
   "metadata": {},
   "source": [
    "## f. DATA PREPROCESSING\n",
    "Dalam tahap Data Preprocessing, hal yang dilakukan adalah :\n",
    "- Menampilkan Kolom dari Variabel yang akan digunakan\n",
    "- Encode Data menjadi Numerik\n",
    "- Deklarasi Variabel Fitur (X) dan Target (y)\n",
    "- Split Data (80% training dan 20% testing)"
   ]
  },
  {
   "cell_type": "markdown",
   "id": "8ea2b231",
   "metadata": {},
   "source": [
    "### Menampilkan Kolom dari Variabel yang akan digunakan"
   ]
  },
  {
   "cell_type": "code",
   "execution_count": 41,
   "id": "4ab109f0",
   "metadata": {},
   "outputs": [
    {
     "data": {
      "text/html": [
       "<div>\n",
       "<style scoped>\n",
       "    .dataframe tbody tr th:only-of-type {\n",
       "        vertical-align: middle;\n",
       "    }\n",
       "\n",
       "    .dataframe tbody tr th {\n",
       "        vertical-align: top;\n",
       "    }\n",
       "\n",
       "    .dataframe thead th {\n",
       "        text-align: right;\n",
       "    }\n",
       "</style>\n",
       "<table border=\"1\" class=\"dataframe\">\n",
       "  <thead>\n",
       "    <tr style=\"text-align: right;\">\n",
       "      <th></th>\n",
       "      <th>Humidity9am</th>\n",
       "      <th>Humidity3pm</th>\n",
       "      <th>Cloud9am</th>\n",
       "      <th>Cloud3pm</th>\n",
       "      <th>RainToday</th>\n",
       "      <th>RainTomorrow</th>\n",
       "    </tr>\n",
       "  </thead>\n",
       "  <tbody>\n",
       "    <tr>\n",
       "      <th>6049</th>\n",
       "      <td>20.0</td>\n",
       "      <td>13.0</td>\n",
       "      <td>2.0</td>\n",
       "      <td>5.0</td>\n",
       "      <td>0</td>\n",
       "      <td>0</td>\n",
       "    </tr>\n",
       "    <tr>\n",
       "      <th>6050</th>\n",
       "      <td>30.0</td>\n",
       "      <td>8.0</td>\n",
       "      <td>1.0</td>\n",
       "      <td>1.0</td>\n",
       "      <td>0</td>\n",
       "      <td>0</td>\n",
       "    </tr>\n",
       "    <tr>\n",
       "      <th>6052</th>\n",
       "      <td>42.0</td>\n",
       "      <td>22.0</td>\n",
       "      <td>1.0</td>\n",
       "      <td>6.0</td>\n",
       "      <td>0</td>\n",
       "      <td>0</td>\n",
       "    </tr>\n",
       "    <tr>\n",
       "      <th>6053</th>\n",
       "      <td>37.0</td>\n",
       "      <td>22.0</td>\n",
       "      <td>1.0</td>\n",
       "      <td>5.0</td>\n",
       "      <td>0</td>\n",
       "      <td>0</td>\n",
       "    </tr>\n",
       "    <tr>\n",
       "      <th>6054</th>\n",
       "      <td>19.0</td>\n",
       "      <td>15.0</td>\n",
       "      <td>1.0</td>\n",
       "      <td>6.0</td>\n",
       "      <td>0</td>\n",
       "      <td>0</td>\n",
       "    </tr>\n",
       "  </tbody>\n",
       "</table>\n",
       "</div>"
      ],
      "text/plain": [
       "      Humidity9am  Humidity3pm  Cloud9am  Cloud3pm  RainToday  RainTomorrow\n",
       "6049         20.0         13.0       2.0       5.0          0             0\n",
       "6050         30.0          8.0       1.0       1.0          0             0\n",
       "6052         42.0         22.0       1.0       6.0          0             0\n",
       "6053         37.0         22.0       1.0       5.0          0             0\n",
       "6054         19.0         15.0       1.0       6.0          0             0"
      ]
     },
     "execution_count": 41,
     "metadata": {},
     "output_type": "execute_result"
    }
   ],
   "source": [
    "# Menampilkan Kolom dari Variabel yang akan digunakan\n",
    "df_fix = df[['Humidity9am', 'Humidity3pm', 'Cloud9am', 'Cloud3pm',  'RainToday','RainTomorrow']]\n",
    "df_fix.head()"
   ]
  },
  {
   "cell_type": "markdown",
   "id": "c789fa5b",
   "metadata": {},
   "source": [
    "### Encode Data menjadi Numerik"
   ]
  },
  {
   "cell_type": "code",
   "execution_count": 42,
   "id": "73de3057",
   "metadata": {},
   "outputs": [
    {
     "name": "stderr",
     "output_type": "stream",
     "text": [
      "C:\\Users\\USER\\AppData\\Local\\Temp\\ipykernel_14688\\1273460750.py:2: SettingWithCopyWarning: \n",
      "A value is trying to be set on a copy of a slice from a DataFrame.\n",
      "Try using .loc[row_indexer,col_indexer] = value instead\n",
      "\n",
      "See the caveats in the documentation: https://pandas.pydata.org/pandas-docs/stable/user_guide/indexing.html#returning-a-view-versus-a-copy\n",
      "  df_fix['RainToday'] = label.fit_transform(df_fix['RainToday'])\n",
      "C:\\Users\\USER\\AppData\\Local\\Temp\\ipykernel_14688\\1273460750.py:3: SettingWithCopyWarning: \n",
      "A value is trying to be set on a copy of a slice from a DataFrame.\n",
      "Try using .loc[row_indexer,col_indexer] = value instead\n",
      "\n",
      "See the caveats in the documentation: https://pandas.pydata.org/pandas-docs/stable/user_guide/indexing.html#returning-a-view-versus-a-copy\n",
      "  df_fix['RainTomorrow'] = label.fit_transform(df_fix['RainTomorrow'])\n"
     ]
    }
   ],
   "source": [
    "label = LabelEncoder()\n",
    "df_fix['RainToday'] = label.fit_transform(df_fix['RainToday'])\n",
    "df_fix['RainTomorrow'] = label.fit_transform(df_fix['RainTomorrow'])"
   ]
  },
  {
   "cell_type": "markdown",
   "id": "73f0d910",
   "metadata": {},
   "source": [
    "### Deklarasi Variabel Fitur (X) dan Target (y)"
   ]
  },
  {
   "cell_type": "code",
   "execution_count": 43,
   "id": "2059dec7",
   "metadata": {},
   "outputs": [],
   "source": [
    "# Deklarasi Variabel Fitur (X) dan Target (y)\n",
    "X = df[['Humidity9am', 'Humidity3pm', 'Cloud9am', 'Cloud3pm', 'RainToday']]\n",
    "y = df['RainTomorrow']"
   ]
  },
  {
   "cell_type": "markdown",
   "id": "9b01cb67",
   "metadata": {},
   "source": [
    "### Split Data"
   ]
  },
  {
   "cell_type": "code",
   "execution_count": 44,
   "id": "0f471ce0",
   "metadata": {},
   "outputs": [],
   "source": [
    "# Split Data 80% training dan 20% testing\n",
    "X_train, X_test, y_train, y_test = train_test_split(X, y, test_size = 0.2, random_state =42)"
   ]
  },
  {
   "cell_type": "markdown",
   "id": "c68f5ec8",
   "metadata": {},
   "source": [
    "## g. PENDEFINISIAN MODEL\n",
    "Dalam tahap Data Preprocessing, hal yang dilakukan adalah :\n",
    "- Membuat variabel yang memanggil model Logistic Regression\n",
    "- Membuat variabel yang memanggil model Support Vector Machine (SVM)"
   ]
  },
  {
   "cell_type": "markdown",
   "id": "9a1cad6b",
   "metadata": {},
   "source": [
    "### Logistic Regression"
   ]
  },
  {
   "cell_type": "code",
   "execution_count": 45,
   "id": "6c6871e2",
   "metadata": {},
   "outputs": [],
   "source": [
    "# Membuat variabel yang memanggil model Logistic Regression\n",
    "logistic = LogisticRegression()"
   ]
  },
  {
   "cell_type": "markdown",
   "id": "29673918",
   "metadata": {},
   "source": [
    "### Support Vector Machine (SVM)"
   ]
  },
  {
   "cell_type": "code",
   "execution_count": 46,
   "id": "cf58f7da",
   "metadata": {},
   "outputs": [],
   "source": [
    "# Membuat variabel yang memanggil model Support Vector Machine (SVM)\n",
    "svm_model = LinearSVC()"
   ]
  },
  {
   "cell_type": "markdown",
   "id": "49a52434",
   "metadata": {},
   "source": [
    "## h. PELATIHAN MODEL (Model Training)\n",
    "Dalam Tahap Model Training, kami membuat prediksi data baru (Rain Tomorrow) menggunakan Nodel Logistic Regression dan Support Vector Machine (SVM)."
   ]
  },
  {
   "cell_type": "markdown",
   "id": "ba45c0d7",
   "metadata": {},
   "source": [
    "### Logistic Regression"
   ]
  },
  {
   "cell_type": "code",
   "execution_count": 47,
   "id": "9f63cb15",
   "metadata": {
    "scrolled": true
   },
   "outputs": [
    {
     "data": {
      "text/html": [
       "<style>#sk-container-id-1 {color: black;background-color: white;}#sk-container-id-1 pre{padding: 0;}#sk-container-id-1 div.sk-toggleable {background-color: white;}#sk-container-id-1 label.sk-toggleable__label {cursor: pointer;display: block;width: 100%;margin-bottom: 0;padding: 0.3em;box-sizing: border-box;text-align: center;}#sk-container-id-1 label.sk-toggleable__label-arrow:before {content: \"▸\";float: left;margin-right: 0.25em;color: #696969;}#sk-container-id-1 label.sk-toggleable__label-arrow:hover:before {color: black;}#sk-container-id-1 div.sk-estimator:hover label.sk-toggleable__label-arrow:before {color: black;}#sk-container-id-1 div.sk-toggleable__content {max-height: 0;max-width: 0;overflow: hidden;text-align: left;background-color: #f0f8ff;}#sk-container-id-1 div.sk-toggleable__content pre {margin: 0.2em;color: black;border-radius: 0.25em;background-color: #f0f8ff;}#sk-container-id-1 input.sk-toggleable__control:checked~div.sk-toggleable__content {max-height: 200px;max-width: 100%;overflow: auto;}#sk-container-id-1 input.sk-toggleable__control:checked~label.sk-toggleable__label-arrow:before {content: \"▾\";}#sk-container-id-1 div.sk-estimator input.sk-toggleable__control:checked~label.sk-toggleable__label {background-color: #d4ebff;}#sk-container-id-1 div.sk-label input.sk-toggleable__control:checked~label.sk-toggleable__label {background-color: #d4ebff;}#sk-container-id-1 input.sk-hidden--visually {border: 0;clip: rect(1px 1px 1px 1px);clip: rect(1px, 1px, 1px, 1px);height: 1px;margin: -1px;overflow: hidden;padding: 0;position: absolute;width: 1px;}#sk-container-id-1 div.sk-estimator {font-family: monospace;background-color: #f0f8ff;border: 1px dotted black;border-radius: 0.25em;box-sizing: border-box;margin-bottom: 0.5em;}#sk-container-id-1 div.sk-estimator:hover {background-color: #d4ebff;}#sk-container-id-1 div.sk-parallel-item::after {content: \"\";width: 100%;border-bottom: 1px solid gray;flex-grow: 1;}#sk-container-id-1 div.sk-label:hover label.sk-toggleable__label {background-color: #d4ebff;}#sk-container-id-1 div.sk-serial::before {content: \"\";position: absolute;border-left: 1px solid gray;box-sizing: border-box;top: 0;bottom: 0;left: 50%;z-index: 0;}#sk-container-id-1 div.sk-serial {display: flex;flex-direction: column;align-items: center;background-color: white;padding-right: 0.2em;padding-left: 0.2em;position: relative;}#sk-container-id-1 div.sk-item {position: relative;z-index: 1;}#sk-container-id-1 div.sk-parallel {display: flex;align-items: stretch;justify-content: center;background-color: white;position: relative;}#sk-container-id-1 div.sk-item::before, #sk-container-id-1 div.sk-parallel-item::before {content: \"\";position: absolute;border-left: 1px solid gray;box-sizing: border-box;top: 0;bottom: 0;left: 50%;z-index: -1;}#sk-container-id-1 div.sk-parallel-item {display: flex;flex-direction: column;z-index: 1;position: relative;background-color: white;}#sk-container-id-1 div.sk-parallel-item:first-child::after {align-self: flex-end;width: 50%;}#sk-container-id-1 div.sk-parallel-item:last-child::after {align-self: flex-start;width: 50%;}#sk-container-id-1 div.sk-parallel-item:only-child::after {width: 0;}#sk-container-id-1 div.sk-dashed-wrapped {border: 1px dashed gray;margin: 0 0.4em 0.5em 0.4em;box-sizing: border-box;padding-bottom: 0.4em;background-color: white;}#sk-container-id-1 div.sk-label label {font-family: monospace;font-weight: bold;display: inline-block;line-height: 1.2em;}#sk-container-id-1 div.sk-label-container {text-align: center;}#sk-container-id-1 div.sk-container {/* jupyter's `normalize.less` sets `[hidden] { display: none; }` but bootstrap.min.css set `[hidden] { display: none !important; }` so we also need the `!important` here to be able to override the default hidden behavior on the sphinx rendered scikit-learn.org. See: https://github.com/scikit-learn/scikit-learn/issues/21755 */display: inline-block !important;position: relative;}#sk-container-id-1 div.sk-text-repr-fallback {display: none;}</style><div id=\"sk-container-id-1\" class=\"sk-top-container\"><div class=\"sk-text-repr-fallback\"><pre>LogisticRegression()</pre><b>In a Jupyter environment, please rerun this cell to show the HTML representation or trust the notebook. <br />On GitHub, the HTML representation is unable to render, please try loading this page with nbviewer.org.</b></div><div class=\"sk-container\" hidden><div class=\"sk-item\"><div class=\"sk-estimator sk-toggleable\"><input class=\"sk-toggleable__control sk-hidden--visually\" id=\"sk-estimator-id-1\" type=\"checkbox\" checked><label for=\"sk-estimator-id-1\" class=\"sk-toggleable__label sk-toggleable__label-arrow\">LogisticRegression</label><div class=\"sk-toggleable__content\"><pre>LogisticRegression()</pre></div></div></div></div></div>"
      ],
      "text/plain": [
       "LogisticRegression()"
      ]
     },
     "execution_count": 47,
     "metadata": {},
     "output_type": "execute_result"
    }
   ],
   "source": [
    "logistic.fit(X_train, y_train)"
   ]
  },
  {
   "cell_type": "code",
   "execution_count": 48,
   "id": "be3a27ab",
   "metadata": {},
   "outputs": [],
   "source": [
    "#prediksi respon untuk dataset test\n",
    "logreg_pred = logistic.predict(X_test)"
   ]
  },
  {
   "cell_type": "code",
   "execution_count": 49,
   "id": "7d1ee096",
   "metadata": {
    "scrolled": true
   },
   "outputs": [
    {
     "data": {
      "text/html": [
       "<div>\n",
       "<style scoped>\n",
       "    .dataframe tbody tr th:only-of-type {\n",
       "        vertical-align: middle;\n",
       "    }\n",
       "\n",
       "    .dataframe tbody tr th {\n",
       "        vertical-align: top;\n",
       "    }\n",
       "\n",
       "    .dataframe thead th {\n",
       "        text-align: right;\n",
       "    }\n",
       "</style>\n",
       "<table border=\"1\" class=\"dataframe\">\n",
       "  <thead>\n",
       "    <tr style=\"text-align: right;\">\n",
       "      <th></th>\n",
       "      <th>Humidity9am</th>\n",
       "      <th>Humidity3pm</th>\n",
       "      <th>Cloud9am</th>\n",
       "      <th>Cloud3pm</th>\n",
       "      <th>RainToday</th>\n",
       "      <th>RainTomorrow_Logistic</th>\n",
       "    </tr>\n",
       "  </thead>\n",
       "  <tbody>\n",
       "    <tr>\n",
       "      <th>47050</th>\n",
       "      <td>67.0</td>\n",
       "      <td>39.0</td>\n",
       "      <td>1.0</td>\n",
       "      <td>3.0</td>\n",
       "      <td>0</td>\n",
       "      <td>0</td>\n",
       "    </tr>\n",
       "    <tr>\n",
       "      <th>139158</th>\n",
       "      <td>18.0</td>\n",
       "      <td>8.0</td>\n",
       "      <td>1.0</td>\n",
       "      <td>1.0</td>\n",
       "      <td>0</td>\n",
       "      <td>0</td>\n",
       "    </tr>\n",
       "    <tr>\n",
       "      <th>23488</th>\n",
       "      <td>69.0</td>\n",
       "      <td>62.0</td>\n",
       "      <td>4.0</td>\n",
       "      <td>3.0</td>\n",
       "      <td>1</td>\n",
       "      <td>0</td>\n",
       "    </tr>\n",
       "    <tr>\n",
       "      <th>32117</th>\n",
       "      <td>50.0</td>\n",
       "      <td>42.0</td>\n",
       "      <td>7.0</td>\n",
       "      <td>7.0</td>\n",
       "      <td>0</td>\n",
       "      <td>0</td>\n",
       "    </tr>\n",
       "  </tbody>\n",
       "</table>\n",
       "</div>"
      ],
      "text/plain": [
       "        Humidity9am  Humidity3pm  Cloud9am  Cloud3pm  RainToday  \\\n",
       "47050          67.0         39.0       1.0       3.0          0   \n",
       "139158         18.0          8.0       1.0       1.0          0   \n",
       "23488          69.0         62.0       4.0       3.0          1   \n",
       "32117          50.0         42.0       7.0       7.0          0   \n",
       "\n",
       "        RainTomorrow_Logistic  \n",
       "47050                       0  \n",
       "139158                      0  \n",
       "23488                       0  \n",
       "32117                       0  "
      ]
     },
     "execution_count": 49,
     "metadata": {},
     "output_type": "execute_result"
    }
   ],
   "source": [
    "#membuat hasil prediksi \n",
    "test = X_test.copy()\n",
    "\n",
    "df_test = pd.DataFrame(test)\n",
    "df_test['RainTomorrow_Logistic'] = logreg_pred\n",
    "\n",
    "df_test.head(4)"
   ]
  },
  {
   "cell_type": "markdown",
   "id": "5ac20694",
   "metadata": {},
   "source": [
    "### Support Vector Machine (SVM)"
   ]
  },
  {
   "cell_type": "code",
   "execution_count": 50,
   "id": "a20e0432",
   "metadata": {},
   "outputs": [
    {
     "name": "stderr",
     "output_type": "stream",
     "text": [
      "C:\\Users\\USER\\AppData\\Local\\Programs\\Python\\Python310\\lib\\site-packages\\sklearn\\svm\\_base.py:1225: ConvergenceWarning: Liblinear failed to converge, increase the number of iterations.\n",
      "  warnings.warn(\n"
     ]
    },
    {
     "data": {
      "text/html": [
       "<style>#sk-container-id-2 {color: black;background-color: white;}#sk-container-id-2 pre{padding: 0;}#sk-container-id-2 div.sk-toggleable {background-color: white;}#sk-container-id-2 label.sk-toggleable__label {cursor: pointer;display: block;width: 100%;margin-bottom: 0;padding: 0.3em;box-sizing: border-box;text-align: center;}#sk-container-id-2 label.sk-toggleable__label-arrow:before {content: \"▸\";float: left;margin-right: 0.25em;color: #696969;}#sk-container-id-2 label.sk-toggleable__label-arrow:hover:before {color: black;}#sk-container-id-2 div.sk-estimator:hover label.sk-toggleable__label-arrow:before {color: black;}#sk-container-id-2 div.sk-toggleable__content {max-height: 0;max-width: 0;overflow: hidden;text-align: left;background-color: #f0f8ff;}#sk-container-id-2 div.sk-toggleable__content pre {margin: 0.2em;color: black;border-radius: 0.25em;background-color: #f0f8ff;}#sk-container-id-2 input.sk-toggleable__control:checked~div.sk-toggleable__content {max-height: 200px;max-width: 100%;overflow: auto;}#sk-container-id-2 input.sk-toggleable__control:checked~label.sk-toggleable__label-arrow:before {content: \"▾\";}#sk-container-id-2 div.sk-estimator input.sk-toggleable__control:checked~label.sk-toggleable__label {background-color: #d4ebff;}#sk-container-id-2 div.sk-label input.sk-toggleable__control:checked~label.sk-toggleable__label {background-color: #d4ebff;}#sk-container-id-2 input.sk-hidden--visually {border: 0;clip: rect(1px 1px 1px 1px);clip: rect(1px, 1px, 1px, 1px);height: 1px;margin: -1px;overflow: hidden;padding: 0;position: absolute;width: 1px;}#sk-container-id-2 div.sk-estimator {font-family: monospace;background-color: #f0f8ff;border: 1px dotted black;border-radius: 0.25em;box-sizing: border-box;margin-bottom: 0.5em;}#sk-container-id-2 div.sk-estimator:hover {background-color: #d4ebff;}#sk-container-id-2 div.sk-parallel-item::after {content: \"\";width: 100%;border-bottom: 1px solid gray;flex-grow: 1;}#sk-container-id-2 div.sk-label:hover label.sk-toggleable__label {background-color: #d4ebff;}#sk-container-id-2 div.sk-serial::before {content: \"\";position: absolute;border-left: 1px solid gray;box-sizing: border-box;top: 0;bottom: 0;left: 50%;z-index: 0;}#sk-container-id-2 div.sk-serial {display: flex;flex-direction: column;align-items: center;background-color: white;padding-right: 0.2em;padding-left: 0.2em;position: relative;}#sk-container-id-2 div.sk-item {position: relative;z-index: 1;}#sk-container-id-2 div.sk-parallel {display: flex;align-items: stretch;justify-content: center;background-color: white;position: relative;}#sk-container-id-2 div.sk-item::before, #sk-container-id-2 div.sk-parallel-item::before {content: \"\";position: absolute;border-left: 1px solid gray;box-sizing: border-box;top: 0;bottom: 0;left: 50%;z-index: -1;}#sk-container-id-2 div.sk-parallel-item {display: flex;flex-direction: column;z-index: 1;position: relative;background-color: white;}#sk-container-id-2 div.sk-parallel-item:first-child::after {align-self: flex-end;width: 50%;}#sk-container-id-2 div.sk-parallel-item:last-child::after {align-self: flex-start;width: 50%;}#sk-container-id-2 div.sk-parallel-item:only-child::after {width: 0;}#sk-container-id-2 div.sk-dashed-wrapped {border: 1px dashed gray;margin: 0 0.4em 0.5em 0.4em;box-sizing: border-box;padding-bottom: 0.4em;background-color: white;}#sk-container-id-2 div.sk-label label {font-family: monospace;font-weight: bold;display: inline-block;line-height: 1.2em;}#sk-container-id-2 div.sk-label-container {text-align: center;}#sk-container-id-2 div.sk-container {/* jupyter's `normalize.less` sets `[hidden] { display: none; }` but bootstrap.min.css set `[hidden] { display: none !important; }` so we also need the `!important` here to be able to override the default hidden behavior on the sphinx rendered scikit-learn.org. See: https://github.com/scikit-learn/scikit-learn/issues/21755 */display: inline-block !important;position: relative;}#sk-container-id-2 div.sk-text-repr-fallback {display: none;}</style><div id=\"sk-container-id-2\" class=\"sk-top-container\"><div class=\"sk-text-repr-fallback\"><pre>LinearSVC()</pre><b>In a Jupyter environment, please rerun this cell to show the HTML representation or trust the notebook. <br />On GitHub, the HTML representation is unable to render, please try loading this page with nbviewer.org.</b></div><div class=\"sk-container\" hidden><div class=\"sk-item\"><div class=\"sk-estimator sk-toggleable\"><input class=\"sk-toggleable__control sk-hidden--visually\" id=\"sk-estimator-id-2\" type=\"checkbox\" checked><label for=\"sk-estimator-id-2\" class=\"sk-toggleable__label sk-toggleable__label-arrow\">LinearSVC</label><div class=\"sk-toggleable__content\"><pre>LinearSVC()</pre></div></div></div></div></div>"
      ],
      "text/plain": [
       "LinearSVC()"
      ]
     },
     "execution_count": 50,
     "metadata": {},
     "output_type": "execute_result"
    }
   ],
   "source": [
    "svm_model.fit(X_train,y_train)"
   ]
  },
  {
   "cell_type": "code",
   "execution_count": 51,
   "id": "1479cff6",
   "metadata": {},
   "outputs": [],
   "source": [
    "#prediksi respon untuk dataset test\n",
    "svm_pred = svm_model.predict(X_test)"
   ]
  },
  {
   "cell_type": "code",
   "execution_count": 52,
   "id": "487bf5a8",
   "metadata": {},
   "outputs": [
    {
     "data": {
      "text/html": [
       "<div>\n",
       "<style scoped>\n",
       "    .dataframe tbody tr th:only-of-type {\n",
       "        vertical-align: middle;\n",
       "    }\n",
       "\n",
       "    .dataframe tbody tr th {\n",
       "        vertical-align: top;\n",
       "    }\n",
       "\n",
       "    .dataframe thead th {\n",
       "        text-align: right;\n",
       "    }\n",
       "</style>\n",
       "<table border=\"1\" class=\"dataframe\">\n",
       "  <thead>\n",
       "    <tr style=\"text-align: right;\">\n",
       "      <th></th>\n",
       "      <th>Humidity9am</th>\n",
       "      <th>Humidity3pm</th>\n",
       "      <th>Cloud9am</th>\n",
       "      <th>Cloud3pm</th>\n",
       "      <th>RainToday</th>\n",
       "      <th>RainTomorrow_Logistic</th>\n",
       "      <th>RainTomorrow_SVM</th>\n",
       "    </tr>\n",
       "  </thead>\n",
       "  <tbody>\n",
       "    <tr>\n",
       "      <th>47050</th>\n",
       "      <td>67.0</td>\n",
       "      <td>39.0</td>\n",
       "      <td>1.0</td>\n",
       "      <td>3.0</td>\n",
       "      <td>0</td>\n",
       "      <td>0</td>\n",
       "      <td>0</td>\n",
       "    </tr>\n",
       "    <tr>\n",
       "      <th>139158</th>\n",
       "      <td>18.0</td>\n",
       "      <td>8.0</td>\n",
       "      <td>1.0</td>\n",
       "      <td>1.0</td>\n",
       "      <td>0</td>\n",
       "      <td>0</td>\n",
       "      <td>0</td>\n",
       "    </tr>\n",
       "    <tr>\n",
       "      <th>23488</th>\n",
       "      <td>69.0</td>\n",
       "      <td>62.0</td>\n",
       "      <td>4.0</td>\n",
       "      <td>3.0</td>\n",
       "      <td>1</td>\n",
       "      <td>0</td>\n",
       "      <td>0</td>\n",
       "    </tr>\n",
       "    <tr>\n",
       "      <th>32117</th>\n",
       "      <td>50.0</td>\n",
       "      <td>42.0</td>\n",
       "      <td>7.0</td>\n",
       "      <td>7.0</td>\n",
       "      <td>0</td>\n",
       "      <td>0</td>\n",
       "      <td>0</td>\n",
       "    </tr>\n",
       "  </tbody>\n",
       "</table>\n",
       "</div>"
      ],
      "text/plain": [
       "        Humidity9am  Humidity3pm  Cloud9am  Cloud3pm  RainToday  \\\n",
       "47050          67.0         39.0       1.0       3.0          0   \n",
       "139158         18.0          8.0       1.0       1.0          0   \n",
       "23488          69.0         62.0       4.0       3.0          1   \n",
       "32117          50.0         42.0       7.0       7.0          0   \n",
       "\n",
       "        RainTomorrow_Logistic  RainTomorrow_SVM  \n",
       "47050                       0                 0  \n",
       "139158                      0                 0  \n",
       "23488                       0                 0  \n",
       "32117                       0                 0  "
      ]
     },
     "execution_count": 52,
     "metadata": {},
     "output_type": "execute_result"
    }
   ],
   "source": [
    "#membuat hasil prediksi \n",
    "test1 = X_test.copy()\n",
    "\n",
    "df_test1 = pd.DataFrame(test)\n",
    "df_test1['RainTomorrow_SVM'] = svm_pred\n",
    "\n",
    "df_test1.head(4)"
   ]
  },
  {
   "cell_type": "markdown",
   "id": "617a5b25",
   "metadata": {},
   "source": [
    "## i. EVALUASI MODEL\n",
    "Pada Tahap Evaluasi Model, menampilkan Accuracy Score prediksi dan Mean Squared Error dari Model Logistic Regression dan Support Vector Machine (SVM)."
   ]
  },
  {
   "cell_type": "markdown",
   "id": "3cdc8d40",
   "metadata": {},
   "source": [
    "### Logistic Regression"
   ]
  },
  {
   "cell_type": "code",
   "execution_count": 55,
   "id": "31c55d96",
   "metadata": {},
   "outputs": [
    {
     "name": "stdout",
     "output_type": "stream",
     "text": [
      "Accuracy Score: 0.8348989719957461\n"
     ]
    }
   ],
   "source": [
    "print(\"Accuracy Score:\", str(logistic.score(X_test, y_test)))"
   ]
  },
  {
   "cell_type": "code",
   "execution_count": 56,
   "id": "955b1801",
   "metadata": {},
   "outputs": [
    {
     "name": "stdout",
     "output_type": "stream",
     "text": [
      "Mean Squared Error: 0.1651010280042538\n"
     ]
    }
   ],
   "source": [
    "print(\"Mean Squared Error:\", str(mean_squared_error(y_test, logreg_pred)))"
   ]
  },
  {
   "cell_type": "markdown",
   "id": "d9d83747",
   "metadata": {},
   "source": [
    "### Interpretasi\n",
    "Model Logistic Regression memiliki nilai akurasi sebesar  0.83 atau sekitar 83.48% dan nilai MSE sebesar 0.17 yang berarti model dapat menebak dengan benar 'Rain Tomorrow' sebesar 83.48% kemungkinan."
   ]
  },
  {
   "cell_type": "markdown",
   "id": "a6be3001",
   "metadata": {},
   "source": [
    "### Support Vector Machine (SVM)"
   ]
  },
  {
   "cell_type": "code",
   "execution_count": 57,
   "id": "b6891ecc",
   "metadata": {
    "scrolled": true
   },
   "outputs": [
    {
     "name": "stdout",
     "output_type": "stream",
     "text": [
      "Accuracy Score: 0.8245303084012762\n"
     ]
    }
   ],
   "source": [
    "print(\"Accuracy Score:\", str(svm_model.score(X_test, y_test)))"
   ]
  },
  {
   "cell_type": "code",
   "execution_count": 58,
   "id": "f2381c14",
   "metadata": {},
   "outputs": [
    {
     "name": "stdout",
     "output_type": "stream",
     "text": [
      "Mean Squared Error: 0.17546969159872386\n"
     ]
    }
   ],
   "source": [
    "print(\"Mean Squared Error:\", str(mean_squared_error(y_test, svm_pred)))"
   ]
  },
  {
   "cell_type": "markdown",
   "id": "7be15d4c",
   "metadata": {},
   "source": [
    "### Interpretasi\n",
    "Model Support Vector Machine (SVM) memiliki nilai akurasi sebesar  0.82 atau sekitar 82.45% dan nilai MSE sebesar 0.17 yang berarti model dapat menebak dengan benar 'Rain Tomorrow' sebesar 82.45% kemungkinan."
   ]
  },
  {
   "cell_type": "markdown",
   "id": "20c305d6",
   "metadata": {},
   "source": []
  },
  {
   "cell_type": "markdown",
   "id": "c1a5556c",
   "metadata": {},
   "source": [
    "## j. Model Inference\n",
    "Pada tahap Model Inference, kami membuat model berdasarkan data baru. Seperti tampilan dibawah, kita akan memasukkan data pada:\n",
    "1. Humidity9 (Kelembapan udara jam 9 pagi)\n",
    "2. Humidity3 (Kelembapan udara jam 3 sore)\n",
    "3. Cloud9 = (Cuaca berawan jam 9 pagi)\n",
    "4. Cloud3 = (Cuaca berawan jam 3 sore)\n",
    "5. Rain = (Apakah hari ini hujan?(yes/no))\n",
    "- Jika memasukkan data rain 'yes' maka outputnya Besok diprediksi 'Akan hujan'\n",
    "- Jika memasukkan data rain 'no' maka outputnya Besok diprediksi 'Tidak Akan hujan'"
   ]
  },
  {
   "cell_type": "code",
   "execution_count": 53,
   "id": "449ed68b",
   "metadata": {},
   "outputs": [
    {
     "name": "stdout",
     "output_type": "stream",
     "text": [
      "Kelembapan udara jam 9 pagi:24\n",
      "Kelembapan udara jam 3 sore:20\n",
      "Cuaca berawan jam 9 pagi:30\n",
      "Cuaca berawan jam 3 sore:25\n",
      "Apakah hari ini hujan?(yes/no)yes\n"
     ]
    }
   ],
   "source": [
    "Humidity9 = float(input('Kelembapan udara jam 9 pagi:'))\n",
    "Humidity3 = float(input('Kelembapan udara jam 3 sore:'))\n",
    "Cloud9 = float(input('Cuaca berawan jam 9 pagi:'))\n",
    "Cloud3 = float(input('Cuaca berawan jam 3 sore:'))\n",
    "Rain = input('Apakah hari ini hujan?(yes/no)')\n",
    "\n",
    "input =[Humidity9,Humidity3,Cloud9,Cloud3]\n",
    "\n",
    "if Rain == 'yes':\n",
    "    input.append(1)\n",
    "elif Rain == 'no':\n",
    "    input.append(0)"
   ]
  },
  {
   "cell_type": "code",
   "execution_count": 54,
   "id": "b0afbaeb",
   "metadata": {},
   "outputs": [
    {
     "name": "stdout",
     "output_type": "stream",
     "text": [
      "Besok akan diprediksi Akan hujan\n"
     ]
    },
    {
     "name": "stderr",
     "output_type": "stream",
     "text": [
      "C:\\Users\\USER\\AppData\\Local\\Programs\\Python\\Python310\\lib\\site-packages\\sklearn\\base.py:450: UserWarning: X does not have valid feature names, but LogisticRegression was fitted with feature names\n",
      "  warnings.warn(\n"
     ]
    }
   ],
   "source": [
    "predicted = logistic.predict([input])\n",
    "\n",
    "if predicted == 1:\n",
    "    prediction='Akan hujan'\n",
    "elif predicted == 2:\n",
    "    prediction='Tidak akan hujan'\n",
    "\n",
    "print('Besok diprediksi', prediction)"
   ]
  },
  {
   "cell_type": "markdown",
   "id": "46b918ce",
   "metadata": {},
   "source": [
    "## k. Pengambilan Kesimpulan"
   ]
  },
  {
   "cell_type": "markdown",
   "id": "8c41458d",
   "metadata": {},
   "source": [
    "Dapat disimpulkan bahwa:\n",
    "- Intensitas curah hujan tertinggi terdapat di wilayah Cairns dengan nilai rata-rata 4.522 mm, sedangkan Intensitas curah hujan terendah terdapat di wilayah Woomera dengan nilai rata-rata 0.526 mm.\n",
    "- Kecepatan angin biasanya menurun dari bulan 1 (Januari) hingga bulan ke-6 (Juni), lalu meningkat kembali dari bulan ke-6 (Juni) hingga bulan ke-12 (Desember).\n",
    "- Variabel fitur 'Humidity9am, Humidity3pm, Cloud9am, Cloud3pm, dan RainToday' merupakan 5 variabel yang memiliki pengaruh terhadap variabel target 'RainTomorrow'. Variabel ini diambil berdasarkan urutan korelasi terkuat positif.\n",
    "- Nilai Korelasinya:\n",
    "1. Humidity3pm dengan korelasi 0.455358\n",
    "2. Cloud3pm dengan korelasi 0.388574\n",
    "3. Cloud9am dengan korelasi 0.323972\n",
    "4. RainToday dengan korelasi 0.309098\n",
    "5. Humidity9am dengan korelasi 0.271033\n",
    "\n",
    "- Model Logistic Regression memiliki nilai akurasi sebesar  0.83 atau sekitar 83.48% dan nilai MSE sebesar 0.17 yang berarti model dapat menebak dengan benar 'Rain Tomorrow' sebesar 83.48% kemungkinan.\n",
    "- Model Support Vector Machine (SVM) memiliki nilai akurasi sebesar  0.82 atau sekitar 82.45% dan nilai MSE sebesar 0.17 yang berarti model dapat menebak dengan benar 'Rain Tomorrow' sebesar 82.45% kemungkinan.\n",
    "- Kedua model ini memiliki Accuracy Score yang hampir sama, namun Proses Training Model Logistic Regression lebih cepat daripada Model Support Vector Machine (SVM)\n"
   ]
  },
  {
   "cell_type": "code",
   "execution_count": null,
   "id": "0de0b341",
   "metadata": {},
   "outputs": [],
   "source": []
  }
 ],
 "metadata": {
  "kernelspec": {
   "display_name": "Python 3 (ipykernel)",
   "language": "python",
   "name": "python3"
  },
  "language_info": {
   "codemirror_mode": {
    "name": "ipython",
    "version": 3
   },
   "file_extension": ".py",
   "mimetype": "text/x-python",
   "name": "python",
   "nbconvert_exporter": "python",
   "pygments_lexer": "ipython3",
   "version": "3.10.4"
  }
 },
 "nbformat": 4,
 "nbformat_minor": 5
}
