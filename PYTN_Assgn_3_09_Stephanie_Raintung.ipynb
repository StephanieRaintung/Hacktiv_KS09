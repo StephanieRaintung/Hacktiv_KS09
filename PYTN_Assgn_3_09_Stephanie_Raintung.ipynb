{
 "cells": [
  {
   "cell_type": "markdown",
   "id": "63e91389",
   "metadata": {},
   "source": [
    "## ASSIGNMENT 3"
   ]
  },
  {
   "cell_type": "markdown",
   "id": "e9ca40ef",
   "metadata": {},
   "source": [
    "##  Predict if The client Will Subscribe (yes/no) a term deposit (variable y)."
   ]
  },
  {
   "cell_type": "markdown",
   "id": "51c68487",
   "metadata": {},
   "source": [
    "### ABOUT DATASETS?\n",
    "\n",
    "The data relates to a marketing campaign from a Portuguese banking institution, which was carried out by telephone. This call is to check the client whether they AGREE ('yes') to subscribe to the 'time deposit product' from the bank, or NO ('no')."
   ]
  },
  {
   "cell_type": "markdown",
   "id": "2eeb0384",
   "metadata": {},
   "source": [
    "### THE GOAL IS...\n",
    "To predict if the client will subscribe (yes/no) a term deposit (variable y)."
   ]
  },
  {
   "cell_type": "markdown",
   "id": "0592807a",
   "metadata": {},
   "source": [
    "### #1 IMPORT LIBRARY"
   ]
  },
  {
   "cell_type": "code",
   "execution_count": 1,
   "id": "75776e70",
   "metadata": {},
   "outputs": [],
   "source": [
    "# import library yang dibutuhkan\n",
    "import pandas as pd\n",
    "import numpy as np\n",
    "import matplotlib.pyplot as plt\n",
    "import seaborn as sns\n",
    "from sklearn.preprocessing import StandardScaler\n",
    "from sklearn.model_selection import train_test_split\n",
    "from sklearn.ensemble import RandomForestClassifier\n",
    "from sklearn.linear_model import LogisticRegression\n",
    "from sklearn.neighbors import KNeighborsClassifier\n",
    "from sklearn.svm import SVC\n",
    "from sklearn.tree import DecisionTreeClassifier\n",
    "from sklearn.naive_bayes import GaussianNB\n",
    "from sklearn.metrics import f1_score\n",
    "from sklearn.metrics import average_precision_score\n",
    "from sklearn.metrics import accuracy_score\n",
    "from sklearn import metrics\n",
    "from sklearn.svm import LinearSVC\n",
    "from sklearn.metrics import confusion_matrix, classification_report, precision_score, recall_score"
   ]
  },
  {
   "cell_type": "markdown",
   "id": "d34cf34d",
   "metadata": {},
   "source": [
    "### #2 Preprocessing Data"
   ]
  },
  {
   "cell_type": "code",
   "execution_count": 2,
   "id": "dde42e11",
   "metadata": {},
   "outputs": [],
   "source": [
    "#read the dataset\n",
    "df_bank_full = pd.read_csv(\"bank-full.csv\",sep= ';')"
   ]
  },
  {
   "cell_type": "code",
   "execution_count": 3,
   "id": "654e5df8",
   "metadata": {},
   "outputs": [
    {
     "data": {
      "text/html": [
       "<div>\n",
       "<style scoped>\n",
       "    .dataframe tbody tr th:only-of-type {\n",
       "        vertical-align: middle;\n",
       "    }\n",
       "\n",
       "    .dataframe tbody tr th {\n",
       "        vertical-align: top;\n",
       "    }\n",
       "\n",
       "    .dataframe thead th {\n",
       "        text-align: right;\n",
       "    }\n",
       "</style>\n",
       "<table border=\"1\" class=\"dataframe\">\n",
       "  <thead>\n",
       "    <tr style=\"text-align: right;\">\n",
       "      <th></th>\n",
       "      <th>age</th>\n",
       "      <th>job</th>\n",
       "      <th>marital</th>\n",
       "      <th>education</th>\n",
       "      <th>default</th>\n",
       "      <th>balance</th>\n",
       "      <th>housing</th>\n",
       "      <th>loan</th>\n",
       "      <th>contact</th>\n",
       "      <th>day</th>\n",
       "      <th>month</th>\n",
       "      <th>duration</th>\n",
       "      <th>campaign</th>\n",
       "      <th>pdays</th>\n",
       "      <th>previous</th>\n",
       "      <th>poutcome</th>\n",
       "      <th>y</th>\n",
       "    </tr>\n",
       "  </thead>\n",
       "  <tbody>\n",
       "    <tr>\n",
       "      <th>0</th>\n",
       "      <td>58</td>\n",
       "      <td>management</td>\n",
       "      <td>married</td>\n",
       "      <td>tertiary</td>\n",
       "      <td>no</td>\n",
       "      <td>2143</td>\n",
       "      <td>yes</td>\n",
       "      <td>no</td>\n",
       "      <td>unknown</td>\n",
       "      <td>5</td>\n",
       "      <td>may</td>\n",
       "      <td>261</td>\n",
       "      <td>1</td>\n",
       "      <td>-1</td>\n",
       "      <td>0</td>\n",
       "      <td>unknown</td>\n",
       "      <td>no</td>\n",
       "    </tr>\n",
       "    <tr>\n",
       "      <th>1</th>\n",
       "      <td>44</td>\n",
       "      <td>technician</td>\n",
       "      <td>single</td>\n",
       "      <td>secondary</td>\n",
       "      <td>no</td>\n",
       "      <td>29</td>\n",
       "      <td>yes</td>\n",
       "      <td>no</td>\n",
       "      <td>unknown</td>\n",
       "      <td>5</td>\n",
       "      <td>may</td>\n",
       "      <td>151</td>\n",
       "      <td>1</td>\n",
       "      <td>-1</td>\n",
       "      <td>0</td>\n",
       "      <td>unknown</td>\n",
       "      <td>no</td>\n",
       "    </tr>\n",
       "    <tr>\n",
       "      <th>2</th>\n",
       "      <td>33</td>\n",
       "      <td>entrepreneur</td>\n",
       "      <td>married</td>\n",
       "      <td>secondary</td>\n",
       "      <td>no</td>\n",
       "      <td>2</td>\n",
       "      <td>yes</td>\n",
       "      <td>yes</td>\n",
       "      <td>unknown</td>\n",
       "      <td>5</td>\n",
       "      <td>may</td>\n",
       "      <td>76</td>\n",
       "      <td>1</td>\n",
       "      <td>-1</td>\n",
       "      <td>0</td>\n",
       "      <td>unknown</td>\n",
       "      <td>no</td>\n",
       "    </tr>\n",
       "    <tr>\n",
       "      <th>3</th>\n",
       "      <td>47</td>\n",
       "      <td>blue-collar</td>\n",
       "      <td>married</td>\n",
       "      <td>unknown</td>\n",
       "      <td>no</td>\n",
       "      <td>1506</td>\n",
       "      <td>yes</td>\n",
       "      <td>no</td>\n",
       "      <td>unknown</td>\n",
       "      <td>5</td>\n",
       "      <td>may</td>\n",
       "      <td>92</td>\n",
       "      <td>1</td>\n",
       "      <td>-1</td>\n",
       "      <td>0</td>\n",
       "      <td>unknown</td>\n",
       "      <td>no</td>\n",
       "    </tr>\n",
       "    <tr>\n",
       "      <th>4</th>\n",
       "      <td>33</td>\n",
       "      <td>unknown</td>\n",
       "      <td>single</td>\n",
       "      <td>unknown</td>\n",
       "      <td>no</td>\n",
       "      <td>1</td>\n",
       "      <td>no</td>\n",
       "      <td>no</td>\n",
       "      <td>unknown</td>\n",
       "      <td>5</td>\n",
       "      <td>may</td>\n",
       "      <td>198</td>\n",
       "      <td>1</td>\n",
       "      <td>-1</td>\n",
       "      <td>0</td>\n",
       "      <td>unknown</td>\n",
       "      <td>no</td>\n",
       "    </tr>\n",
       "    <tr>\n",
       "      <th>...</th>\n",
       "      <td>...</td>\n",
       "      <td>...</td>\n",
       "      <td>...</td>\n",
       "      <td>...</td>\n",
       "      <td>...</td>\n",
       "      <td>...</td>\n",
       "      <td>...</td>\n",
       "      <td>...</td>\n",
       "      <td>...</td>\n",
       "      <td>...</td>\n",
       "      <td>...</td>\n",
       "      <td>...</td>\n",
       "      <td>...</td>\n",
       "      <td>...</td>\n",
       "      <td>...</td>\n",
       "      <td>...</td>\n",
       "      <td>...</td>\n",
       "    </tr>\n",
       "    <tr>\n",
       "      <th>45206</th>\n",
       "      <td>51</td>\n",
       "      <td>technician</td>\n",
       "      <td>married</td>\n",
       "      <td>tertiary</td>\n",
       "      <td>no</td>\n",
       "      <td>825</td>\n",
       "      <td>no</td>\n",
       "      <td>no</td>\n",
       "      <td>cellular</td>\n",
       "      <td>17</td>\n",
       "      <td>nov</td>\n",
       "      <td>977</td>\n",
       "      <td>3</td>\n",
       "      <td>-1</td>\n",
       "      <td>0</td>\n",
       "      <td>unknown</td>\n",
       "      <td>yes</td>\n",
       "    </tr>\n",
       "    <tr>\n",
       "      <th>45207</th>\n",
       "      <td>71</td>\n",
       "      <td>retired</td>\n",
       "      <td>divorced</td>\n",
       "      <td>primary</td>\n",
       "      <td>no</td>\n",
       "      <td>1729</td>\n",
       "      <td>no</td>\n",
       "      <td>no</td>\n",
       "      <td>cellular</td>\n",
       "      <td>17</td>\n",
       "      <td>nov</td>\n",
       "      <td>456</td>\n",
       "      <td>2</td>\n",
       "      <td>-1</td>\n",
       "      <td>0</td>\n",
       "      <td>unknown</td>\n",
       "      <td>yes</td>\n",
       "    </tr>\n",
       "    <tr>\n",
       "      <th>45208</th>\n",
       "      <td>72</td>\n",
       "      <td>retired</td>\n",
       "      <td>married</td>\n",
       "      <td>secondary</td>\n",
       "      <td>no</td>\n",
       "      <td>5715</td>\n",
       "      <td>no</td>\n",
       "      <td>no</td>\n",
       "      <td>cellular</td>\n",
       "      <td>17</td>\n",
       "      <td>nov</td>\n",
       "      <td>1127</td>\n",
       "      <td>5</td>\n",
       "      <td>184</td>\n",
       "      <td>3</td>\n",
       "      <td>success</td>\n",
       "      <td>yes</td>\n",
       "    </tr>\n",
       "    <tr>\n",
       "      <th>45209</th>\n",
       "      <td>57</td>\n",
       "      <td>blue-collar</td>\n",
       "      <td>married</td>\n",
       "      <td>secondary</td>\n",
       "      <td>no</td>\n",
       "      <td>668</td>\n",
       "      <td>no</td>\n",
       "      <td>no</td>\n",
       "      <td>telephone</td>\n",
       "      <td>17</td>\n",
       "      <td>nov</td>\n",
       "      <td>508</td>\n",
       "      <td>4</td>\n",
       "      <td>-1</td>\n",
       "      <td>0</td>\n",
       "      <td>unknown</td>\n",
       "      <td>no</td>\n",
       "    </tr>\n",
       "    <tr>\n",
       "      <th>45210</th>\n",
       "      <td>37</td>\n",
       "      <td>entrepreneur</td>\n",
       "      <td>married</td>\n",
       "      <td>secondary</td>\n",
       "      <td>no</td>\n",
       "      <td>2971</td>\n",
       "      <td>no</td>\n",
       "      <td>no</td>\n",
       "      <td>cellular</td>\n",
       "      <td>17</td>\n",
       "      <td>nov</td>\n",
       "      <td>361</td>\n",
       "      <td>2</td>\n",
       "      <td>188</td>\n",
       "      <td>11</td>\n",
       "      <td>other</td>\n",
       "      <td>no</td>\n",
       "    </tr>\n",
       "  </tbody>\n",
       "</table>\n",
       "<p>45211 rows × 17 columns</p>\n",
       "</div>"
      ],
      "text/plain": [
       "       age           job   marital  education default  balance housing loan  \\\n",
       "0       58    management   married   tertiary      no     2143     yes   no   \n",
       "1       44    technician    single  secondary      no       29     yes   no   \n",
       "2       33  entrepreneur   married  secondary      no        2     yes  yes   \n",
       "3       47   blue-collar   married    unknown      no     1506     yes   no   \n",
       "4       33       unknown    single    unknown      no        1      no   no   \n",
       "...    ...           ...       ...        ...     ...      ...     ...  ...   \n",
       "45206   51    technician   married   tertiary      no      825      no   no   \n",
       "45207   71       retired  divorced    primary      no     1729      no   no   \n",
       "45208   72       retired   married  secondary      no     5715      no   no   \n",
       "45209   57   blue-collar   married  secondary      no      668      no   no   \n",
       "45210   37  entrepreneur   married  secondary      no     2971      no   no   \n",
       "\n",
       "         contact  day month  duration  campaign  pdays  previous poutcome    y  \n",
       "0        unknown    5   may       261         1     -1         0  unknown   no  \n",
       "1        unknown    5   may       151         1     -1         0  unknown   no  \n",
       "2        unknown    5   may        76         1     -1         0  unknown   no  \n",
       "3        unknown    5   may        92         1     -1         0  unknown   no  \n",
       "4        unknown    5   may       198         1     -1         0  unknown   no  \n",
       "...          ...  ...   ...       ...       ...    ...       ...      ...  ...  \n",
       "45206   cellular   17   nov       977         3     -1         0  unknown  yes  \n",
       "45207   cellular   17   nov       456         2     -1         0  unknown  yes  \n",
       "45208   cellular   17   nov      1127         5    184         3  success  yes  \n",
       "45209  telephone   17   nov       508         4     -1         0  unknown   no  \n",
       "45210   cellular   17   nov       361         2    188        11    other   no  \n",
       "\n",
       "[45211 rows x 17 columns]"
      ]
     },
     "execution_count": 3,
     "metadata": {},
     "output_type": "execute_result"
    }
   ],
   "source": [
    "df_bank_full"
   ]
  },
  {
   "cell_type": "code",
   "execution_count": 4,
   "id": "6342284d",
   "metadata": {},
   "outputs": [
    {
     "data": {
      "text/html": [
       "<div>\n",
       "<style scoped>\n",
       "    .dataframe tbody tr th:only-of-type {\n",
       "        vertical-align: middle;\n",
       "    }\n",
       "\n",
       "    .dataframe tbody tr th {\n",
       "        vertical-align: top;\n",
       "    }\n",
       "\n",
       "    .dataframe thead th {\n",
       "        text-align: right;\n",
       "    }\n",
       "</style>\n",
       "<table border=\"1\" class=\"dataframe\">\n",
       "  <thead>\n",
       "    <tr style=\"text-align: right;\">\n",
       "      <th></th>\n",
       "      <th>age</th>\n",
       "      <th>job</th>\n",
       "      <th>marital</th>\n",
       "      <th>education</th>\n",
       "      <th>default</th>\n",
       "      <th>balance</th>\n",
       "      <th>housing</th>\n",
       "      <th>loan</th>\n",
       "      <th>contact</th>\n",
       "      <th>day</th>\n",
       "      <th>month</th>\n",
       "      <th>duration</th>\n",
       "      <th>campaign</th>\n",
       "      <th>pdays</th>\n",
       "      <th>previous</th>\n",
       "      <th>poutcome</th>\n",
       "      <th>y</th>\n",
       "    </tr>\n",
       "  </thead>\n",
       "  <tbody>\n",
       "    <tr>\n",
       "      <th>0</th>\n",
       "      <td>58</td>\n",
       "      <td>management</td>\n",
       "      <td>married</td>\n",
       "      <td>tertiary</td>\n",
       "      <td>no</td>\n",
       "      <td>2143</td>\n",
       "      <td>yes</td>\n",
       "      <td>no</td>\n",
       "      <td>unknown</td>\n",
       "      <td>5</td>\n",
       "      <td>may</td>\n",
       "      <td>261</td>\n",
       "      <td>1</td>\n",
       "      <td>-1</td>\n",
       "      <td>0</td>\n",
       "      <td>unknown</td>\n",
       "      <td>no</td>\n",
       "    </tr>\n",
       "    <tr>\n",
       "      <th>1</th>\n",
       "      <td>44</td>\n",
       "      <td>technician</td>\n",
       "      <td>single</td>\n",
       "      <td>secondary</td>\n",
       "      <td>no</td>\n",
       "      <td>29</td>\n",
       "      <td>yes</td>\n",
       "      <td>no</td>\n",
       "      <td>unknown</td>\n",
       "      <td>5</td>\n",
       "      <td>may</td>\n",
       "      <td>151</td>\n",
       "      <td>1</td>\n",
       "      <td>-1</td>\n",
       "      <td>0</td>\n",
       "      <td>unknown</td>\n",
       "      <td>no</td>\n",
       "    </tr>\n",
       "    <tr>\n",
       "      <th>2</th>\n",
       "      <td>33</td>\n",
       "      <td>entrepreneur</td>\n",
       "      <td>married</td>\n",
       "      <td>secondary</td>\n",
       "      <td>no</td>\n",
       "      <td>2</td>\n",
       "      <td>yes</td>\n",
       "      <td>yes</td>\n",
       "      <td>unknown</td>\n",
       "      <td>5</td>\n",
       "      <td>may</td>\n",
       "      <td>76</td>\n",
       "      <td>1</td>\n",
       "      <td>-1</td>\n",
       "      <td>0</td>\n",
       "      <td>unknown</td>\n",
       "      <td>no</td>\n",
       "    </tr>\n",
       "    <tr>\n",
       "      <th>3</th>\n",
       "      <td>47</td>\n",
       "      <td>blue-collar</td>\n",
       "      <td>married</td>\n",
       "      <td>unknown</td>\n",
       "      <td>no</td>\n",
       "      <td>1506</td>\n",
       "      <td>yes</td>\n",
       "      <td>no</td>\n",
       "      <td>unknown</td>\n",
       "      <td>5</td>\n",
       "      <td>may</td>\n",
       "      <td>92</td>\n",
       "      <td>1</td>\n",
       "      <td>-1</td>\n",
       "      <td>0</td>\n",
       "      <td>unknown</td>\n",
       "      <td>no</td>\n",
       "    </tr>\n",
       "    <tr>\n",
       "      <th>4</th>\n",
       "      <td>33</td>\n",
       "      <td>unknown</td>\n",
       "      <td>single</td>\n",
       "      <td>unknown</td>\n",
       "      <td>no</td>\n",
       "      <td>1</td>\n",
       "      <td>no</td>\n",
       "      <td>no</td>\n",
       "      <td>unknown</td>\n",
       "      <td>5</td>\n",
       "      <td>may</td>\n",
       "      <td>198</td>\n",
       "      <td>1</td>\n",
       "      <td>-1</td>\n",
       "      <td>0</td>\n",
       "      <td>unknown</td>\n",
       "      <td>no</td>\n",
       "    </tr>\n",
       "  </tbody>\n",
       "</table>\n",
       "</div>"
      ],
      "text/plain": [
       "   age           job  marital  education default  balance housing loan  \\\n",
       "0   58    management  married   tertiary      no     2143     yes   no   \n",
       "1   44    technician   single  secondary      no       29     yes   no   \n",
       "2   33  entrepreneur  married  secondary      no        2     yes  yes   \n",
       "3   47   blue-collar  married    unknown      no     1506     yes   no   \n",
       "4   33       unknown   single    unknown      no        1      no   no   \n",
       "\n",
       "   contact  day month  duration  campaign  pdays  previous poutcome   y  \n",
       "0  unknown    5   may       261         1     -1         0  unknown  no  \n",
       "1  unknown    5   may       151         1     -1         0  unknown  no  \n",
       "2  unknown    5   may        76         1     -1         0  unknown  no  \n",
       "3  unknown    5   may        92         1     -1         0  unknown  no  \n",
       "4  unknown    5   may       198         1     -1         0  unknown  no  "
      ]
     },
     "execution_count": 4,
     "metadata": {},
     "output_type": "execute_result"
    }
   ],
   "source": [
    "# display the top 5 datasets\n",
    "df_bank_full.head()"
   ]
  },
  {
   "cell_type": "code",
   "execution_count": 5,
   "id": "3715f6f1",
   "metadata": {},
   "outputs": [
    {
     "data": {
      "text/html": [
       "<div>\n",
       "<style scoped>\n",
       "    .dataframe tbody tr th:only-of-type {\n",
       "        vertical-align: middle;\n",
       "    }\n",
       "\n",
       "    .dataframe tbody tr th {\n",
       "        vertical-align: top;\n",
       "    }\n",
       "\n",
       "    .dataframe thead th {\n",
       "        text-align: right;\n",
       "    }\n",
       "</style>\n",
       "<table border=\"1\" class=\"dataframe\">\n",
       "  <thead>\n",
       "    <tr style=\"text-align: right;\">\n",
       "      <th></th>\n",
       "      <th>age</th>\n",
       "      <th>job</th>\n",
       "      <th>marital</th>\n",
       "      <th>education</th>\n",
       "      <th>default</th>\n",
       "      <th>balance</th>\n",
       "      <th>housing</th>\n",
       "      <th>loan</th>\n",
       "      <th>contact</th>\n",
       "      <th>day</th>\n",
       "      <th>month</th>\n",
       "      <th>duration</th>\n",
       "      <th>campaign</th>\n",
       "      <th>pdays</th>\n",
       "      <th>previous</th>\n",
       "      <th>poutcome</th>\n",
       "      <th>y</th>\n",
       "    </tr>\n",
       "  </thead>\n",
       "  <tbody>\n",
       "    <tr>\n",
       "      <th>45206</th>\n",
       "      <td>51</td>\n",
       "      <td>technician</td>\n",
       "      <td>married</td>\n",
       "      <td>tertiary</td>\n",
       "      <td>no</td>\n",
       "      <td>825</td>\n",
       "      <td>no</td>\n",
       "      <td>no</td>\n",
       "      <td>cellular</td>\n",
       "      <td>17</td>\n",
       "      <td>nov</td>\n",
       "      <td>977</td>\n",
       "      <td>3</td>\n",
       "      <td>-1</td>\n",
       "      <td>0</td>\n",
       "      <td>unknown</td>\n",
       "      <td>yes</td>\n",
       "    </tr>\n",
       "    <tr>\n",
       "      <th>45207</th>\n",
       "      <td>71</td>\n",
       "      <td>retired</td>\n",
       "      <td>divorced</td>\n",
       "      <td>primary</td>\n",
       "      <td>no</td>\n",
       "      <td>1729</td>\n",
       "      <td>no</td>\n",
       "      <td>no</td>\n",
       "      <td>cellular</td>\n",
       "      <td>17</td>\n",
       "      <td>nov</td>\n",
       "      <td>456</td>\n",
       "      <td>2</td>\n",
       "      <td>-1</td>\n",
       "      <td>0</td>\n",
       "      <td>unknown</td>\n",
       "      <td>yes</td>\n",
       "    </tr>\n",
       "    <tr>\n",
       "      <th>45208</th>\n",
       "      <td>72</td>\n",
       "      <td>retired</td>\n",
       "      <td>married</td>\n",
       "      <td>secondary</td>\n",
       "      <td>no</td>\n",
       "      <td>5715</td>\n",
       "      <td>no</td>\n",
       "      <td>no</td>\n",
       "      <td>cellular</td>\n",
       "      <td>17</td>\n",
       "      <td>nov</td>\n",
       "      <td>1127</td>\n",
       "      <td>5</td>\n",
       "      <td>184</td>\n",
       "      <td>3</td>\n",
       "      <td>success</td>\n",
       "      <td>yes</td>\n",
       "    </tr>\n",
       "    <tr>\n",
       "      <th>45209</th>\n",
       "      <td>57</td>\n",
       "      <td>blue-collar</td>\n",
       "      <td>married</td>\n",
       "      <td>secondary</td>\n",
       "      <td>no</td>\n",
       "      <td>668</td>\n",
       "      <td>no</td>\n",
       "      <td>no</td>\n",
       "      <td>telephone</td>\n",
       "      <td>17</td>\n",
       "      <td>nov</td>\n",
       "      <td>508</td>\n",
       "      <td>4</td>\n",
       "      <td>-1</td>\n",
       "      <td>0</td>\n",
       "      <td>unknown</td>\n",
       "      <td>no</td>\n",
       "    </tr>\n",
       "    <tr>\n",
       "      <th>45210</th>\n",
       "      <td>37</td>\n",
       "      <td>entrepreneur</td>\n",
       "      <td>married</td>\n",
       "      <td>secondary</td>\n",
       "      <td>no</td>\n",
       "      <td>2971</td>\n",
       "      <td>no</td>\n",
       "      <td>no</td>\n",
       "      <td>cellular</td>\n",
       "      <td>17</td>\n",
       "      <td>nov</td>\n",
       "      <td>361</td>\n",
       "      <td>2</td>\n",
       "      <td>188</td>\n",
       "      <td>11</td>\n",
       "      <td>other</td>\n",
       "      <td>no</td>\n",
       "    </tr>\n",
       "  </tbody>\n",
       "</table>\n",
       "</div>"
      ],
      "text/plain": [
       "       age           job   marital  education default  balance housing loan  \\\n",
       "45206   51    technician   married   tertiary      no      825      no   no   \n",
       "45207   71       retired  divorced    primary      no     1729      no   no   \n",
       "45208   72       retired   married  secondary      no     5715      no   no   \n",
       "45209   57   blue-collar   married  secondary      no      668      no   no   \n",
       "45210   37  entrepreneur   married  secondary      no     2971      no   no   \n",
       "\n",
       "         contact  day month  duration  campaign  pdays  previous poutcome    y  \n",
       "45206   cellular   17   nov       977         3     -1         0  unknown  yes  \n",
       "45207   cellular   17   nov       456         2     -1         0  unknown  yes  \n",
       "45208   cellular   17   nov      1127         5    184         3  success  yes  \n",
       "45209  telephone   17   nov       508         4     -1         0  unknown   no  \n",
       "45210   cellular   17   nov       361         2    188        11    other   no  "
      ]
     },
     "execution_count": 5,
     "metadata": {},
     "output_type": "execute_result"
    }
   ],
   "source": [
    "# display the bottom 5 datasets\n",
    "df_bank_full.tail()"
   ]
  },
  {
   "cell_type": "code",
   "execution_count": 6,
   "id": "eb9a941c",
   "metadata": {},
   "outputs": [
    {
     "data": {
      "text/plain": [
       "(45211, 17)"
      ]
     },
     "execution_count": 6,
     "metadata": {},
     "output_type": "execute_result"
    }
   ],
   "source": [
    "# display the number of rows and columns in the dataset\n",
    "df_bank_full.shape"
   ]
  },
  {
   "cell_type": "markdown",
   "id": "3a863c53",
   "metadata": {},
   "source": [
    "In the dataset, there are 45.211 ROW & 17 COLUMN"
   ]
  },
  {
   "cell_type": "code",
   "execution_count": 7,
   "id": "118047b8",
   "metadata": {},
   "outputs": [
    {
     "data": {
      "text/plain": [
       "Index(['age', 'job', 'marital', 'education', 'default', 'balance', 'housing',\n",
       "       'loan', 'contact', 'day', 'month', 'duration', 'campaign', 'pdays',\n",
       "       'previous', 'poutcome', 'y'],\n",
       "      dtype='object')"
      ]
     },
     "execution_count": 7,
     "metadata": {},
     "output_type": "execute_result"
    }
   ],
   "source": [
    "#see what variables are in the column\n",
    "df_bank_full.columns"
   ]
  },
  {
   "cell_type": "code",
   "execution_count": 8,
   "id": "75fb50b3",
   "metadata": {},
   "outputs": [
    {
     "name": "stdout",
     "output_type": "stream",
     "text": [
      "<class 'pandas.core.frame.DataFrame'>\n",
      "RangeIndex: 45211 entries, 0 to 45210\n",
      "Data columns (total 17 columns):\n",
      " #   Column     Non-Null Count  Dtype \n",
      "---  ------     --------------  ----- \n",
      " 0   age        45211 non-null  int64 \n",
      " 1   job        45211 non-null  object\n",
      " 2   marital    45211 non-null  object\n",
      " 3   education  45211 non-null  object\n",
      " 4   default    45211 non-null  object\n",
      " 5   balance    45211 non-null  int64 \n",
      " 6   housing    45211 non-null  object\n",
      " 7   loan       45211 non-null  object\n",
      " 8   contact    45211 non-null  object\n",
      " 9   day        45211 non-null  int64 \n",
      " 10  month      45211 non-null  object\n",
      " 11  duration   45211 non-null  int64 \n",
      " 12  campaign   45211 non-null  int64 \n",
      " 13  pdays      45211 non-null  int64 \n",
      " 14  previous   45211 non-null  int64 \n",
      " 15  poutcome   45211 non-null  object\n",
      " 16  y          45211 non-null  object\n",
      "dtypes: int64(7), object(10)\n",
      "memory usage: 5.9+ MB\n"
     ]
    }
   ],
   "source": [
    "# display data type information for each variable\n",
    "df_bank_full.info()"
   ]
  },
  {
   "cell_type": "code",
   "execution_count": 9,
   "id": "816f1b10",
   "metadata": {},
   "outputs": [],
   "source": [
    "#Change data type 'OBJECT' to 'CATEGORY'\n",
    "df_bank_full['job'] = df_bank_full['job'].astype({'job':'category'})\n",
    "df_bank_full['marital'] = df_bank_full['marital'].astype({'marital':'category'})\n",
    "df_bank_full['education'] = df_bank_full['education'].astype({'education':'category'})\n",
    "df_bank_full['default'] = df_bank_full['default'].astype({'default':'category'})\n",
    "df_bank_full['housing'] = df_bank_full['housing'].astype({'housing':'category'})\n",
    "df_bank_full['loan'] = df_bank_full['loan'].astype({'loan':'category'})\n",
    "df_bank_full['contact'] = df_bank_full['contact'].astype({'contact':'category'})\n",
    "df_bank_full['month'] = df_bank_full['month'].astype({'month':'category'})\n",
    "df_bank_full['poutcome'] = df_bank_full['poutcome'].astype({'poutcome':'category'})\n",
    "df_bank_full['y'] = df_bank_full['y'].astype({'y':'category'})"
   ]
  },
  {
   "cell_type": "markdown",
   "id": "b02b0e7a",
   "metadata": {},
   "source": [
    "Check if the DATA TYPE has been CHANGED"
   ]
  },
  {
   "cell_type": "code",
   "execution_count": 10,
   "id": "bc779c18",
   "metadata": {},
   "outputs": [
    {
     "name": "stdout",
     "output_type": "stream",
     "text": [
      "<class 'pandas.core.frame.DataFrame'>\n",
      "RangeIndex: 45211 entries, 0 to 45210\n",
      "Data columns (total 17 columns):\n",
      " #   Column     Non-Null Count  Dtype   \n",
      "---  ------     --------------  -----   \n",
      " 0   age        45211 non-null  int64   \n",
      " 1   job        45211 non-null  category\n",
      " 2   marital    45211 non-null  category\n",
      " 3   education  45211 non-null  category\n",
      " 4   default    45211 non-null  category\n",
      " 5   balance    45211 non-null  int64   \n",
      " 6   housing    45211 non-null  category\n",
      " 7   loan       45211 non-null  category\n",
      " 8   contact    45211 non-null  category\n",
      " 9   day        45211 non-null  int64   \n",
      " 10  month      45211 non-null  category\n",
      " 11  duration   45211 non-null  int64   \n",
      " 12  campaign   45211 non-null  int64   \n",
      " 13  pdays      45211 non-null  int64   \n",
      " 14  previous   45211 non-null  int64   \n",
      " 15  poutcome   45211 non-null  category\n",
      " 16  y          45211 non-null  category\n",
      "dtypes: category(10), int64(7)\n",
      "memory usage: 2.8 MB\n"
     ]
    }
   ],
   "source": [
    "df_bank_full.info()"
   ]
  },
  {
   "cell_type": "code",
   "execution_count": 11,
   "id": "7ae91df3",
   "metadata": {},
   "outputs": [
    {
     "data": {
      "text/html": [
       "<div>\n",
       "<style scoped>\n",
       "    .dataframe tbody tr th:only-of-type {\n",
       "        vertical-align: middle;\n",
       "    }\n",
       "\n",
       "    .dataframe tbody tr th {\n",
       "        vertical-align: top;\n",
       "    }\n",
       "\n",
       "    .dataframe thead th {\n",
       "        text-align: right;\n",
       "    }\n",
       "</style>\n",
       "<table border=\"1\" class=\"dataframe\">\n",
       "  <thead>\n",
       "    <tr style=\"text-align: right;\">\n",
       "      <th></th>\n",
       "      <th>age</th>\n",
       "      <th>balance</th>\n",
       "      <th>day</th>\n",
       "      <th>duration</th>\n",
       "      <th>campaign</th>\n",
       "      <th>pdays</th>\n",
       "      <th>previous</th>\n",
       "    </tr>\n",
       "  </thead>\n",
       "  <tbody>\n",
       "    <tr>\n",
       "      <th>count</th>\n",
       "      <td>45211.000000</td>\n",
       "      <td>45211.000000</td>\n",
       "      <td>45211.000000</td>\n",
       "      <td>45211.000000</td>\n",
       "      <td>45211.000000</td>\n",
       "      <td>45211.000000</td>\n",
       "      <td>45211.000000</td>\n",
       "    </tr>\n",
       "    <tr>\n",
       "      <th>mean</th>\n",
       "      <td>40.936210</td>\n",
       "      <td>1362.272058</td>\n",
       "      <td>15.806419</td>\n",
       "      <td>258.163080</td>\n",
       "      <td>2.763841</td>\n",
       "      <td>40.197828</td>\n",
       "      <td>0.580323</td>\n",
       "    </tr>\n",
       "    <tr>\n",
       "      <th>std</th>\n",
       "      <td>10.618762</td>\n",
       "      <td>3044.765829</td>\n",
       "      <td>8.322476</td>\n",
       "      <td>257.527812</td>\n",
       "      <td>3.098021</td>\n",
       "      <td>100.128746</td>\n",
       "      <td>2.303441</td>\n",
       "    </tr>\n",
       "    <tr>\n",
       "      <th>min</th>\n",
       "      <td>18.000000</td>\n",
       "      <td>-8019.000000</td>\n",
       "      <td>1.000000</td>\n",
       "      <td>0.000000</td>\n",
       "      <td>1.000000</td>\n",
       "      <td>-1.000000</td>\n",
       "      <td>0.000000</td>\n",
       "    </tr>\n",
       "    <tr>\n",
       "      <th>25%</th>\n",
       "      <td>33.000000</td>\n",
       "      <td>72.000000</td>\n",
       "      <td>8.000000</td>\n",
       "      <td>103.000000</td>\n",
       "      <td>1.000000</td>\n",
       "      <td>-1.000000</td>\n",
       "      <td>0.000000</td>\n",
       "    </tr>\n",
       "    <tr>\n",
       "      <th>50%</th>\n",
       "      <td>39.000000</td>\n",
       "      <td>448.000000</td>\n",
       "      <td>16.000000</td>\n",
       "      <td>180.000000</td>\n",
       "      <td>2.000000</td>\n",
       "      <td>-1.000000</td>\n",
       "      <td>0.000000</td>\n",
       "    </tr>\n",
       "    <tr>\n",
       "      <th>75%</th>\n",
       "      <td>48.000000</td>\n",
       "      <td>1428.000000</td>\n",
       "      <td>21.000000</td>\n",
       "      <td>319.000000</td>\n",
       "      <td>3.000000</td>\n",
       "      <td>-1.000000</td>\n",
       "      <td>0.000000</td>\n",
       "    </tr>\n",
       "    <tr>\n",
       "      <th>max</th>\n",
       "      <td>95.000000</td>\n",
       "      <td>102127.000000</td>\n",
       "      <td>31.000000</td>\n",
       "      <td>4918.000000</td>\n",
       "      <td>63.000000</td>\n",
       "      <td>871.000000</td>\n",
       "      <td>275.000000</td>\n",
       "    </tr>\n",
       "  </tbody>\n",
       "</table>\n",
       "</div>"
      ],
      "text/plain": [
       "                age        balance           day      duration      campaign  \\\n",
       "count  45211.000000   45211.000000  45211.000000  45211.000000  45211.000000   \n",
       "mean      40.936210    1362.272058     15.806419    258.163080      2.763841   \n",
       "std       10.618762    3044.765829      8.322476    257.527812      3.098021   \n",
       "min       18.000000   -8019.000000      1.000000      0.000000      1.000000   \n",
       "25%       33.000000      72.000000      8.000000    103.000000      1.000000   \n",
       "50%       39.000000     448.000000     16.000000    180.000000      2.000000   \n",
       "75%       48.000000    1428.000000     21.000000    319.000000      3.000000   \n",
       "max       95.000000  102127.000000     31.000000   4918.000000     63.000000   \n",
       "\n",
       "              pdays      previous  \n",
       "count  45211.000000  45211.000000  \n",
       "mean      40.197828      0.580323  \n",
       "std      100.128746      2.303441  \n",
       "min       -1.000000      0.000000  \n",
       "25%       -1.000000      0.000000  \n",
       "50%       -1.000000      0.000000  \n",
       "75%       -1.000000      0.000000  \n",
       "max      871.000000    275.000000  "
      ]
     },
     "execution_count": 11,
     "metadata": {},
     "output_type": "execute_result"
    }
   ],
   "source": [
    "df_bank_full.describe()"
   ]
  },
  {
   "cell_type": "markdown",
   "id": "6fd6dd81",
   "metadata": {},
   "source": [
    "THE FOLLOWING RESULTS BASED ON PHONE MARKETING:\n",
    "\n",
    "1. AGE : The age of the lowest client is '18 years', the age of the highest client is '95 years', and the average age of the clients contacted is '41 years'.\n",
    "\n",
    "2. BALANCE : The client's average balance is '1362.3', the smallest balance is '-8019' and the largest balance is '102.127'.\n",
    "\n",
    "3. DURATION : The average call duration to the client is '258 seconds', the shortest call duration is '0 seconds', and the longest call duration is '4918 seconds'.\n",
    "\n",
    "4. CAMPAIGN : The average number of calls made by bank staff to every 1 client is 3 times, the minimum number of calls is 1 time and the maximum is 63 times.\n",
    "\n",
    "5. Days = Average number of days that have passed since the last client contacted from the previous campaign is '40 days'. The lowest number of days is '-1' day and the highest number of days is '871 days'. For the value of 999 in the data means the client has not been contacted before. In this data there is no value 999, which according to the client has been contacted before.\n",
    "\n",
    "6. Previous = The average number of calls made by bank staff to clients before the campaign was carried out was '1' times, the least calls were '0 times' and the most calls were '275 times'."
   ]
  },
  {
   "cell_type": "markdown",
   "id": "99449f38",
   "metadata": {},
   "source": [
    "### #3 DATA CLEANING"
   ]
  },
  {
   "cell_type": "code",
   "execution_count": 14,
   "id": "17abe909",
   "metadata": {},
   "outputs": [
    {
     "data": {
      "text/plain": [
       "0"
      ]
     },
     "execution_count": 14,
     "metadata": {},
     "output_type": "execute_result"
    }
   ],
   "source": [
    "# Check if there is duplicate data?\n",
    "df_bank_full.duplicated().sum()"
   ]
  },
  {
   "cell_type": "markdown",
   "id": "e5624f66",
   "metadata": {},
   "source": [
    "\"We will delete the data in the 'Duration' column for the value 0, because the client cannot be contacted and it means the answer is 'no'.\""
   ]
  },
  {
   "cell_type": "code",
   "execution_count": 15,
   "id": "7a24d249",
   "metadata": {},
   "outputs": [],
   "source": [
    "# Initiating Duration Data which is worth 0\n",
    "df_duration_0 = df_bank_full[df_bank_full['duration']==0].index"
   ]
  },
  {
   "cell_type": "code",
   "execution_count": 16,
   "id": "894022f3",
   "metadata": {},
   "outputs": [],
   "source": [
    "# Drop df_duration_0\n",
    "df_bank_full.drop(df_duration_0, inplace=True)"
   ]
  },
  {
   "cell_type": "code",
   "execution_count": 17,
   "id": "e46ccb58",
   "metadata": {},
   "outputs": [
    {
     "data": {
      "text/plain": [
       "(45208, 17)"
      ]
     },
     "execution_count": 17,
     "metadata": {},
     "output_type": "execute_result"
    }
   ],
   "source": [
    "# Checking the amount of data returned\n",
    "df_bank_full.shape"
   ]
  },
  {
   "cell_type": "markdown",
   "id": "9041d234",
   "metadata": {},
   "source": [
    "\"Now the data count has changed, initially there were 45,211 ROW & 17 COLUMN, to 45.208 ROW & 17 COLUMN.\""
   ]
  },
  {
   "cell_type": "code",
   "execution_count": 18,
   "id": "40c1d653",
   "metadata": {},
   "outputs": [
    {
     "data": {
      "text/plain": [
       "age          0\n",
       "job          0\n",
       "marital      0\n",
       "education    0\n",
       "default      0\n",
       "balance      0\n",
       "housing      0\n",
       "loan         0\n",
       "contact      0\n",
       "day          0\n",
       "month        0\n",
       "duration     0\n",
       "campaign     0\n",
       "pdays        0\n",
       "previous     0\n",
       "poutcome     0\n",
       "y            0\n",
       "dtype: int64"
      ]
     },
     "execution_count": 18,
     "metadata": {},
     "output_type": "execute_result"
    }
   ],
   "source": [
    "# Check if there are missing values in the data\n",
    "df_bank_full.isnull().sum()"
   ]
  },
  {
   "cell_type": "markdown",
   "id": "e00b2768",
   "metadata": {},
   "source": [
    "Based on the output, there are no missing values in each variable."
   ]
  },
  {
   "cell_type": "markdown",
   "id": "d4589a04",
   "metadata": {},
   "source": [
    "### #4 EXPLANATORY DATA ANALYSIS (EDA)"
   ]
  },
  {
   "cell_type": "markdown",
   "id": "5d0195f9",
   "metadata": {},
   "source": [
    "### a\n",
    "Calculating the 'PERCENTAGE of the client's' final decision to subscribe to a 'Terms Deposit'."
   ]
  },
  {
   "cell_type": "code",
   "execution_count": 19,
   "id": "55a22a07",
   "metadata": {},
   "outputs": [
    {
     "data": {
      "text/plain": [
       "no     88.300743\n",
       "yes    11.699257\n",
       "Name: y, dtype: float64"
      ]
     },
     "execution_count": 19,
     "metadata": {},
     "output_type": "execute_result"
    }
   ],
   "source": [
    "df_bank_full['y'].value_counts(normalize=True)*100"
   ]
  },
  {
   "cell_type": "markdown",
   "id": "46e97405",
   "metadata": {},
   "source": [
    "Based on the above results:\n",
    "- There are 11.7% of clients who decide to subscribe to 'Terms Deposits', \n",
    "- There are 88.3% of clients who decide not to subscribe to 'Terms of Deposits'."
   ]
  },
  {
   "cell_type": "markdown",
   "id": "3fed535e",
   "metadata": {},
   "source": [
    "### b\n",
    "See 'TOTAL CLIENT DATA' who have subscribed to 'Terms Deposits' and who do not want to subscribe to 'Terms Deposits'"
   ]
  },
  {
   "cell_type": "code",
   "execution_count": 20,
   "id": "576c4916",
   "metadata": {},
   "outputs": [
    {
     "data": {
      "text/plain": [
       "no     39919\n",
       "yes     5289\n",
       "Name: y, dtype: int64"
      ]
     },
     "execution_count": 20,
     "metadata": {},
     "output_type": "execute_result"
    }
   ],
   "source": [
    "df_bank_full['y'].value_counts()"
   ]
  },
  {
   "cell_type": "markdown",
   "id": "70e6dab7",
   "metadata": {},
   "source": [
    "\"LET'S SEE THE DATA VISUALIZATION!\""
   ]
  },
  {
   "cell_type": "code",
   "execution_count": 24,
   "id": "d5d90d01",
   "metadata": {},
   "outputs": [
    {
     "data": {
      "image/png": "[encoded data removed]",
      "text/plain": [
       "<Figure size 360x360 with 1 Axes>"
      ]
     },
     "metadata": {
      "needs_background": "light"
     },
     "output_type": "display_data"
    }
   ],
   "source": [
    "# Membuat visualisasi data\n",
    "f, ax = plt.subplots(figsize=(5, 5))\n",
    "ax = sns.countplot(x=\"y\", data=df_bank_full)\n",
    "plt.show()"
   ]
  },
  {
   "cell_type": "markdown",
   "id": "6f974fdc",
   "metadata": {},
   "source": [
    "Based on the above results:\n",
    "- There are 39.919 people who do not want to subscribe to 'Term Deposits'.\n",
    "- There are 5.289 people who have subscribed to 'Term Deposits'."
   ]
  },
  {
   "cell_type": "markdown",
   "id": "8f239cf4",
   "metadata": {},
   "source": [
    "### #5 REVIEWING THE DATA DESCRIPTION"
   ]
  },
  {
   "cell_type": "code",
   "execution_count": 26,
   "id": "0f37c706",
   "metadata": {},
   "outputs": [
    {
     "data": {
      "text/html": [
       "<div>\n",
       "<style scoped>\n",
       "    .dataframe tbody tr th:only-of-type {\n",
       "        vertical-align: middle;\n",
       "    }\n",
       "\n",
       "    .dataframe tbody tr th {\n",
       "        vertical-align: top;\n",
       "    }\n",
       "\n",
       "    .dataframe thead th {\n",
       "        text-align: right;\n",
       "    }\n",
       "</style>\n",
       "<table border=\"1\" class=\"dataframe\">\n",
       "  <thead>\n",
       "    <tr style=\"text-align: right;\">\n",
       "      <th></th>\n",
       "      <th>age</th>\n",
       "      <th>balance</th>\n",
       "      <th>day</th>\n",
       "      <th>duration</th>\n",
       "      <th>campaign</th>\n",
       "      <th>pdays</th>\n",
       "      <th>previous</th>\n",
       "    </tr>\n",
       "  </thead>\n",
       "  <tbody>\n",
       "    <tr>\n",
       "      <th>count</th>\n",
       "      <td>45208.000000</td>\n",
       "      <td>45208.000000</td>\n",
       "      <td>45208.000000</td>\n",
       "      <td>45208.000000</td>\n",
       "      <td>45208.000000</td>\n",
       "      <td>45208.000000</td>\n",
       "      <td>45208.000000</td>\n",
       "    </tr>\n",
       "    <tr>\n",
       "      <th>mean</th>\n",
       "      <td>40.936294</td>\n",
       "      <td>1362.228676</td>\n",
       "      <td>15.806052</td>\n",
       "      <td>258.180211</td>\n",
       "      <td>2.763560</td>\n",
       "      <td>40.200562</td>\n",
       "      <td>0.580362</td>\n",
       "    </tr>\n",
       "    <tr>\n",
       "      <th>std</th>\n",
       "      <td>10.618823</td>\n",
       "      <td>3044.794660</td>\n",
       "      <td>8.322417</td>\n",
       "      <td>257.527769</td>\n",
       "      <td>3.097582</td>\n",
       "      <td>100.131506</td>\n",
       "      <td>2.303513</td>\n",
       "    </tr>\n",
       "    <tr>\n",
       "      <th>min</th>\n",
       "      <td>18.000000</td>\n",
       "      <td>-8019.000000</td>\n",
       "      <td>1.000000</td>\n",
       "      <td>1.000000</td>\n",
       "      <td>1.000000</td>\n",
       "      <td>-1.000000</td>\n",
       "      <td>0.000000</td>\n",
       "    </tr>\n",
       "    <tr>\n",
       "      <th>25%</th>\n",
       "      <td>33.000000</td>\n",
       "      <td>72.000000</td>\n",
       "      <td>8.000000</td>\n",
       "      <td>103.000000</td>\n",
       "      <td>1.000000</td>\n",
       "      <td>-1.000000</td>\n",
       "      <td>0.000000</td>\n",
       "    </tr>\n",
       "    <tr>\n",
       "      <th>50%</th>\n",
       "      <td>39.000000</td>\n",
       "      <td>448.000000</td>\n",
       "      <td>16.000000</td>\n",
       "      <td>180.000000</td>\n",
       "      <td>2.000000</td>\n",
       "      <td>-1.000000</td>\n",
       "      <td>0.000000</td>\n",
       "    </tr>\n",
       "    <tr>\n",
       "      <th>75%</th>\n",
       "      <td>48.000000</td>\n",
       "      <td>1428.000000</td>\n",
       "      <td>21.000000</td>\n",
       "      <td>319.000000</td>\n",
       "      <td>3.000000</td>\n",
       "      <td>-1.000000</td>\n",
       "      <td>0.000000</td>\n",
       "    </tr>\n",
       "    <tr>\n",
       "      <th>max</th>\n",
       "      <td>95.000000</td>\n",
       "      <td>102127.000000</td>\n",
       "      <td>31.000000</td>\n",
       "      <td>4918.000000</td>\n",
       "      <td>63.000000</td>\n",
       "      <td>871.000000</td>\n",
       "      <td>275.000000</td>\n",
       "    </tr>\n",
       "  </tbody>\n",
       "</table>\n",
       "</div>"
      ],
      "text/plain": [
       "                age        balance           day      duration      campaign  \\\n",
       "count  45208.000000   45208.000000  45208.000000  45208.000000  45208.000000   \n",
       "mean      40.936294    1362.228676     15.806052    258.180211      2.763560   \n",
       "std       10.618823    3044.794660      8.322417    257.527769      3.097582   \n",
       "min       18.000000   -8019.000000      1.000000      1.000000      1.000000   \n",
       "25%       33.000000      72.000000      8.000000    103.000000      1.000000   \n",
       "50%       39.000000     448.000000     16.000000    180.000000      2.000000   \n",
       "75%       48.000000    1428.000000     21.000000    319.000000      3.000000   \n",
       "max       95.000000  102127.000000     31.000000   4918.000000     63.000000   \n",
       "\n",
       "              pdays      previous  \n",
       "count  45208.000000  45208.000000  \n",
       "mean      40.200562      0.580362  \n",
       "std      100.131506      2.303513  \n",
       "min       -1.000000      0.000000  \n",
       "25%       -1.000000      0.000000  \n",
       "50%       -1.000000      0.000000  \n",
       "75%       -1.000000      0.000000  \n",
       "max      871.000000    275.000000  "
      ]
     },
     "execution_count": 26,
     "metadata": {},
     "output_type": "execute_result"
    }
   ],
   "source": [
    "df_bank_full.describe()"
   ]
  },
  {
   "cell_type": "code",
   "execution_count": 28,
   "id": "2bad2109",
   "metadata": {},
   "outputs": [
    {
     "data": {
      "image/png": "[encoded data removed]",
      "text/plain": [
       "<Figure size 1440x1440 with 9 Axes>"
      ]
     },
     "metadata": {
      "needs_background": "light"
     },
     "output_type": "display_data"
    }
   ],
   "source": [
    "# DATA VISUALIZATION OF EVERY VARIABLE\n",
    "df_bank_full.hist(figsize=(20, 20),color=\"lightsteelblue\")\n",
    "plt.show()"
   ]
  },
  {
   "cell_type": "markdown",
   "id": "e28c908d",
   "metadata": {},
   "source": [
    "### #6 VIEW DATA VISUALIZATION THROUGH BOXLOT"
   ]
  },
  {
   "cell_type": "markdown",
   "id": "9e1b044b",
   "metadata": {},
   "source": [
    "### What is Outlier?\n",
    "Outlier is a data value that is different from other data."
   ]
  },
  {
   "cell_type": "markdown",
   "id": "ffe0eaef",
   "metadata": {},
   "source": [
    "### AGE"
   ]
  },
  {
   "cell_type": "code",
   "execution_count": 32,
   "id": "8f1d5adc",
   "metadata": {},
   "outputs": [
    {
     "data": {
      "text/plain": [
       "<AxesSubplot:>"
      ]
     },
     "execution_count": 32,
     "metadata": {},
     "output_type": "execute_result"
    },
    {
     "data": {
      "image/png": "[encoded data removed]",
      "text/plain": [
       "<Figure size 432x288 with 1 Axes>"
      ]
     },
     "metadata": {
      "needs_background": "light"
     },
     "output_type": "display_data"
    }
   ],
   "source": [
    "# View Box Plot of Variable 'Age'\n",
    "df_bank_full.boxplot(column = ['age'],figsize=(6,4))"
   ]
  },
  {
   "cell_type": "markdown",
   "id": "098eab00",
   "metadata": {},
   "source": [
    "\"Based on the Box Plot above, the outliers are clients whose 'Age' is 70\""
   ]
  },
  {
   "cell_type": "markdown",
   "id": "32a63d86",
   "metadata": {},
   "source": [
    "\"Let's count the number of clients who are over the age of 70\""
   ]
  },
  {
   "cell_type": "code",
   "execution_count": 37,
   "id": "0f9262db",
   "metadata": {},
   "outputs": [
    {
     "data": {
      "text/plain": [
       "age          487\n",
       "job          487\n",
       "marital      487\n",
       "education    487\n",
       "default      487\n",
       "balance      487\n",
       "housing      487\n",
       "loan         487\n",
       "contact      487\n",
       "day          487\n",
       "month        487\n",
       "duration     487\n",
       "campaign     487\n",
       "pdays        487\n",
       "previous     487\n",
       "poutcome     487\n",
       "y            487\n",
       "dtype: int64"
      ]
     },
     "execution_count": 37,
     "metadata": {},
     "output_type": "execute_result"
    }
   ],
   "source": [
    "# View the number of data with age > 70 years\n",
    "df_bank_full[df_bank_full['age']>70].count()"
   ]
  },
  {
   "cell_type": "markdown",
   "id": "e8c2851f",
   "metadata": {},
   "source": [
    "Turns out, there are '487 clients' with age > 70 years."
   ]
  },
  {
   "cell_type": "markdown",
   "id": "a2bc440b",
   "metadata": {},
   "source": [
    "### *question*\n",
    "Do clients with age > 70 years 'subscribe' Term Deposits or 'NO'?"
   ]
  },
  {
   "cell_type": "code",
   "execution_count": 34,
   "id": "dd0aed47",
   "metadata": {},
   "outputs": [
    {
     "data": {
      "text/plain": [
       "218"
      ]
     },
     "execution_count": 34,
     "metadata": {},
     "output_type": "execute_result"
    }
   ],
   "source": [
    "df_bank_full[(df_bank_full['age']>70) & (df_bank_full['y']=='yes')]['y'].count()"
   ]
  },
  {
   "cell_type": "markdown",
   "id": "9e528828",
   "metadata": {},
   "source": [
    "There are 218 clients who are over 70 years old and subscribe to 'Term Deposits'."
   ]
  },
  {
   "cell_type": "markdown",
   "id": "20422f30",
   "metadata": {},
   "source": [
    "### BALANCE"
   ]
  },
  {
   "cell_type": "code",
   "execution_count": 46,
   "id": "722c8f39",
   "metadata": {},
   "outputs": [
    {
     "data": {
      "text/plain": [
       "<AxesSubplot:>"
      ]
     },
     "execution_count": 46,
     "metadata": {},
     "output_type": "execute_result"
    },
    {
     "data": {
      "image/png": "[encoded data removed]",
      "text/plain": [
       "<Figure size 216x288 with 1 Axes>"
      ]
     },
     "metadata": {
      "needs_background": "light"
     },
     "output_type": "display_data"
    }
   ],
   "source": [
    "df_bank_full.boxplot(column = ['balance'],figsize=(3,4))"
   ]
  },
  {
   "cell_type": "markdown",
   "id": "d98c9d7c",
   "metadata": {},
   "source": [
    "### DURATION"
   ]
  },
  {
   "cell_type": "code",
   "execution_count": 47,
   "id": "b519a019",
   "metadata": {},
   "outputs": [
    {
     "data": {
      "text/plain": [
       "<AxesSubplot:>"
      ]
     },
     "execution_count": 47,
     "metadata": {},
     "output_type": "execute_result"
    },
    {
     "data": {
      "image/png": "[encoded data removed]",
      "text/plain": [
       "<Figure size 216x288 with 1 Axes>"
      ]
     },
     "metadata": {
      "needs_background": "light"
     },
     "output_type": "display_data"
    }
   ],
   "source": [
    "df_bank_full.boxplot(column = ['duration'],figsize=(3,4))"
   ]
  },
  {
   "cell_type": "markdown",
   "id": "6c40593e",
   "metadata": {},
   "source": [
    "### CAMPAIGN"
   ]
  },
  {
   "cell_type": "code",
   "execution_count": 48,
   "id": "75eef66a",
   "metadata": {},
   "outputs": [
    {
     "data": {
      "text/plain": [
       "<AxesSubplot:>"
      ]
     },
     "execution_count": 48,
     "metadata": {},
     "output_type": "execute_result"
    },
    {
     "data": {
      "image/png": "[encoded data removed]",
      "text/plain": [
       "<Figure size 216x288 with 1 Axes>"
      ]
     },
     "metadata": {
      "needs_background": "light"
     },
     "output_type": "display_data"
    }
   ],
   "source": [
    "df_bank_full.boxplot(column = ['campaign'],figsize=(3,4))"
   ]
  },
  {
   "cell_type": "markdown",
   "id": "6a48040a",
   "metadata": {},
   "source": [
    "### PDAYS"
   ]
  },
  {
   "cell_type": "code",
   "execution_count": 53,
   "id": "ec936bee",
   "metadata": {},
   "outputs": [
    {
     "data": {
      "text/plain": [
       "<AxesSubplot:>"
      ]
     },
     "execution_count": 53,
     "metadata": {},
     "output_type": "execute_result"
    },
    {
     "data": {
      "image/png": "[encoded data removed]",
      "text/plain": [
       "<Figure size 216x288 with 1 Axes>"
      ]
     },
     "metadata": {
      "needs_background": "light"
     },
     "output_type": "display_data"
    }
   ],
   "source": [
    "df_bank_full.boxplot(column = ['pdays'],figsize=(3,4))"
   ]
  },
  {
   "cell_type": "markdown",
   "id": "4a5039e6",
   "metadata": {},
   "source": [
    "### PREVIOUS"
   ]
  },
  {
   "cell_type": "code",
   "execution_count": 54,
   "id": "87f1b1a8",
   "metadata": {},
   "outputs": [
    {
     "data": {
      "text/plain": [
       "<AxesSubplot:>"
      ]
     },
     "execution_count": 54,
     "metadata": {},
     "output_type": "execute_result"
    },
    {
     "data": {
      "image/png": "[encoded data removed]",
      "text/plain": [
       "<Figure size 216x288 with 1 Axes>"
      ]
     },
     "metadata": {
      "needs_background": "light"
     },
     "output_type": "display_data"
    }
   ],
   "source": [
    "df_bank_full.boxplot(column = ['previous'],figsize=(3,4))"
   ]
  },
  {
   "cell_type": "markdown",
   "id": "7bc32168",
   "metadata": {},
   "source": [
    "Based on the Box Plot view above,\n",
    "There is 1 data in the 'Previous' variable whose value is far from other data, namely data with a value of 250 and above. So, we will delete the data."
   ]
  },
  {
   "cell_type": "code",
   "execution_count": 55,
   "id": "e5a74478",
   "metadata": {},
   "outputs": [],
   "source": [
    "# Create a variable to hold 'Previous' data with a value > 250\n",
    "df_previous_outlier = df_bank_full[df_bank_full['previous']>250].index"
   ]
  },
  {
   "cell_type": "code",
   "execution_count": 56,
   "id": "a8c4f19b",
   "metadata": {},
   "outputs": [],
   "source": [
    "# Drop df_previous_outlier\n",
    "df_bank_full.drop(df_previous_outlier, inplace=True)"
   ]
  },
  {
   "cell_type": "code",
   "execution_count": 57,
   "id": "c0322e36",
   "metadata": {},
   "outputs": [
    {
     "data": {
      "text/plain": [
       "(45207, 17)"
      ]
     },
     "execution_count": 57,
     "metadata": {},
     "output_type": "execute_result"
    }
   ],
   "source": [
    "# Check the amount of data back\n",
    "df_bank_full.shape"
   ]
  },
  {
   "cell_type": "markdown",
   "id": "6b0206eb",
   "metadata": {},
   "source": [
    "\"Now the data count has changed, initially there were 45,208 ROW & 17 COLUMN, to 45.207 ROW & 17 COLUMN.\""
   ]
  },
  {
   "cell_type": "markdown",
   "id": "11771c16",
   "metadata": {},
   "source": [
    "### #7 MAPPED CATEGORY DATA INTO NUMBERS\n",
    "DATA CATEGORY (MONTH, EDUCATION, MARITAL, HOUSING, DEFAULT, LOAN, JOB, Y)\n",
    "will be mapped into NUMBERS."
   ]
  },
  {
   "cell_type": "code",
   "execution_count": 59,
   "id": "ff572b18",
   "metadata": {},
   "outputs": [],
   "source": [
    "df_bank_full['month']= df_bank_full['month'].replace({'jan':1, 'feb':2,'mar':3,'apr':4,\n",
    "                                                      'may':5,'jun':6, 'jul':7,'aug':8,\n",
    "                                                      'sep':9,'oct':10,'nov':11,'dec':12})\n",
    "\n",
    "df_bank_full['education'] = df_bank_full['education'].replace({'primary':1,'secondary':2,\n",
    "                                                               'tertiary':3,'unknown':4})\n",
    "\n",
    "df_bank_full['marital'] = df_bank_full['marital'].replace({'single':1,'married':2,'divorced':3})\n",
    "\n",
    "df_bank_full['housing'] = df_bank_full['housing'].replace({'yes':1, 'no':0})\n",
    "\n",
    "df_bank_full['default'] = df_bank_full['default'].replace({'yes':1, 'no':0})\n",
    "\n",
    "df_bank_full['loan'] = df_bank_full['loan'].replace({'yes':1, 'no':0})\n",
    "\n",
    "df_bank_full['job']= df_bank_full['job'].replace({'admin.':1, 'blue-collar':2,'entrepreneur':3,'housemaid':4,\n",
    "                                                  'management':5,'retired':6, 'self-employed':7,'services':8,\n",
    "                                                  'student':9,'technician':10,'unemployed':11,'unknown':12})\n",
    "\n",
    "df_bank_full['y'] = df_bank_full['y'].replace({'yes':1, 'no': 0})"
   ]
  },
  {
   "cell_type": "markdown",
   "id": "c8c5bb90",
   "metadata": {},
   "source": [
    "### HEATMAP PLOT DATA VISUALIZATION"
   ]
  },
  {
   "cell_type": "code",
   "execution_count": 63,
   "id": "cec2f3c3",
   "metadata": {},
   "outputs": [
    {
     "data": {
      "image/png": "[encoded data removed]",
      "text/plain": [
       "<Figure size 1224x648 with 2 Axes>"
      ]
     },
     "metadata": {
      "needs_background": "light"
     },
     "output_type": "display_data"
    }
   ],
   "source": [
    "# Visualisasi korelasi menggunakan heatmap plot\n",
    "plt.figure(figsize=(17, 9))\n",
    "ax = sns.heatmap(df_bank_full.corr(), annot=True, cmap=\"PuRd\")"
   ]
  },
  {
   "cell_type": "markdown",
   "id": "4ac30852",
   "metadata": {},
   "source": [
    "### question\n",
    "\"Seeing the relationship of 'EDUCATION' to the client's decision in choosing whether to subscribe to 'Terms Deposit', does it affect?\"\n",
    "\n",
    "Information :\n",
    "- Primary : 1\n",
    "- Secondary: 2\n",
    "- Tertiary : 3\n",
    "- Unknown : 4\n",
    "\n",
    "0 & 1?\n",
    "- 0 : NO SUBSCRIPTION 'Terms Deposit'\n",
    "- 1 : SUBSCRIBE 'Terms Deposit'"
   ]
  },
  {
   "cell_type": "code",
   "execution_count": 64,
   "id": "13feb97e",
   "metadata": {},
   "outputs": [
    {
     "name": "stdout",
     "output_type": "stream",
     "text": [
      "y  education\n",
      "0  1             6259\n",
      "   2            20750\n",
      "   3            11304\n",
      "   4             1605\n",
      "1  1              591\n",
      "   2             2450\n",
      "   3             1996\n",
      "   4              252\n",
      "dtype: int64\n"
     ]
    }
   ],
   "source": [
    "print(df_bank_full.groupby(['y','education']).size())"
   ]
  },
  {
   "cell_type": "markdown",
   "id": "80c061b6",
   "metadata": {},
   "source": [
    "Based on the above results,\n",
    "There is a relationship between 'client' and 'Education' affecting, where, there are '1.605 Client' with 'Unknown Education' choosing not to be a customer."
   ]
  },
  {
   "cell_type": "markdown",
   "id": "a3e9968f",
   "metadata": {},
   "source": [
    "### question\n",
    "How does 'MARITAL' influence 'CLIENTS' in their decision to choose whether to subscribe to 'Term Deposits', does it have any effect?\n",
    "\n",
    "Information\n",
    "- Single : 1\n",
    "- Married : 2\n",
    "- Divorced : 3\n",
    "\n",
    "0 & 1?\n",
    "- 0 : NO SUBSCRIPTION 'Terms Deposit'\n",
    "- 1 : SUBSCRIBE 'Terms Deposit'"
   ]
  },
  {
   "cell_type": "code",
   "execution_count": 65,
   "id": "ead979fb",
   "metadata": {},
   "outputs": [
    {
     "name": "stdout",
     "output_type": "stream",
     "text": [
      "y  marital\n",
      "0  3           4585\n",
      "   2          24455\n",
      "   1          10878\n",
      "1  3            622\n",
      "   2           2755\n",
      "   1           1912\n",
      "dtype: int64\n"
     ]
    }
   ],
   "source": [
    "print(df_bank_full.groupby(['y','marital']).size())"
   ]
  },
  {
   "cell_type": "markdown",
   "id": "33cbad4b",
   "metadata": {},
   "source": [
    "Based on the above results,\n",
    "There is an effect of 'marriage' on 'clients', as many as 24,455 married clients choose not to subscribe to 'Term Deposits'."
   ]
  },
  {
   "cell_type": "markdown",
   "id": "d785f24b",
   "metadata": {},
   "source": [
    "### data visualization"
   ]
  },
  {
   "cell_type": "markdown",
   "id": "f2689df8",
   "metadata": {},
   "source": [
    "### #1"
   ]
  },
  {
   "cell_type": "markdown",
   "id": "f731a983",
   "metadata": {},
   "source": [
    "Clients who subscribe to 'Terms Deposits' and do not subscribe to 'Terms Deposits' based on 'AGE'.\n",
    "\n",
    "0 & 1?\n",
    "\n",
    "    0 : NO SUBSCRIPTION 'Terms Deposit'\n",
    "    1 : SUBSCRIBE 'Terms Deposit'\n"
   ]
  },
  {
   "cell_type": "code",
   "execution_count": 66,
   "id": "00cd6579",
   "metadata": {},
   "outputs": [
    {
     "name": "stderr",
     "output_type": "stream",
     "text": [
      "C:\\Users\\USER\\AppData\\Local\\Programs\\Python\\Python310\\lib\\site-packages\\seaborn\\axisgrid.py:848: FutureWarning: \n",
      "\n",
      "`shade` is now deprecated in favor of `fill`; setting `fill=True`.\n",
      "This will become an error in seaborn v0.14.0; please update your code.\n",
      "\n",
      "  func(*plot_args, **plot_kwargs)\n",
      "C:\\Users\\USER\\AppData\\Local\\Programs\\Python\\Python310\\lib\\site-packages\\seaborn\\axisgrid.py:848: FutureWarning: \n",
      "\n",
      "`shade` is now deprecated in favor of `fill`; setting `fill=True`.\n",
      "This will become an error in seaborn v0.14.0; please update your code.\n",
      "\n",
      "  func(*plot_args, **plot_kwargs)\n"
     ]
    },
    {
     "data": {
      "image/png": "[encoded data removed]",
      "text/plain": [
       "<Figure size 690.375x216 with 1 Axes>"
      ]
     },
     "metadata": {
      "needs_background": "light"
     },
     "output_type": "display_data"
    }
   ],
   "source": [
    "df_age = sns.FacetGrid(df_bank_full, hue=\"y\", aspect = 3)\n",
    "df_age.map(sns.kdeplot, 'age', shade=True)\n",
    "df_age.set(xlim=(0, df_bank_full['age'].max()))\n",
    "df_age.add_legend()\n",
    "\n",
    "plt.show()"
   ]
  },
  {
   "cell_type": "markdown",
   "id": "1da69b94",
   "metadata": {},
   "source": [
    "- Blue : Subscribe to 'Terms Deposit'\n",
    "- Orange : Unsubscribe 'Terms Deposit'\n",
    "\n",
    "Based on the Data Visualization above,\n",
    "Clients aged between 30-40 years, many do not subscribe to 'Terms Deposit'."
   ]
  },
  {
   "cell_type": "markdown",
   "id": "2bb86de6",
   "metadata": {},
   "source": [
    "### #2"
   ]
  },
  {
   "cell_type": "markdown",
   "id": "6b08d0b4",
   "metadata": {},
   "source": [
    "Seeing the effect of 'HOUSING, DEFAULT, and LOAN' on 'CLIENT' in deciding to subscribe to 'Term Deposits'."
   ]
  },
  {
   "cell_type": "code",
   "execution_count": 68,
   "id": "b2bb9ba1",
   "metadata": {},
   "outputs": [],
   "source": [
    "def barh_chart(feature):\n",
    "    yes = df_bank_full[df_bank_full['y']==1][feature].value_counts()\n",
    "    no = df_bank_full[df_bank_full['y']==0][feature].value_counts()\n",
    "    df = pd.DataFrame([yes,no])\n",
    "    df.index = ['Yes', 'No']\n",
    "    df.plot(kind = 'barh', stacked = True, figsize = (10,5))"
   ]
  },
  {
   "cell_type": "markdown",
   "id": "c498f133",
   "metadata": {},
   "source": [
    "### HOUSING"
   ]
  },
  {
   "cell_type": "markdown",
   "id": "8415fd19",
   "metadata": {},
   "source": [
    "Housing Description\n",
    "- YES (Orange) = 1\n",
    "- NO (Blue)    = 0\n",
    "\n",
    "0 & 1?\n",
    "\n",
    "- 0 : NO SUBSCRIPTION 'Terms Deposit'\n",
    "- 1 : SUBSCRIBE 'Terms Deposit'"
   ]
  },
  {
   "cell_type": "code",
   "execution_count": 76,
   "id": "0c5bb80e",
   "metadata": {},
   "outputs": [
    {
     "data": {
      "text/plain": [
       "(array([    0.,  5000., 10000., 15000., 20000., 25000., 30000., 35000.,\n",
       "        40000., 45000.]),\n",
       " [Text(0, 0, ''),\n",
       "  Text(0, 0, ''),\n",
       "  Text(0, 0, ''),\n",
       "  Text(0, 0, ''),\n",
       "  Text(0, 0, ''),\n",
       "  Text(0, 0, ''),\n",
       "  Text(0, 0, ''),\n",
       "  Text(0, 0, ''),\n",
       "  Text(0, 0, ''),\n",
       "  Text(0, 0, '')])"
      ]
     },
     "execution_count": 76,
     "metadata": {},
     "output_type": "execute_result"
    },
    {
     "data": {
      "image/png": "[encoded data removed]",
      "text/plain": [
       "<Figure size 720x360 with 1 Axes>"
      ]
     },
     "metadata": {
      "needs_background": "light"
     },
     "output_type": "display_data"
    }
   ],
   "source": [
    "barh_chart('housing')\n",
    "plt.title(\"HOUSING\", pad=2, fontsize = 10)\n",
    "plt.xticks(rotation = 45)"
   ]
  },
  {
   "cell_type": "markdown",
   "id": "3e34537f",
   "metadata": {},
   "source": [
    "Based on the above results,\n",
    "'Clients' who have 'Housing Loans' are more likely to subscribe to 'Terms Deposits' when compared to 'Clients' who do not have 'Housing Loans'."
   ]
  },
  {
   "cell_type": "markdown",
   "id": "8dd46c62",
   "metadata": {},
   "source": [
    "### DEFAULT"
   ]
  },
  {
   "cell_type": "markdown",
   "id": "80bb7ec5",
   "metadata": {},
   "source": [
    "Default Description\n",
    "\n",
    "- YES(Orange) = 1\n",
    "- NO (Blue) = 0\n",
    "\n",
    "Clients who subscribe to 'Terms Deposits' and do not subscribe to 'Terms Deposits' based on 'AGE'.\n",
    "\n",
    "0 & 1?\n",
    "\n",
    "- 0 : NO SUBSCRIPTION 'Terms Deposit'\n",
    "- 1 : SUBSCRIBE 'Terms Deposit'"
   ]
  },
  {
   "cell_type": "code",
   "execution_count": 75,
   "id": "a3f08398",
   "metadata": {},
   "outputs": [
    {
     "data": {
      "text/plain": [
       "(array([    0.,  5000., 10000., 15000., 20000., 25000., 30000., 35000.,\n",
       "        40000., 45000.]),\n",
       " [Text(0, 0, ''),\n",
       "  Text(0, 0, ''),\n",
       "  Text(0, 0, ''),\n",
       "  Text(0, 0, ''),\n",
       "  Text(0, 0, ''),\n",
       "  Text(0, 0, ''),\n",
       "  Text(0, 0, ''),\n",
       "  Text(0, 0, ''),\n",
       "  Text(0, 0, ''),\n",
       "  Text(0, 0, '')])"
      ]
     },
     "execution_count": 75,
     "metadata": {},
     "output_type": "execute_result"
    },
    {
     "data": {
      "image/png": "[encoded data removed]",
      "text/plain": [
       "<Figure size 720x360 with 1 Axes>"
      ]
     },
     "metadata": {
      "needs_background": "light"
     },
     "output_type": "display_data"
    }
   ],
   "source": [
    "barh_chart('default')\n",
    "plt.title(\"DEFAULT\", pad=2, fontsize = 10)\n",
    "plt.xticks(rotation = 45)"
   ]
  },
  {
   "cell_type": "markdown",
   "id": "115ee41d",
   "metadata": {},
   "source": [
    "Based on the above results, 'Clients' who have 'unfinished credit dependents' and those who do not have 'unfinished credit guarantees' have a tendency to not subscribe to 'Term Deposits'."
   ]
  },
  {
   "cell_type": "markdown",
   "id": "0922292e",
   "metadata": {},
   "source": [
    "### LOAN"
   ]
  },
  {
   "cell_type": "markdown",
   "id": "13e9d6a9",
   "metadata": {},
   "source": [
    "Loan Description\n",
    "\n",
    "- YES(Orange) = 1\n",
    "- NO (Blue) = 0\n",
    "\n",
    "Clients who subscribe to 'Terms Deposits' and do not subscribe to 'Terms Deposits' based on 'AGE'.\n",
    "\n",
    "0 & 1?\n",
    "\n",
    "- 0 : NO SUBSCRIPTION 'Terms Deposit'\n",
    "- 1 : SUBSCRIBE 'Terms Deposit'"
   ]
  },
  {
   "cell_type": "code",
   "execution_count": 78,
   "id": "e5414c5b",
   "metadata": {},
   "outputs": [
    {
     "data": {
      "text/plain": [
       "(array([    0.,  5000., 10000., 15000., 20000., 25000., 30000., 35000.,\n",
       "        40000., 45000.]),\n",
       " [Text(0, 0, ''),\n",
       "  Text(0, 0, ''),\n",
       "  Text(0, 0, ''),\n",
       "  Text(0, 0, ''),\n",
       "  Text(0, 0, ''),\n",
       "  Text(0, 0, ''),\n",
       "  Text(0, 0, ''),\n",
       "  Text(0, 0, ''),\n",
       "  Text(0, 0, ''),\n",
       "  Text(0, 0, '')])"
      ]
     },
     "execution_count": 78,
     "metadata": {},
     "output_type": "execute_result"
    },
    {
     "data": {
      "image/png": "[encoded data removed]",
      "text/plain": [
       "<Figure size 720x360 with 1 Axes>"
      ]
     },
     "metadata": {
      "needs_background": "light"
     },
     "output_type": "display_data"
    }
   ],
   "source": [
    "barh_chart('loan')\n",
    "plt.title(\"LOAN\", pad=2, fontsize = 10)\n",
    "plt.xticks(rotation = 45)"
   ]
  },
  {
   "cell_type": "markdown",
   "id": "8723c5f6",
   "metadata": {},
   "source": [
    "Based on the above, 'Clients' who have 'loans' and those who do not have 'loans' have a tendency to not subscribe to 'Terms Deposits'."
   ]
  },
  {
   "cell_type": "markdown",
   "id": "6bd8dfe2",
   "metadata": {},
   "source": [
    "## MACHINE LEARNING MODEL\n",
    "1. Logistic Regression\n",
    "2. K-Nearest Neighbour\n",
    "3. Support Vector Machine\n",
    "4. Decision Tree\n",
    "5. Random Forest\n",
    "6. Naive Bayes\n",
    "7. Confusion Matrix"
   ]
  },
  {
   "cell_type": "markdown",
   "id": "8f912e60",
   "metadata": {},
   "source": [
    "## Data Preparation"
   ]
  },
  {
   "cell_type": "markdown",
   "id": "6e959529",
   "metadata": {},
   "source": [
    "### Removed 'contact' and 'poutcome' variables\n",
    "Because it has no influence on the client's decision to join as a bank customer or not"
   ]
  },
  {
   "cell_type": "code",
   "execution_count": 79,
   "id": "68a66b58",
   "metadata": {},
   "outputs": [],
   "source": [
    "# Delete variabel 'contact' dan 'poutcome'\n",
    "df_bank_full = df_bank_full.drop(columns=['contact','poutcome'])"
   ]
  },
  {
   "cell_type": "markdown",
   "id": "c8c0e7b0",
   "metadata": {},
   "source": [
    "### Prepare 'data training' and 'data testing'"
   ]
  },
  {
   "cell_type": "code",
   "execution_count": 80,
   "id": "f3a9fdd1",
   "metadata": {},
   "outputs": [],
   "source": [
    "X = df_bank_full.drop('y', axis=1)\n",
    "y = df_bank_full['y']\n",
    "\n",
    "X_train, X_test, y_train, y_test = train_test_split(X, y, test_size = 0.25, random_state =1)"
   ]
  },
  {
   "cell_type": "markdown",
   "id": "be0c1e2e",
   "metadata": {},
   "source": [
    "### 1. Logistic Regression"
   ]
  },
  {
   "cell_type": "code",
   "execution_count": 81,
   "id": "417502e8",
   "metadata": {},
   "outputs": [
    {
     "name": "stdout",
     "output_type": "stream",
     "text": [
      "              precision    recall  f1-score   support\n",
      "\n",
      "           0       0.90      0.98      0.94      9974\n",
      "           1       0.56      0.19      0.29      1328\n",
      "\n",
      "    accuracy                           0.89     11302\n",
      "   macro avg       0.73      0.59      0.61     11302\n",
      "weighted avg       0.86      0.89      0.86     11302\n",
      "\n",
      "Accuracy: 0.8877189877897718\n"
     ]
    }
   ],
   "source": [
    "logistic = LogisticRegression(solver='liblinear', C=0.05, multi_class='ovr', random_state=1)\n",
    "logistic.fit(X_train, y_train)\n",
    "logreg_pred = logistic.predict(X_test)\n",
    "\n",
    "print(classification_report(y_test, logreg_pred))\n",
    "print(\"Accuracy:\",metrics.accuracy_score(y_test, logreg_pred))"
   ]
  },
  {
   "cell_type": "markdown",
   "id": "83dcacd6",
   "metadata": {},
   "source": [
    "Based on the above results,\n",
    "\n",
    "The results obtained from the model accuracy of 89%.\n",
    "However, if you look at the results of 'Precision (0.56), Recall (0.19), and F1-score (0.29)' for the 'YES' option (Subscribing to Time Deposits) it is still not good."
   ]
  },
  {
   "cell_type": "markdown",
   "id": "901558d3",
   "metadata": {},
   "source": [
    "### 2. K-Nearest Neighbour"
   ]
  },
  {
   "cell_type": "code",
   "execution_count": 82,
   "id": "f251bab5",
   "metadata": {},
   "outputs": [
    {
     "name": "stdout",
     "output_type": "stream",
     "text": [
      "              precision    recall  f1-score   support\n",
      "\n",
      "           0       0.96      0.91      0.94     10590\n",
      "           1       0.27      0.50      0.35       712\n",
      "\n",
      "    accuracy                           0.88     11302\n",
      "   macro avg       0.62      0.70      0.64     11302\n",
      "weighted avg       0.92      0.88      0.90     11302\n",
      "\n",
      "Accuracy: 0.8824986728012741\n"
     ]
    }
   ],
   "source": [
    "knn = KNeighborsClassifier(n_neighbors=5, weights='uniform', \n",
    "                                 algorithm='auto', leaf_size=30, p=2, \n",
    "                                 metric='minkowski', metric_params=None)\n",
    "\n",
    "# Melatih model menggunakan data train\n",
    "knn.fit(X_train, y_train)\n",
    "\n",
    "# Hasil predict\n",
    "knn_pred = knn.predict(X_test)\n",
    "\n",
    "print(classification_report(knn_pred,y_test))\n",
    "print(\"Accuracy:\",metrics.accuracy_score( knn_pred,y_test))"
   ]
  },
  {
   "cell_type": "markdown",
   "id": "4d92b027",
   "metadata": {},
   "source": [
    "Based on the above results,\n",
    "\n",
    "The results obtained model accuracy of 88%.\n",
    "However, if you look at the results of 'Precision (0.27), Recall (0.50), and F1-score (0.35)' for the 'YES' option (Subscribe to Time Deposits) it is still not good."
   ]
  },
  {
   "cell_type": "markdown",
   "id": "716a2363",
   "metadata": {},
   "source": [
    "### 3. Support Vector Machine (SVM)"
   ]
  },
  {
   "cell_type": "code",
   "execution_count": 83,
   "id": "cbea2a31",
   "metadata": {},
   "outputs": [
    {
     "name": "stderr",
     "output_type": "stream",
     "text": [
      "C:\\Users\\USER\\AppData\\Local\\Programs\\Python\\Python310\\lib\\site-packages\\sklearn\\svm\\_base.py:1225: ConvergenceWarning: Liblinear failed to converge, increase the number of iterations.\n",
      "  warnings.warn(\n"
     ]
    },
    {
     "data": {
      "text/html": [
       "<style>#sk-container-id-1 {color: black;background-color: white;}#sk-container-id-1 pre{padding: 0;}#sk-container-id-1 div.sk-toggleable {background-color: white;}#sk-container-id-1 label.sk-toggleable__label {cursor: pointer;display: block;width: 100%;margin-bottom: 0;padding: 0.3em;box-sizing: border-box;text-align: center;}#sk-container-id-1 label.sk-toggleable__label-arrow:before {content: \"▸\";float: left;margin-right: 0.25em;color: #696969;}#sk-container-id-1 label.sk-toggleable__label-arrow:hover:before {color: black;}#sk-container-id-1 div.sk-estimator:hover label.sk-toggleable__label-arrow:before {color: black;}#sk-container-id-1 div.sk-toggleable__content {max-height: 0;max-width: 0;overflow: hidden;text-align: left;background-color: #f0f8ff;}#sk-container-id-1 div.sk-toggleable__content pre {margin: 0.2em;color: black;border-radius: 0.25em;background-color: #f0f8ff;}#sk-container-id-1 input.sk-toggleable__control:checked~div.sk-toggleable__content {max-height: 200px;max-width: 100%;overflow: auto;}#sk-container-id-1 input.sk-toggleable__control:checked~label.sk-toggleable__label-arrow:before {content: \"▾\";}#sk-container-id-1 div.sk-estimator input.sk-toggleable__control:checked~label.sk-toggleable__label {background-color: #d4ebff;}#sk-container-id-1 div.sk-label input.sk-toggleable__control:checked~label.sk-toggleable__label {background-color: #d4ebff;}#sk-container-id-1 input.sk-hidden--visually {border: 0;clip: rect(1px 1px 1px 1px);clip: rect(1px, 1px, 1px, 1px);height: 1px;margin: -1px;overflow: hidden;padding: 0;position: absolute;width: 1px;}#sk-container-id-1 div.sk-estimator {font-family: monospace;background-color: #f0f8ff;border: 1px dotted black;border-radius: 0.25em;box-sizing: border-box;margin-bottom: 0.5em;}#sk-container-id-1 div.sk-estimator:hover {background-color: #d4ebff;}#sk-container-id-1 div.sk-parallel-item::after {content: \"\";width: 100%;border-bottom: 1px solid gray;flex-grow: 1;}#sk-container-id-1 div.sk-label:hover label.sk-toggleable__label {background-color: #d4ebff;}#sk-container-id-1 div.sk-serial::before {content: \"\";position: absolute;border-left: 1px solid gray;box-sizing: border-box;top: 0;bottom: 0;left: 50%;z-index: 0;}#sk-container-id-1 div.sk-serial {display: flex;flex-direction: column;align-items: center;background-color: white;padding-right: 0.2em;padding-left: 0.2em;position: relative;}#sk-container-id-1 div.sk-item {position: relative;z-index: 1;}#sk-container-id-1 div.sk-parallel {display: flex;align-items: stretch;justify-content: center;background-color: white;position: relative;}#sk-container-id-1 div.sk-item::before, #sk-container-id-1 div.sk-parallel-item::before {content: \"\";position: absolute;border-left: 1px solid gray;box-sizing: border-box;top: 0;bottom: 0;left: 50%;z-index: -1;}#sk-container-id-1 div.sk-parallel-item {display: flex;flex-direction: column;z-index: 1;position: relative;background-color: white;}#sk-container-id-1 div.sk-parallel-item:first-child::after {align-self: flex-end;width: 50%;}#sk-container-id-1 div.sk-parallel-item:last-child::after {align-self: flex-start;width: 50%;}#sk-container-id-1 div.sk-parallel-item:only-child::after {width: 0;}#sk-container-id-1 div.sk-dashed-wrapped {border: 1px dashed gray;margin: 0 0.4em 0.5em 0.4em;box-sizing: border-box;padding-bottom: 0.4em;background-color: white;}#sk-container-id-1 div.sk-label label {font-family: monospace;font-weight: bold;display: inline-block;line-height: 1.2em;}#sk-container-id-1 div.sk-label-container {text-align: center;}#sk-container-id-1 div.sk-container {/* jupyter's `normalize.less` sets `[hidden] { display: none; }` but bootstrap.min.css set `[hidden] { display: none !important; }` so we also need the `!important` here to be able to override the default hidden behavior on the sphinx rendered scikit-learn.org. See: https://github.com/scikit-learn/scikit-learn/issues/21755 */display: inline-block !important;position: relative;}#sk-container-id-1 div.sk-text-repr-fallback {display: none;}</style><div id=\"sk-container-id-1\" class=\"sk-top-container\"><div class=\"sk-text-repr-fallback\"><pre>LinearSVC()</pre><b>In a Jupyter environment, please rerun this cell to show the HTML representation or trust the notebook. <br />On GitHub, the HTML representation is unable to render, please try loading this page with nbviewer.org.</b></div><div class=\"sk-container\" hidden><div class=\"sk-item\"><div class=\"sk-estimator sk-toggleable\"><input class=\"sk-toggleable__control sk-hidden--visually\" id=\"sk-estimator-id-1\" type=\"checkbox\" checked><label for=\"sk-estimator-id-1\" class=\"sk-toggleable__label sk-toggleable__label-arrow\">LinearSVC</label><div class=\"sk-toggleable__content\"><pre>LinearSVC()</pre></div></div></div></div></div>"
      ],
      "text/plain": [
       "LinearSVC()"
      ]
     },
     "execution_count": 83,
     "metadata": {},
     "output_type": "execute_result"
    }
   ],
   "source": [
    "svm_model = LinearSVC()\n",
    "svm_model.fit(X_train,y_train)"
   ]
  },
  {
   "cell_type": "code",
   "execution_count": 84,
   "id": "4d941db2",
   "metadata": {},
   "outputs": [
    {
     "name": "stdout",
     "output_type": "stream",
     "text": [
      "0.8670107653738387\n"
     ]
    }
   ],
   "source": [
    "svm_score_train = svm_model.score(X_train, y_train)\n",
    "print(svm_score_train)"
   ]
  },
  {
   "cell_type": "code",
   "execution_count": 85,
   "id": "5d712f35",
   "metadata": {},
   "outputs": [
    {
     "name": "stderr",
     "output_type": "stream",
     "text": [
      "C:\\Users\\USER\\AppData\\Local\\Programs\\Python\\Python310\\lib\\site-packages\\sklearn\\svm\\_base.py:1225: ConvergenceWarning: Liblinear failed to converge, increase the number of iterations.\n",
      "  warnings.warn(\n"
     ]
    },
    {
     "data": {
      "text/html": [
       "<style>#sk-container-id-2 {color: black;background-color: white;}#sk-container-id-2 pre{padding: 0;}#sk-container-id-2 div.sk-toggleable {background-color: white;}#sk-container-id-2 label.sk-toggleable__label {cursor: pointer;display: block;width: 100%;margin-bottom: 0;padding: 0.3em;box-sizing: border-box;text-align: center;}#sk-container-id-2 label.sk-toggleable__label-arrow:before {content: \"▸\";float: left;margin-right: 0.25em;color: #696969;}#sk-container-id-2 label.sk-toggleable__label-arrow:hover:before {color: black;}#sk-container-id-2 div.sk-estimator:hover label.sk-toggleable__label-arrow:before {color: black;}#sk-container-id-2 div.sk-toggleable__content {max-height: 0;max-width: 0;overflow: hidden;text-align: left;background-color: #f0f8ff;}#sk-container-id-2 div.sk-toggleable__content pre {margin: 0.2em;color: black;border-radius: 0.25em;background-color: #f0f8ff;}#sk-container-id-2 input.sk-toggleable__control:checked~div.sk-toggleable__content {max-height: 200px;max-width: 100%;overflow: auto;}#sk-container-id-2 input.sk-toggleable__control:checked~label.sk-toggleable__label-arrow:before {content: \"▾\";}#sk-container-id-2 div.sk-estimator input.sk-toggleable__control:checked~label.sk-toggleable__label {background-color: #d4ebff;}#sk-container-id-2 div.sk-label input.sk-toggleable__control:checked~label.sk-toggleable__label {background-color: #d4ebff;}#sk-container-id-2 input.sk-hidden--visually {border: 0;clip: rect(1px 1px 1px 1px);clip: rect(1px, 1px, 1px, 1px);height: 1px;margin: -1px;overflow: hidden;padding: 0;position: absolute;width: 1px;}#sk-container-id-2 div.sk-estimator {font-family: monospace;background-color: #f0f8ff;border: 1px dotted black;border-radius: 0.25em;box-sizing: border-box;margin-bottom: 0.5em;}#sk-container-id-2 div.sk-estimator:hover {background-color: #d4ebff;}#sk-container-id-2 div.sk-parallel-item::after {content: \"\";width: 100%;border-bottom: 1px solid gray;flex-grow: 1;}#sk-container-id-2 div.sk-label:hover label.sk-toggleable__label {background-color: #d4ebff;}#sk-container-id-2 div.sk-serial::before {content: \"\";position: absolute;border-left: 1px solid gray;box-sizing: border-box;top: 0;bottom: 0;left: 50%;z-index: 0;}#sk-container-id-2 div.sk-serial {display: flex;flex-direction: column;align-items: center;background-color: white;padding-right: 0.2em;padding-left: 0.2em;position: relative;}#sk-container-id-2 div.sk-item {position: relative;z-index: 1;}#sk-container-id-2 div.sk-parallel {display: flex;align-items: stretch;justify-content: center;background-color: white;position: relative;}#sk-container-id-2 div.sk-item::before, #sk-container-id-2 div.sk-parallel-item::before {content: \"\";position: absolute;border-left: 1px solid gray;box-sizing: border-box;top: 0;bottom: 0;left: 50%;z-index: -1;}#sk-container-id-2 div.sk-parallel-item {display: flex;flex-direction: column;z-index: 1;position: relative;background-color: white;}#sk-container-id-2 div.sk-parallel-item:first-child::after {align-self: flex-end;width: 50%;}#sk-container-id-2 div.sk-parallel-item:last-child::after {align-self: flex-start;width: 50%;}#sk-container-id-2 div.sk-parallel-item:only-child::after {width: 0;}#sk-container-id-2 div.sk-dashed-wrapped {border: 1px dashed gray;margin: 0 0.4em 0.5em 0.4em;box-sizing: border-box;padding-bottom: 0.4em;background-color: white;}#sk-container-id-2 div.sk-label label {font-family: monospace;font-weight: bold;display: inline-block;line-height: 1.2em;}#sk-container-id-2 div.sk-label-container {text-align: center;}#sk-container-id-2 div.sk-container {/* jupyter's `normalize.less` sets `[hidden] { display: none; }` but bootstrap.min.css set `[hidden] { display: none !important; }` so we also need the `!important` here to be able to override the default hidden behavior on the sphinx rendered scikit-learn.org. See: https://github.com/scikit-learn/scikit-learn/issues/21755 */display: inline-block !important;position: relative;}#sk-container-id-2 div.sk-text-repr-fallback {display: none;}</style><div id=\"sk-container-id-2\" class=\"sk-top-container\"><div class=\"sk-text-repr-fallback\"><pre>LinearSVC()</pre><b>In a Jupyter environment, please rerun this cell to show the HTML representation or trust the notebook. <br />On GitHub, the HTML representation is unable to render, please try loading this page with nbviewer.org.</b></div><div class=\"sk-container\" hidden><div class=\"sk-item\"><div class=\"sk-estimator sk-toggleable\"><input class=\"sk-toggleable__control sk-hidden--visually\" id=\"sk-estimator-id-2\" type=\"checkbox\" checked><label for=\"sk-estimator-id-2\" class=\"sk-toggleable__label sk-toggleable__label-arrow\">LinearSVC</label><div class=\"sk-toggleable__content\"><pre>LinearSVC()</pre></div></div></div></div></div>"
      ],
      "text/plain": [
       "LinearSVC()"
      ]
     },
     "execution_count": 85,
     "metadata": {},
     "output_type": "execute_result"
    }
   ],
   "source": [
    "svm_model.fit(X_test,y_test)"
   ]
  },
  {
   "cell_type": "code",
   "execution_count": 86,
   "id": "1d7ce37e",
   "metadata": {},
   "outputs": [
    {
     "name": "stdout",
     "output_type": "stream",
     "text": [
      "0.8157848168465758\n"
     ]
    }
   ],
   "source": [
    "svm_score_test = svm_model.score(X_test, y_test)\n",
    "print(svm_score_test)"
   ]
  },
  {
   "cell_type": "code",
   "execution_count": 87,
   "id": "8d4c5cef",
   "metadata": {},
   "outputs": [
    {
     "name": "stdout",
     "output_type": "stream",
     "text": [
      "              precision    recall  f1-score   support\n",
      "\n",
      "           0       0.87      0.92      0.89      9468\n",
      "           1       0.41      0.29      0.34      1834\n",
      "\n",
      "    accuracy                           0.82     11302\n",
      "   macro avg       0.64      0.61      0.62     11302\n",
      "weighted avg       0.80      0.82      0.80     11302\n",
      "\n"
     ]
    }
   ],
   "source": [
    "svm_pred = svm_model.predict(X_test)\n",
    "print(classification_report(svm_pred,y_test))"
   ]
  },
  {
   "cell_type": "markdown",
   "id": "fc0fbeca",
   "metadata": {},
   "source": [
    "Based on the above results,\n",
    "\n",
    "The results obtained model accuracy of 82%.\n",
    "However, if you look at the results of 'Precision (0.41), Recall (0.29), and F1-score (0.34)' for the 'YES' option (Subscribe to Time Deposits) it is still not good."
   ]
  },
  {
   "cell_type": "markdown",
   "id": "8fa304a0",
   "metadata": {},
   "source": [
    "### 4. Decision Tree"
   ]
  },
  {
   "cell_type": "code",
   "execution_count": 90,
   "id": "8cd986c8",
   "metadata": {},
   "outputs": [
    {
     "name": "stdout",
     "output_type": "stream",
     "text": [
      "              precision    recall  f1-score   support\n",
      "\n",
      "           0       0.93      0.92      0.93      9974\n",
      "           1       0.44      0.48      0.46      1328\n",
      "\n",
      "    accuracy                           0.87     11302\n",
      "   macro avg       0.69      0.70      0.69     11302\n",
      "weighted avg       0.87      0.87      0.87     11302\n",
      "\n",
      "Accuracy: 0.8686073261369669\n"
     ]
    }
   ],
   "source": [
    "# Create Decision Tree classifer object\n",
    "decision = DecisionTreeClassifier()\n",
    "\n",
    "# Train Decision Tree Classifer\n",
    "decision = decision.fit(X_train,y_train)\n",
    "\n",
    "# Predict the response for test dataset\n",
    "dt_pred = decision.predict(X_test)\n",
    "\n",
    "print(classification_report(y_test, dt_pred))\n",
    "print(\"Accuracy:\",metrics.accuracy_score(y_test, dt_pred))"
   ]
  },
  {
   "cell_type": "markdown",
   "id": "0bcc3634",
   "metadata": {},
   "source": [
    "Based on the above results,\n",
    "\n",
    "The results obtained model accuracy of 87%.\n",
    "However, if you look at the results of 'Precision (0.44), Recall (0.48), and F1-score (0.46)' for the 'YES' option (Subscribe to Time Deposits) it is still not good."
   ]
  },
  {
   "cell_type": "markdown",
   "id": "c7e8cf4a",
   "metadata": {},
   "source": [
    "### 5. Random Forest"
   ]
  },
  {
   "cell_type": "code",
   "execution_count": 91,
   "id": "e3453db7",
   "metadata": {},
   "outputs": [
    {
     "name": "stdout",
     "output_type": "stream",
     "text": [
      "              precision    recall  f1-score   support\n",
      "\n",
      "           0       0.92      0.97      0.94      9974\n",
      "           1       0.61      0.38      0.47      1328\n",
      "\n",
      "    accuracy                           0.90     11302\n",
      "   macro avg       0.77      0.67      0.70     11302\n",
      "weighted avg       0.88      0.90      0.89     11302\n",
      "\n",
      "Accuracy: 0.898513537427004\n"
     ]
    }
   ],
   "source": [
    "randomforest = RandomForestClassifier(n_estimators=100)\n",
    " \n",
    "randomforest.fit(X_train,y_train) \n",
    "\n",
    "randfor_pred = randomforest.predict(X_test)\n",
    "\n",
    "print(classification_report(y_test, randfor_pred))\n",
    "print(\"Accuracy:\",metrics.accuracy_score(y_test, randfor_pred))"
   ]
  },
  {
   "cell_type": "markdown",
   "id": "01e0e456",
   "metadata": {},
   "source": [
    "Based on the above results,\n",
    "A good 90% accuracy result was obtained."
   ]
  },
  {
   "cell_type": "markdown",
   "id": "b7794303",
   "metadata": {},
   "source": [
    "### 6. Naive Bayes"
   ]
  },
  {
   "cell_type": "code",
   "execution_count": 92,
   "id": "3ca748b4",
   "metadata": {},
   "outputs": [
    {
     "name": "stdout",
     "output_type": "stream",
     "text": [
      "              precision    recall  f1-score   support\n",
      "\n",
      "           0       0.92      0.92      0.92      9974\n",
      "           1       0.41      0.39      0.40      1328\n",
      "\n",
      "    accuracy                           0.86     11302\n",
      "   macro avg       0.66      0.66      0.66     11302\n",
      "weighted avg       0.86      0.86      0.86     11302\n",
      "\n",
      "Accuracy: 0.8619713325075208\n"
     ]
    }
   ],
   "source": [
    "naive = GaussianNB()\n",
    "\n",
    "naive.fit(X_train,y_train)\n",
    "\n",
    "nb_pred = naive.predict(X_test)\n",
    "\n",
    "print(classification_report(y_test, nb_pred))\n",
    "print(\"Accuracy:\",metrics.accuracy_score(y_test, nb_pred))"
   ]
  },
  {
   "cell_type": "markdown",
   "id": "f16ededb",
   "metadata": {},
   "source": [
    "Based on the above results,\n",
    "The results obtained are a good 86% model accuracy."
   ]
  },
  {
   "cell_type": "markdown",
   "id": "72515645",
   "metadata": {},
   "source": [
    "### 7. Confussion Matrix"
   ]
  },
  {
   "cell_type": "markdown",
   "id": "6395beac",
   "metadata": {},
   "source": [
    "### Logistic Regression"
   ]
  },
  {
   "cell_type": "code",
   "execution_count": 93,
   "id": "1bf182e1",
   "metadata": {},
   "outputs": [
    {
     "data": {
      "image/png": "[encoded data removed]",
      "text/plain": [
       "<Figure size 288x288 with 1 Axes>"
      ]
     },
     "metadata": {
      "needs_background": "light"
     },
     "output_type": "display_data"
    }
   ],
   "source": [
    "cm = confusion_matrix(y_test, logreg_pred)\n",
    "fig, ax = plt.subplots(figsize=(4, 4))\n",
    "\n",
    "plt.title(\"Logistic Regression Confusion Matrix\")\n",
    "\n",
    "ax.imshow(cm)\n",
    "ax.grid(False)\n",
    "ax.xaxis.set(ticks=(0, 1), ticklabels=('Predicted 0s', 'Predicted 1s'))\n",
    "ax.yaxis.set(ticks=(0, 1), ticklabels=('Actual 0s', 'Actual 1s'))\n",
    "ax.set_ylim(1.5, -0.5)\n",
    "for i in range(2):\n",
    "    for j in range(2):\n",
    "        ax.text(j, i, cm[i, j], ha='center', va='center', color='red')\n",
    "plt.show()"
   ]
  },
  {
   "cell_type": "markdown",
   "id": "69a8b7ca",
   "metadata": {},
   "source": [
    "### K-Nearest Neighbour"
   ]
  },
  {
   "cell_type": "code",
   "execution_count": 94,
   "id": "74dc5ce8",
   "metadata": {},
   "outputs": [
    {
     "data": {
      "image/png": "[encoded data removed]",
      "text/plain": [
       "<Figure size 288x288 with 1 Axes>"
      ]
     },
     "metadata": {
      "needs_background": "light"
     },
     "output_type": "display_data"
    }
   ],
   "source": [
    "cm = confusion_matrix(y_test, knn_pred)\n",
    "fig, ax = plt.subplots(figsize=(4, 4))\n",
    "plt.title(\"K-Nearest Neighbour Confusion Matrix\")\n",
    "\n",
    "ax.imshow(cm)\n",
    "ax.grid(False)\n",
    "ax.xaxis.set(ticks=(0, 1), ticklabels=('Predicted 0s', 'Predicted 1s'))\n",
    "ax.yaxis.set(ticks=(0, 1), ticklabels=('Actual 0s', 'Actual 1s'))\n",
    "ax.set_ylim(1.5, -0.5)\n",
    "for i in range(2):\n",
    "    for j in range(2):\n",
    "        ax.text(j, i, cm[i, j], ha='center', va='center', color='red')\n",
    "plt.show()"
   ]
  },
  {
   "cell_type": "markdown",
   "id": "697f3993",
   "metadata": {},
   "source": [
    "### Suport Vector Machine"
   ]
  },
  {
   "cell_type": "code",
   "execution_count": 95,
   "id": "0ec70f9c",
   "metadata": {},
   "outputs": [
    {
     "data": {
      "image/png": "[encoded data removed]",
      "text/plain": [
       "<Figure size 288x288 with 1 Axes>"
      ]
     },
     "metadata": {
      "needs_background": "light"
     },
     "output_type": "display_data"
    }
   ],
   "source": [
    "cm = confusion_matrix(y_test, svm_pred)\n",
    "fig, ax = plt.subplots(figsize=(4, 4))\n",
    "plt.title(\"Suport Vector Machine Confusion Matrix\")\n",
    "\n",
    "ax.imshow(cm)\n",
    "ax.grid(False)\n",
    "ax.xaxis.set(ticks=(0, 1), ticklabels=('Predicted 0s', 'Predicted 1s'))\n",
    "ax.yaxis.set(ticks=(0, 1), ticklabels=('Actual 0s', 'Actual 1s'))\n",
    "ax.set_ylim(1.5, -0.5)\n",
    "for i in range(2):\n",
    "    for j in range(2):\n",
    "        ax.text(j, i, cm[i, j], ha='center', va='center', color='red')\n",
    "plt.show()"
   ]
  },
  {
   "cell_type": "markdown",
   "id": "fe3a1ae9",
   "metadata": {},
   "source": [
    "### Decision Tree"
   ]
  },
  {
   "cell_type": "code",
   "execution_count": 96,
   "id": "be70852b",
   "metadata": {},
   "outputs": [
    {
     "data": {
      "image/png": "[encoded data removed]",
      "text/plain": [
       "<Figure size 288x288 with 1 Axes>"
      ]
     },
     "metadata": {
      "needs_background": "light"
     },
     "output_type": "display_data"
    }
   ],
   "source": [
    "cm = confusion_matrix(y_test, dt_pred)\n",
    "fig, ax = plt.subplots(figsize=(4, 4))\n",
    "\n",
    "plt.title(\"Decision Tree Confusion Matrix\")\n",
    "\n",
    "ax.imshow(cm)\n",
    "ax.grid(False)\n",
    "ax.xaxis.set(ticks=(0, 1), ticklabels=('Predicted 0s', 'Predicted 1s'))\n",
    "ax.yaxis.set(ticks=(0, 1), ticklabels=('Actual 0s', 'Actual 1s'))\n",
    "ax.set_ylim(1.5, -0.5)\n",
    "for i in range(2):\n",
    "    for j in range(2):\n",
    "        ax.text(j, i, cm[i, j], ha='center', va='center', color='red')\n",
    "plt.show()"
   ]
  },
  {
   "cell_type": "markdown",
   "id": "c5fba32c",
   "metadata": {},
   "source": [
    "### Random Forest"
   ]
  },
  {
   "cell_type": "code",
   "execution_count": 97,
   "id": "e53d1151",
   "metadata": {},
   "outputs": [
    {
     "data": {
      "image/png": "[encoded data removed]",
      "text/plain": [
       "<Figure size 288x288 with 1 Axes>"
      ]
     },
     "metadata": {
      "needs_background": "light"
     },
     "output_type": "display_data"
    }
   ],
   "source": [
    "cm = confusion_matrix(y_test, randfor_pred)\n",
    "fig, ax = plt.subplots(figsize=(4, 4))\n",
    "\n",
    "plt.title(\"Random Forest Confusion Matrix\")\n",
    "\n",
    "ax.imshow(cm)\n",
    "ax.grid(False)\n",
    "ax.xaxis.set(ticks=(0, 1), ticklabels=('Predicted 0s', 'Predicted 1s'))\n",
    "ax.yaxis.set(ticks=(0, 1), ticklabels=('Actual 0s', 'Actual 1s'))\n",
    "ax.set_ylim(1.5, -0.5)\n",
    "for i in range(2):\n",
    "    for j in range(2):\n",
    "        ax.text(j, i, cm[i, j], ha='center', va='center', color='red')\n",
    "plt.show()"
   ]
  },
  {
   "cell_type": "markdown",
   "id": "21778e6a",
   "metadata": {},
   "source": [
    "### Naive Bayes"
   ]
  },
  {
   "cell_type": "code",
   "execution_count": 98,
   "id": "48edcff1",
   "metadata": {},
   "outputs": [
    {
     "data": {
      "image/png": "[encoded data removed]",
      "text/plain": [
       "<Figure size 288x288 with 1 Axes>"
      ]
     },
     "metadata": {
      "needs_background": "light"
     },
     "output_type": "display_data"
    }
   ],
   "source": [
    "cm = confusion_matrix(y_test, nb_pred)\n",
    "fig, ax = plt.subplots(figsize=(4, 4))\n",
    "\n",
    "plt.title(\"Naive Bayes Confusion Matrix\")\n",
    "\n",
    "ax.imshow(cm)\n",
    "ax.grid(False)\n",
    "ax.xaxis.set(ticks=(0, 1), ticklabels=('Predicted 0s', 'Predicted 1s'))\n",
    "ax.yaxis.set(ticks=(0, 1), ticklabels=('Actual 0s', 'Actual 1s'))\n",
    "ax.set_ylim(1.5, -0.5)\n",
    "for i in range(2):\n",
    "    for j in range(2):\n",
    "        ax.text(j, i, cm[i, j], ha='center', va='center', color='red')\n",
    "plt.show()"
   ]
  },
  {
   "cell_type": "markdown",
   "id": "7b2342b1",
   "metadata": {},
   "source": [
    "### CONCLUSION\n",
    "\n",
    "- A total of 39,919 clients have not subscribed to 'Term Deposits' and 5,289 clients have subscribed to 'Terms Deposits' at the bank.\n",
    "- From Machine Learning modeling, everything has a pretty good accuracy.\n",
    "1. Logistic Regression = 89%\n",
    "2. K-Nearest Neighbor = 88%\n",
    "3. Support Vector Machine = 82%\n",
    "4. Decision Tree = 87%\n",
    "5. Random Forest = 90%\n",
    "6. Naive Bayes = 86%\n",
    "- Although the accuracy of each model used is quite good, the precision, recall, and f1-score for the 'YES' class are still not good."
   ]
  },
  {
   "cell_type": "markdown",
   "id": "3bbbb6a7",
   "metadata": {},
   "source": [
    "### Algoritma yang paling sesuai?\n",
    "\n",
    "\"Random forest pada dasarnya merupakan kumpulan dari beberapa decision tree. Kumpulan dari pohon-pohon tersebut saling berhubungan hingga akhirnya dapat menghasilkan prediksi yang lebih akurat dan stabil.\"\n",
    "\n",
    "Menurut saya Algoritma Random Forest merupakan Algoritma yang cocok dalam penyelesaian dataset ini karena algoritma ini dapat digunakan untuk menyelesaikan masalah dengan kumpulan data yang berukuran besar."
   ]
  },
  {
   "cell_type": "code",
   "execution_count": null,
   "id": "a97695f9",
   "metadata": {},
   "outputs": [],
   "source": []
  }
 ],
 "metadata": {
  "kernelspec": {
   "display_name": "Python 3 (ipykernel)",
   "language": "python",
   "name": "python3"
  },
  "language_info": {
   "codemirror_mode": {
    "name": "ipython",
    "version": 3
   },
   "file_extension": ".py",
   "mimetype": "text/x-python",
   "name": "python",
   "nbconvert_exporter": "python",
   "pygments_lexer": "ipython3",
   "version": "3.10.4"
  }
 },
 "nbformat": 4,
 "nbformat_minor": 5
}
